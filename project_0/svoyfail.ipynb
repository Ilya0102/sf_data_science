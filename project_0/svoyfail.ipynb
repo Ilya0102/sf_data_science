{
 "cells": [
  {
   "cell_type": "markdown",
   "id": "d0ab0390",
   "metadata": {},
   "source": [
    "# Collections"
   ]
  },
  {
   "cell_type": "markdown",
   "id": "10a8369a",
   "metadata": {},
   "source": [
    "## Counter()"
   ]
  },
  {
   "cell_type": "code",
   "execution_count": 1,
   "id": "0f44bd24",
   "metadata": {},
   "outputs": [],
   "source": [
    "from collections import Counter\n",
    "c = Counter()"
   ]
  },
  {
   "cell_type": "code",
   "execution_count": 2,
   "id": "fd43130b",
   "metadata": {},
   "outputs": [],
   "source": [
    "cars = ['red', 'blue', 'black', 'black', 'black', 'red', 'blue', 'red', 'white']"
   ]
  },
  {
   "cell_type": "code",
   "execution_count": 3,
   "id": "480e0a8c",
   "metadata": {},
   "outputs": [
    {
     "name": "stdout",
     "output_type": "stream",
     "text": [
      "Counter({'red': 3, 'black': 3, 'blue': 2, 'white': 1})\n"
     ]
    }
   ],
   "source": [
    "c = Counter(cars)\n",
    "print(c)"
   ]
  },
  {
   "cell_type": "code",
   "execution_count": 4,
   "id": "f0daeedc",
   "metadata": {},
   "outputs": [
    {
     "name": "stdout",
     "output_type": "stream",
     "text": [
      "3\n"
     ]
    }
   ],
   "source": [
    "print(c['black'])"
   ]
  },
  {
   "cell_type": "markdown",
   "id": "8e6744bf",
   "metadata": {},
   "source": [
    "### Сумма"
   ]
  },
  {
   "cell_type": "code",
   "execution_count": 5,
   "id": "2e927e81",
   "metadata": {},
   "outputs": [
    {
     "name": "stdout",
     "output_type": "stream",
     "text": [
      "9\n"
     ]
    }
   ],
   "source": [
    "print(sum(c.values()))"
   ]
  },
  {
   "cell_type": "code",
   "execution_count": 6,
   "id": "2fe3cd9d",
   "metadata": {},
   "outputs": [
    {
     "name": "stdout",
     "output_type": "stream",
     "text": [
      "dict_values([3, 2, 3, 1])\n"
     ]
    }
   ],
   "source": [
    "print(c.values())"
   ]
  },
  {
   "cell_type": "markdown",
   "id": "8a46e1c2",
   "metadata": {},
   "source": [
    "### Сложение, Вычитание"
   ]
  },
  {
   "cell_type": "code",
   "execution_count": 19,
   "id": "280cfcbc",
   "metadata": {},
   "outputs": [],
   "source": [
    "cars_moscow = ['black', 'black', 'white', 'black', 'black', 'white', 'yellow', 'yellow', 'yellow']\n",
    "cars_spb = ['red', 'black', 'black', 'white', 'white', 'yellow', 'yellow', 'red', 'white']"
   ]
  },
  {
   "cell_type": "code",
   "execution_count": 20,
   "id": "090389b8",
   "metadata": {},
   "outputs": [
    {
     "name": "stdout",
     "output_type": "stream",
     "text": [
      "Counter({'black': 4, 'yellow': 3, 'white': 2})\n",
      "Counter({'white': 3, 'red': 2, 'black': 2, 'yellow': 2})\n"
     ]
    }
   ],
   "source": [
    "counter_moscow = Counter(cars_moscow)\n",
    "counter_spb = Counter(cars_spb)\n",
    " \n",
    "print(counter_moscow)\n",
    "print(counter_spb)"
   ]
  },
  {
   "cell_type": "code",
   "execution_count": 21,
   "id": "5da764df",
   "metadata": {},
   "outputs": [
    {
     "name": "stdout",
     "output_type": "stream",
     "text": [
      "Counter({'black': 6, 'white': 5, 'yellow': 5, 'red': 2})\n"
     ]
    }
   ],
   "source": [
    "print(counter_moscow + counter_spb)"
   ]
  },
  {
   "cell_type": "code",
   "execution_count": 70,
   "id": "2c1564bf",
   "metadata": {},
   "outputs": [
    {
     "name": "stdout",
     "output_type": "stream",
     "text": [
      "Counter({'black': 4, 'yellow': 3, 'white': 2})\n",
      "Counter({'white': 3, 'red': 2, 'black': 2, 'yellow': 2})\n",
      "moscow - spb Counter({'black': 2, 'yellow': 1, 'white': -1, 'red': -2})\n"
     ]
    }
   ],
   "source": [
    "print(counter_moscow)\n",
    "print(counter_spb)\n",
    " \n",
    "counter_moscow.subtract(counter_spb)\n",
    "print(f'moscow - spb {counter_moscow}')"
   ]
  },
  {
   "cell_type": "code",
   "execution_count": 23,
   "id": "8c260c88",
   "metadata": {},
   "outputs": [
    {
     "name": "stdout",
     "output_type": "stream",
     "text": [
      "Counter({'black': 2, 'yellow': 1})\n"
     ]
    }
   ],
   "source": [
    "# Пересоздаём счётчики, потому что объект counter_moscow поменял свои значения\n",
    "# после функции subtract.\n",
    "counter_moscow = Counter(cars_moscow)\n",
    "counter_spb = Counter(cars_spb)\n",
    " \n",
    "print(counter_moscow - counter_spb)"
   ]
  },
  {
   "cell_type": "markdown",
   "id": "13c15349",
   "metadata": {},
   "source": [
    "### Распаковка итератора  (*)"
   ]
  },
  {
   "cell_type": "code",
   "execution_count": null,
   "id": "14049d5b",
   "metadata": {},
   "outputs": [
    {
     "name": "stdout",
     "output_type": "stream",
     "text": [
      "black black black black white white yellow yellow yellow\n"
     ]
    }
   ],
   "source": [
    "# посмотреть все элементы списка/счётчика/словаря =)\n",
    "print(*counter_moscow.elements())"
   ]
  },
  {
   "cell_type": "code",
   "execution_count": 25,
   "id": "d7f9d7fa",
   "metadata": {},
   "outputs": [
    {
     "name": "stdout",
     "output_type": "stream",
     "text": [
      "['black', 'white', 'yellow']\n"
     ]
    }
   ],
   "source": [
    "# Список уникальных элементов\n",
    "print(list(counter_moscow))"
   ]
  },
  {
   "cell_type": "code",
   "execution_count": 26,
   "id": "575215f9",
   "metadata": {},
   "outputs": [
    {
     "name": "stdout",
     "output_type": "stream",
     "text": [
      "{'black': 4, 'white': 2, 'yellow': 3}\n"
     ]
    }
   ],
   "source": [
    "# превратить в обычный словарь\n",
    "print(dict(counter_moscow))"
   ]
  },
  {
   "cell_type": "code",
   "execution_count": 29,
   "id": "a454f3be",
   "metadata": {},
   "outputs": [
    {
     "name": "stdout",
     "output_type": "stream",
     "text": [
      "[('black', 4), ('yellow', 3), ('white', 2)]\n",
      "[('black', 4), ('yellow', 3)]\n"
     ]
    }
   ],
   "source": [
    "# получаем список из кортежей элементов в порядке убывания\n",
    "print(counter_moscow.most_common())\n",
    "print(counter_moscow.most_common(2)) # ограничеваем число \n",
    "                             #    -отображаемых элементов"
   ]
  },
  {
   "cell_type": "markdown",
   "id": "ede2c5b1",
   "metadata": {},
   "source": [
    "## Defaultdict"
   ]
  },
  {
   "cell_type": "code",
   "execution_count": 30,
   "id": "59383692",
   "metadata": {},
   "outputs": [],
   "source": [
    "students = [('Ivanov',1),('Smirnov',4),('Petrov',3),('Kuznetsova',1),\n",
    "            ('Nikitina',2),('Markov',3),('Pavlov',2)]"
   ]
  },
  {
   "cell_type": "code",
   "execution_count": 31,
   "id": "1d9fcf70",
   "metadata": {},
   "outputs": [
    {
     "name": "stdout",
     "output_type": "stream",
     "text": [
      "{1: ['Ivanov', 'Kuznetsova'], 4: ['Smirnov'], 3: ['Petrov', 'Markov'], 2: ['Nikitina', 'Pavlov']}\n"
     ]
    }
   ],
   "source": [
    "groups = dict()\n",
    " \n",
    "for student, group in students:\n",
    "    # Проверяем, есть ли уже эта группа в словаре\n",
    "    if group not in groups:\n",
    "        # Если группы ещё нет в словаре, создаём для неё пустой список\n",
    "        groups[group] = list()\n",
    "    groups[group].append(student)\n",
    " \n",
    "print(groups)"
   ]
  },
  {
   "cell_type": "code",
   "execution_count": 32,
   "id": "44032665",
   "metadata": {},
   "outputs": [],
   "source": [
    "from collections import defaultdict\n",
    "groups = defaultdict(list)"
   ]
  },
  {
   "cell_type": "code",
   "execution_count": 33,
   "id": "9dec6207",
   "metadata": {},
   "outputs": [
    {
     "name": "stdout",
     "output_type": "stream",
     "text": [
      "defaultdict(<class 'list'>, {1: ['Ivanov', 'Kuznetsova'], 4: ['Smirnov'], 3: ['Petrov', 'Markov'], 2: ['Nikitina', 'Pavlov']})\n"
     ]
    }
   ],
   "source": [
    "for student, group in students:\n",
    "    groups[group].append(student)\n",
    " \n",
    "print(groups)"
   ]
  },
  {
   "cell_type": "code",
   "execution_count": 34,
   "id": "2ab4529f",
   "metadata": {},
   "outputs": [
    {
     "name": "stdout",
     "output_type": "stream",
     "text": [
      "['Petrov', 'Markov']\n"
     ]
    }
   ],
   "source": [
    "print(groups[3])"
   ]
  },
  {
   "cell_type": "markdown",
   "id": "cce2a783",
   "metadata": {},
   "source": [
    "## OrderedDict "
   ]
  },
  {
   "cell_type": "code",
   "execution_count": 37,
   "id": "b7b85814",
   "metadata": {},
   "outputs": [
    {
     "name": "stdout",
     "output_type": "stream",
     "text": [
      "{'Ivan': 19, 'Mark': 25, 'Andrey': 23, 'Maria': 20}\n"
     ]
    }
   ],
   "source": [
    "# Напоминаем способ создания словаря через список кортежей\n",
    "# (ключ, значение)\n",
    "data = [('Ivan', 19),('Mark', 25),('Andrey', 23),('Maria', 20)]\n",
    "client_ages = dict(data)\n",
    "print(client_ages)"
   ]
  },
  {
   "cell_type": "markdown",
   "id": "ddb1a4a3",
   "metadata": {},
   "source": [
    "Специальный словарь, который гарантирует сохранение ключей в порядке их добавления, называется OrderedDict:"
   ]
  },
  {
   "cell_type": "code",
   "execution_count": 38,
   "id": "604d988d",
   "metadata": {},
   "outputs": [
    {
     "name": "stdout",
     "output_type": "stream",
     "text": [
      "OrderedDict({'Ivan': 19, 'Mark': 25, 'Andrey': 23, 'Maria': 20})\n"
     ]
    }
   ],
   "source": [
    "from collections import OrderedDict\n",
    "data = [('Ivan', 19),('Mark', 25),('Andrey', 23),('Maria', 20)]\n",
    "ordered_client_ages = OrderedDict(data)\n",
    "print(ordered_client_ages)"
   ]
  },
  {
   "cell_type": "markdown",
   "id": "f0a5a294",
   "metadata": {},
   "source": [
    "## Deque \"дек\" - очередь"
   ]
  },
  {
   "cell_type": "code",
   "execution_count": 39,
   "id": "906971ac",
   "metadata": {},
   "outputs": [
    {
     "name": "stdout",
     "output_type": "stream",
     "text": [
      "deque([])\n"
     ]
    }
   ],
   "source": [
    "from collections import deque\n",
    "dq = deque()\n",
    "print(dq)"
   ]
  },
  {
   "cell_type": "markdown",
   "id": "8a751b00",
   "metadata": {},
   "source": [
    "У deque есть четыре ключевые функции:\n",
    "\n",
    "append (добавить элемент в конец дека);\n",
    "appendleft (добавить элемент в начало дека);\n",
    "pop (удалить и вернуть элемент из конца дека);\n",
    "popleft (удалить и вернуть элемент из начала дека)."
   ]
  },
  {
   "cell_type": "code",
   "execution_count": 41,
   "id": "a1bd6577",
   "metadata": {},
   "outputs": [
    {
     "name": "stdout",
     "output_type": "stream",
     "text": [
      "deque(['Ivanov', 'Petrov', 'Smirnov', 'Tikhonova'])\n",
      "Smirnov\n"
     ]
    }
   ],
   "source": [
    "clients = deque()\n",
    "clients.append('Ivanov')\n",
    "clients.append('Petrov')\n",
    "clients.append('Smirnov')\n",
    "clients.append('Tikhonova')\n",
    "print(clients)\n",
    "print(clients[2])"
   ]
  },
  {
   "cell_type": "code",
   "execution_count": null,
   "id": "e3f62292",
   "metadata": {},
   "outputs": [
    {
     "name": "stdout",
     "output_type": "stream",
     "text": [
      "deque(['Vip-client', 'Ivanov', 'Petrov', 'Smirnov', 'Tikhonova'])\n"
     ]
    }
   ],
   "source": [
    "# добавляем в начало очереди\n",
    "clients.appendleft('Vip-client')\n",
    "print(clients)"
   ]
  },
  {
   "cell_type": "code",
   "execution_count": null,
   "id": "636d3afe",
   "metadata": {},
   "outputs": [
    {
     "name": "stdout",
     "output_type": "stream",
     "text": [
      "Tikhonova left the queue\n",
      "deque(['Vip-client', 'Ivanov', 'Petrov', 'Smirnov'])\n"
     ]
    }
   ],
   "source": [
    "# удаляем из начала очереди\n",
    "tired_client = clients.pop()\n",
    "print(tired_client, \"left the queue\")\n",
    "print(clients)"
   ]
  },
  {
   "cell_type": "code",
   "execution_count": null,
   "id": "381c9b48",
   "metadata": {},
   "outputs": [
    {
     "name": "stdout",
     "output_type": "stream",
     "text": [
      "deque(['Ivanov', 'Petrov', 'Smirnov', 'Tikhonova'])\n",
      "deque(['Ivanov', 'Petrov', 'Tikhonova'])\n"
     ]
    }
   ],
   "source": [
    "clients = deque(['Ivanov', 'Petrov', 'Smirnov', 'Tikhonova'])\n",
    "print(clients)\n",
    "# Удаляем клиента номер 3\n",
    "del clients[2]  \n",
    "print(clients)"
   ]
  },
  {
   "cell_type": "markdown",
   "id": "1cac2924",
   "metadata": {},
   "source": [
    "Также в очередь возможно добавить сразу несколько элементов из итерируемого объекта в дек. Для этого используют функции extend (добавить в конец дека) и extendleft (добавить в начало дека)."
   ]
  },
  {
   "cell_type": "code",
   "execution_count": 46,
   "id": "04fad37a",
   "metadata": {},
   "outputs": [
    {
     "name": "stdout",
     "output_type": "stream",
     "text": [
      "deque([1, 2, 3, 4, 5])\n",
      "deque([1, 2, 3, 4, 5, 11, 12, 13, 14, 15, 16, 17])\n"
     ]
    }
   ],
   "source": [
    "# В скобках передаём список при создании deque,\n",
    "# чтобы сразу добавить все его элементы в очередь\n",
    "shop = deque([1, 2, 3, 4, 5])\n",
    "print(shop)\n",
    "\n",
    "shop.extend([11, 12, 13, 14, 15, 16, 17])\n",
    "print(shop)"
   ]
  },
  {
   "cell_type": "code",
   "execution_count": null,
   "id": "987b31b7",
   "metadata": {},
   "outputs": [
    {
     "name": "stdout",
     "output_type": "stream",
     "text": [
      "deque([1, 2, 3, 4, 5])\n",
      "deque([17, 16, 15, 14, 13, 12, 11, 1, 2, 3, 4, 5])\n"
     ]
    }
   ],
   "source": [
    "shop = deque([1, 2, 3, 4, 5])\n",
    "print(shop)\n",
    "# добавить слева(в начало очереди с переворотом)\n",
    "shop.extendleft([11, 12, 13, 14, 15, 16, 17])\n",
    "print(shop)"
   ]
  },
  {
   "cell_type": "code",
   "execution_count": null,
   "id": "788c64ac",
   "metadata": {},
   "outputs": [
    {
     "name": "stdout",
     "output_type": "stream",
     "text": [
      "deque([], maxlen=3)\n",
      "deque([5, 6, 7], maxlen=3)\n"
     ]
    }
   ],
   "source": [
    "# максимальная длина очереди\n",
    "limited = deque(maxlen=3)\n",
    "print(limited)\n",
    " \n",
    "limited_from_list = deque([1,3,4,5,6,7], maxlen=3)\n",
    "print(limited_from_list)"
   ]
  },
  {
   "cell_type": "code",
   "execution_count": 49,
   "id": "2d6a0610",
   "metadata": {},
   "outputs": [
    {
     "name": "stdout",
     "output_type": "stream",
     "text": [
      "deque([1, 2, 3], maxlen=3)\n",
      "None\n",
      "deque([2, 3, 8], maxlen=3)\n"
     ]
    }
   ],
   "source": [
    "limited.extend([1,2,3])\n",
    "print(limited)\n",
    " \n",
    "print(limited.append(8))\n",
    "print(limited)"
   ]
  },
  {
   "cell_type": "code",
   "execution_count": 50,
   "id": "6f609481",
   "metadata": {},
   "outputs": [],
   "source": [
    "temps = [20.6, 19.4, 19.0, 19.0, 22.1,\n",
    "        22.5, 22.8, 24.1, 25.6, 27.0,\n",
    "        27.0, 25.6, 26.8, 27.3, 22.5,\n",
    "        25.4, 24.4, 23.7, 23.6, 22.6,\n",
    "        20.4, 17.9, 17.3, 17.3, 18.1,\n",
    "        20.1, 22.2, 19.8, 21.3, 21.3,\n",
    "        21.9]"
   ]
  },
  {
   "cell_type": "code",
   "execution_count": 51,
   "id": "d9d34093",
   "metadata": {},
   "outputs": [
    {
     "name": "stdout",
     "output_type": "stream",
     "text": [
      "20.77; 21.27; 22.16; 23.3; 24.44; 24.94; 25.56; 26.2; 25.97; 25.94; 25.57; 25.1; 24.81; 24.21; 23.23; 22.57; 21.41; 20.4; 19.6; 19.1; 19.04; 18.96; 19.44; 20.01; 20.67; \n"
     ]
    }
   ],
   "source": [
    "days = deque(maxlen=7)\n",
    " \n",
    "for temp in temps:\n",
    "    # Добавляем температуру в очередь\n",
    "    days.append(temp)\n",
    "    # Если длина очереди оказалась равной максимальной длине очереди (7),\n",
    "    # печатаем среднюю температуру за последние 7 дней\n",
    "    if len(days) == days.maxlen:\n",
    "        print(round(sum(days) / len(days), 2), end='; ')\n",
    "# Напечатаем пустую строку, чтобы завершить действие параметра\n",
    "# end. Иначе следующая строка окажется напечатанной на предыдущей\n",
    "print(\"\")"
   ]
  },
  {
   "cell_type": "code",
   "execution_count": 53,
   "id": "ad7896cf",
   "metadata": {},
   "outputs": [
    {
     "name": "stdout",
     "output_type": "stream",
     "text": [
      "deque([1, 2, 3, 4, 5])\n",
      "deque([5, 4, 3, 2, 1])\n"
     ]
    }
   ],
   "source": [
    "# reverse позволяет поменять порядок элементов в очереди на обратный:\n",
    "dq = deque([1,2,3,4,5])\n",
    "print(dq)\n",
    " \n",
    "dq.reverse()\n",
    "print(dq)"
   ]
  },
  {
   "cell_type": "code",
   "execution_count": null,
   "id": "1a80a613",
   "metadata": {},
   "outputs": [
    {
     "name": "stdout",
     "output_type": "stream",
     "text": [
      "deque([1, 2, 3, 4, 5])\n",
      "deque([4, 5, 1, 2, 3])\n"
     ]
    }
   ],
   "source": [
    "# rotate переносит n заданных элементов из конца очереди в начало:\n",
    "\n",
    "dq = deque([1,2,3,4,5])\n",
    "print(dq)\n",
    " \n",
    "dq.rotate(2)\n",
    "print(dq)"
   ]
  },
  {
   "cell_type": "code",
   "execution_count": 55,
   "id": "f6f99697",
   "metadata": {},
   "outputs": [
    {
     "name": "stdout",
     "output_type": "stream",
     "text": [
      "deque([1, 2, 3, 4, 5])\n",
      "deque([3, 4, 5, 1, 2])\n"
     ]
    }
   ],
   "source": [
    "dq = deque([1,2,3,4,5])\n",
    "print(dq)\n",
    " \n",
    "# Отрицательное значение аргумента переносит\n",
    "# n элементов из начала в конец\n",
    "dq.rotate(-2)\n",
    "print(dq)"
   ]
  },
  {
   "cell_type": "code",
   "execution_count": 64,
   "id": "b0e285ca",
   "metadata": {},
   "outputs": [
    {
     "name": "stdout",
     "output_type": "stream",
     "text": [
      "2\n",
      "6\n"
     ]
    }
   ],
   "source": [
    "#  index позволяет найти первый индекс искомого элемента,\n",
    "# а count позволяет подсчитать, сколько раз элемент встретился в очереди\n",
    "dq = [1,2,4,2,3,1,5,4,4,4,4,4,3]\n",
    "print(dq.index(4))\n",
    "print(dq.count(4))# вхождения "
   ]
  },
  {
   "cell_type": "code",
   "execution_count": null,
   "id": "57d919a9",
   "metadata": {},
   "outputs": [],
   "source": [
    "# clear позволяет очистить очередь:\n",
    "dq = deque([1,2,4,2,3,1,5,4,4,4,4,4,3])\n",
    "print(dq)\n",
    "dq.clear()\n",
    "print(dq)"
   ]
  },
  {
   "cell_type": "markdown",
   "id": "25530f8f",
   "metadata": {},
   "source": [
    "# Задача"
   ]
  },
  {
   "cell_type": "code",
   "execution_count": 69,
   "id": "203ee9d4",
   "metadata": {},
   "outputs": [
    {
     "name": "stdout",
     "output_type": "stream",
     "text": [
      "OrderedDict({'2020': 1.5, '2005': -1.6, '2008': -1.7, '2007': -2.4, '2001': -2.5, '2015': -2.7, '2018': -2.9, '2009': -3.5, '2017': -3.9, '2000': -4.4, '2002': -4.4, '2012': -4.9, '2011': -5.8, '2006': -5.9, '2013': -6.1, '2019': -6.5, '2014': -6.9, '2004': -8.2, '2003': -9.5, '2016': -11.2, '2010': -12.1})\n"
     ]
    }
   ],
   "source": [
    "temps = [('2000', -4.4), ('2001', -2.5), ('2002', -4.4), ('2003', -9.5), ('2004', -8.2), ('2005', -1.6), ('2006', -5.9), ('2007', -2.4), ('2008', -1.7), ('2009', -3.5), ('2010', -12.1), ('2011', -5.8), ('2012', -4.9), ('2013', -6.1), ('2014', -6.9), ('2015', -2.7), ('2016', -11.2), ('2017', -3.9), ('2018', -2.9), ('2019', -6.5), ('2020', 1.5)]\n",
    "\n",
    "def check(temps):\n",
    "    sort_temp = OrderedDict(sorted(temps, key=lambda x: -x[1]))\n",
    "    return sort_temp\n",
    "print(check(temps))"
   ]
  },
  {
   "cell_type": "markdown",
   "id": "f2e7f536",
   "metadata": {},
   "source": [
    "# NumPy библиотеки"
   ]
  },
  {
   "cell_type": "markdown",
   "id": "2220e1bb",
   "metadata": {},
   "source": [
    "### Целочисленные типы данных в NumPy"
   ]
  },
  {
   "cell_type": "code",
   "execution_count": 1,
   "id": "3d9ee4f5",
   "metadata": {},
   "outputs": [],
   "source": [
    "import numpy as np"
   ]
  },
  {
   "cell_type": "code",
   "execution_count": 75,
   "id": "f1348479",
   "metadata": {},
   "outputs": [
    {
     "data": {
      "text/plain": [
       "iinfo(min=-9223372036854775808, max=9223372036854775807, dtype=int64)"
      ]
     },
     "execution_count": 75,
     "metadata": {},
     "output_type": "execute_result"
    }
   ],
   "source": [
    "# np.iinfo(np.int8)\n",
    "# np.iinfo(np.int16)\n",
    "# np.iinfo(np.int32)\n",
    "np.iinfo(np.int64)"
   ]
  },
  {
   "cell_type": "code",
   "execution_count": 76,
   "id": "f3918881",
   "metadata": {},
   "outputs": [
    {
     "name": "stdout",
     "output_type": "stream",
     "text": [
      "124\n",
      "<class 'numpy.uint8'>\n"
     ]
    },
    {
     "data": {
      "text/plain": [
       "iinfo(min=0, max=255, dtype=uint8)"
      ]
     },
     "execution_count": 76,
     "metadata": {},
     "output_type": "execute_result"
    }
   ],
   "source": [
    "b = np.uint8(124)\n",
    "print(b)\n",
    "\n",
    "print(type(b))\n",
    "\n",
    "np.iinfo(b)"
   ]
  },
  {
   "cell_type": "code",
   "execution_count": 77,
   "id": "dd4560ac",
   "metadata": {},
   "outputs": [
    {
     "name": "stdout",
     "output_type": "stream",
     "text": [
      "<class 'numpy.bool_'>\n",
      "<class 'numpy.bytes_'>\n",
      "<class 'numpy.clongdouble'>\n",
      "<class 'numpy.complex128'>\n",
      "<class 'numpy.complex64'>\n",
      "<class 'numpy.datetime64'>\n",
      "<class 'numpy.float16'>\n",
      "<class 'numpy.float32'>\n",
      "<class 'numpy.float64'>\n",
      "<class 'numpy.int16'>\n",
      "<class 'numpy.int32'>\n",
      "<class 'numpy.int64'>\n",
      "<class 'numpy.int8'>\n",
      "<class 'numpy.longdouble'>\n",
      "<class 'numpy.longlong'>\n",
      "<class 'numpy.object_'>\n",
      "<class 'numpy.str_'>\n",
      "<class 'numpy.timedelta64'>\n",
      "<class 'numpy.uint16'>\n",
      "<class 'numpy.uint32'>\n",
      "<class 'numpy.uint64'>\n",
      "<class 'numpy.uint8'>\n",
      "<class 'numpy.ulonglong'>\n",
      "<class 'numpy.void'>\n"
     ]
    }
   ],
   "source": [
    "print(*sorted(map(str, set(np.sctypeDict.values()))), sep='\\n')"
   ]
  },
  {
   "cell_type": "markdown",
   "id": "49e79825",
   "metadata": {},
   "source": [
    "## Масствы"
   ]
  },
  {
   "cell_type": "code",
   "execution_count": 2,
   "id": "e04f20ca",
   "metadata": {},
   "outputs": [
    {
     "data": {
      "text/plain": [
       "array([ 1,  5,  2,  9, 10])"
      ]
     },
     "execution_count": 2,
     "metadata": {},
     "output_type": "execute_result"
    }
   ],
   "source": [
    "arr = np.array([1,5,2,9,10])\n",
    "arr"
   ]
  },
  {
   "cell_type": "code",
   "execution_count": 3,
   "id": "b237daad",
   "metadata": {},
   "outputs": [
    {
     "name": "stdout",
     "output_type": "stream",
     "text": [
      "<class 'numpy.ndarray'>\n"
     ]
    }
   ],
   "source": [
    "print(type(arr))"
   ]
  },
  {
   "cell_type": "code",
   "execution_count": 4,
   "id": "21906f38",
   "metadata": {},
   "outputs": [
    {
     "data": {
      "text/plain": [
       "array([[12, 45, 78],\n",
       "       [34, 56, 13],\n",
       "       [12, 98, 76]])"
      ]
     },
     "execution_count": 4,
     "metadata": {},
     "output_type": "execute_result"
    }
   ],
   "source": [
    "# Перечислить список из списков можно\n",
    "# было и в одну строку, но на нескольких\n",
    "# строках получается нагляднее\n",
    "nd_arr = np.array([\n",
    "               [12, 45, 78],\n",
    "               [34, 56, 13],\n",
    "               [12, 98, 76]\n",
    "               ])\n",
    "nd_arr"
   ]
  },
  {
   "cell_type": "code",
   "execution_count": 5,
   "id": "be7b85fb",
   "metadata": {},
   "outputs": [
    {
     "data": {
      "text/plain": [
       "dtype('int64')"
      ]
     },
     "execution_count": 5,
     "metadata": {},
     "output_type": "execute_result"
    }
   ],
   "source": [
    "arr.dtype"
   ]
  },
  {
   "cell_type": "code",
   "execution_count": 6,
   "id": "5162ee71",
   "metadata": {},
   "outputs": [
    {
     "data": {
      "text/plain": [
       "array([ 1,  5,  2,  9, 10], dtype=int8)"
      ]
     },
     "execution_count": 6,
     "metadata": {},
     "output_type": "execute_result"
    }
   ],
   "source": [
    "arr = np.array([1,5,2,9,10], dtype=np.int8)\n",
    "arr"
   ]
  },
  {
   "cell_type": "code",
   "execution_count": 7,
   "id": "6c80d55f",
   "metadata": {},
   "outputs": [
    {
     "name": "stderr",
     "output_type": "stream",
     "text": [
      "/tmp/ipykernel_4273/4005198755.py:1: DeprecationWarning: NumPy will stop allowing conversion of out-of-bound Python integers to integer arrays.  The conversion of 2000 to int8 will fail in the future.\n",
      "For the old behavior, usually:\n",
      "    np.array(value).astype(dtype)\n",
      "will give the desired result (the cast overflows).\n",
      "  arr[2] = 2000\n"
     ]
    },
    {
     "data": {
      "text/plain": [
       "array([  1,   5, -48,   9,  10], dtype=int8)"
      ]
     },
     "execution_count": 7,
     "metadata": {},
     "output_type": "execute_result"
    }
   ],
   "source": [
    "arr[2] = 2000\n",
    "arr"
   ]
  },
  {
   "cell_type": "code",
   "execution_count": 8,
   "id": "8a7429af",
   "metadata": {},
   "outputs": [
    {
     "data": {
      "text/plain": [
       "array([  1.,   5., -48.,   9.,  10.], dtype=float128)"
      ]
     },
     "execution_count": 8,
     "metadata": {},
     "output_type": "execute_result"
    }
   ],
   "source": [
    "arr = np.float128(arr)\n",
    "arr"
   ]
  },
  {
   "cell_type": "code",
   "execution_count": 9,
   "id": "12f00383",
   "metadata": {},
   "outputs": [],
   "source": [
    "arr = np.array([1,5,2,9,10], dtype=np.int8)\n",
    "nd_arr = np.array([\n",
    "               [12, 45, 78],\n",
    "               [34, 56, 13],\n",
    "               [12, 98, 76]\n",
    "               ], dtype=np.int16)"
   ]
  },
  {
   "cell_type": "code",
   "execution_count": 11,
   "id": "d150431a",
   "metadata": {},
   "outputs": [
    {
     "data": {
      "text/plain": [
       "1"
      ]
     },
     "execution_count": 11,
     "metadata": {},
     "output_type": "execute_result"
    }
   ],
   "source": [
    "# Узнать размерность массива можно с помощью .ndim:\n",
    "arr.ndim"
   ]
  },
  {
   "cell_type": "code",
   "execution_count": 12,
   "id": "8c39eae0",
   "metadata": {},
   "outputs": [
    {
     "data": {
      "text/plain": [
       "2"
      ]
     },
     "execution_count": 12,
     "metadata": {},
     "output_type": "execute_result"
    }
   ],
   "source": [
    "nd_arr.ndim"
   ]
  },
  {
   "cell_type": "code",
   "execution_count": null,
   "id": "2e2353fa",
   "metadata": {},
   "outputs": [
    {
     "data": {
      "text/plain": [
       "5"
      ]
     },
     "execution_count": 13,
     "metadata": {},
     "output_type": "execute_result"
    }
   ],
   "source": [
    "# Узнать общее число элементов в массиве можно с помощью .size:\n",
    "arr.size"
   ]
  },
  {
   "cell_type": "code",
   "execution_count": 14,
   "id": "dfa5ab31",
   "metadata": {},
   "outputs": [
    {
     "data": {
      "text/plain": [
       "(5,)"
      ]
     },
     "execution_count": 14,
     "metadata": {},
     "output_type": "execute_result"
    }
   ],
   "source": [
    "# Форма или структура массива хранится в атрибуте .shape:\n",
    "arr.shape"
   ]
  },
  {
   "cell_type": "code",
   "execution_count": 15,
   "id": "318e7d3f",
   "metadata": {},
   "outputs": [
    {
     "data": {
      "text/plain": [
       "(3, 3)"
      ]
     },
     "execution_count": 15,
     "metadata": {},
     "output_type": "execute_result"
    }
   ],
   "source": [
    "nd_arr.shape"
   ]
  },
  {
   "cell_type": "code",
   "execution_count": 16,
   "id": "481367e0",
   "metadata": {},
   "outputs": [
    {
     "data": {
      "text/plain": [
       "1"
      ]
     },
     "execution_count": 16,
     "metadata": {},
     "output_type": "execute_result"
    }
   ],
   "source": [
    "# Наконец, узнать, сколько «весит» каждый элемент массива в байтах позволяет .itemsize:\n",
    "\n",
    "arr.itemsize"
   ]
  },
  {
   "cell_type": "code",
   "execution_count": 17,
   "id": "7815a2e0",
   "metadata": {},
   "outputs": [
    {
     "data": {
      "text/plain": [
       "2"
      ]
     },
     "execution_count": 17,
     "metadata": {},
     "output_type": "execute_result"
    }
   ],
   "source": [
    "nd_arr.itemsize"
   ]
  },
  {
   "cell_type": "code",
   "execution_count": 18,
   "id": "94783b5a",
   "metadata": {},
   "outputs": [
    {
     "name": "stdout",
     "output_type": "stream",
     "text": [
      "(5, 4, 3)\n"
     ]
    }
   ],
   "source": [
    "# Создадим трёхмерный массив с формой 5x4x3 и типом float32:\n",
    "\n",
    "zeros_3d = np.zeros((5,4,3), dtype=np.float32)\n",
    "print(zeros_3d.shape)"
   ]
  },
  {
   "cell_type": "markdown",
   "id": "37e8a5f1",
   "metadata": {},
   "source": [
    "Ещё одной удобной функцией для создания одномерных массивов является arange. Она аналогична встроенной функции range, но обладает рядом особенностей. Вот её сигнатура: arange([start,] stop, [step,], dtype=None)."
   ]
  },
  {
   "cell_type": "code",
   "execution_count": null,
   "id": "49d58b6a",
   "metadata": {},
   "outputs": [
    {
     "data": {
      "text/plain": [
       "array([2.5, 3. , 3.5, 4. , 4.5], dtype=float16)"
      ]
     },
     "execution_count": 19,
     "metadata": {},
     "output_type": "execute_result"
    }
   ],
   "source": [
    "# Создадим массив от 2.5 до 5 с шагом 0.5 и с типом float16:\n",
    "np.arange(2.5, 5, 0.5, dtype=np.float16)"
   ]
  },
  {
   "cell_type": "markdown",
   "id": "b9776572",
   "metadata": {},
   "source": [
    "Ещё какя-то функция, типо лучше чем  arange :\n",
    "np.linspace(start, stop, num=50, endpoint=True, retstep=False, dtype=None)"
   ]
  },
  {
   "cell_type": "markdown",
   "id": "c7dd8721",
   "metadata": {},
   "source": [
    "start и stop являются обязательными параметрами, задающими начало и конец возвращаемого диапазона;\n",
    "\n",
    "num — параметр, задающий число элементов, которое должно оказаться в массиве (по умолчанию 50);\n",
    "\n",
    "endpoint — включён или исключён конец диапазона (по умолчанию включён);\n",
    "\n",
    "retstep (по умолчанию False) позволяет указать, возвращать ли использованный шаг между значениями, помимо самого массива;\n",
    "\n",
    "dtype — уже хорошо знакомый нам параметр, задающий тип данных (если не задан, определяется автоматически)."
   ]
  },
  {
   "cell_type": "code",
   "execution_count": 20,
   "id": "f054f43f",
   "metadata": {},
   "outputs": [
    {
     "data": {
      "text/plain": [
       "array([1.        , 1.11111111, 1.22222222, 1.33333333, 1.44444444,\n",
       "       1.55555556, 1.66666667, 1.77777778, 1.88888889, 2.        ])"
      ]
     },
     "execution_count": 20,
     "metadata": {},
     "output_type": "execute_result"
    }
   ],
   "source": [
    "# Давайте потренируемся. Создадим массив из десяти чисел между 1 и 2:\n",
    "\n",
    "arr = np.linspace(1, 2, 10)\n",
    "arr"
   ]
  },
  {
   "cell_type": "code",
   "execution_count": 21,
   "id": "f1ee6300",
   "metadata": {},
   "outputs": [
    {
     "data": {
      "text/plain": [
       "array([1. , 1.1, 1.2, 1.3, 1.4, 1.5, 1.6, 1.7, 1.8, 1.9])"
      ]
     },
     "execution_count": 21,
     "metadata": {},
     "output_type": "execute_result"
    }
   ],
   "source": [
    "# Создадим массив из десяти чисел между 1 и 2, не включая 2:\n",
    "\n",
    "arr = np.linspace(1, 2, 10, endpoint=False)\n",
    "arr"
   ]
  },
  {
   "cell_type": "code",
   "execution_count": 22,
   "id": "10567a2a",
   "metadata": {},
   "outputs": [
    {
     "name": "stdout",
     "output_type": "stream",
     "text": [
      "0.1111111111111111\n"
     ]
    }
   ],
   "source": [
    "# Узнаем, какой шаг был использован для создания массива из десяти чисел между 1 и 2, где 2 включалось и не включалось:\n",
    "\n",
    "arr, step = np.linspace(1, 2, 10, endpoint=True, retstep=True)\n",
    "print(step)"
   ]
  },
  {
   "cell_type": "code",
   "execution_count": 23,
   "id": "6269e78c",
   "metadata": {},
   "outputs": [
    {
     "name": "stdout",
     "output_type": "stream",
     "text": [
      "0.1\n"
     ]
    }
   ],
   "source": [
    "arr, step = np.linspace(1, 2, 10, endpoint=False, retstep=True)\n",
    "print(step)"
   ]
  },
  {
   "cell_type": "code",
   "execution_count": 37,
   "id": "4a55e135",
   "metadata": {},
   "outputs": [
    {
     "name": "stdout",
     "output_type": "stream",
     "text": [
      "0.45\n"
     ]
    }
   ],
   "source": [
    "marr = np.linspace(-6, 21, 60)\n",
    "marr, marr_step = np.linspace(-6, 21, 60, endpoint=False, retstep=True)\n",
    "print(round(marr_step, 2))"
   ]
  },
  {
   "cell_type": "code",
   "execution_count": 36,
   "id": "fe27f4d5",
   "metadata": {},
   "outputs": [
    {
     "name": "stdout",
     "output_type": "stream",
     "text": [
      "0.46\n"
     ]
    }
   ],
   "source": [
    "# DeepSeek\n",
    "arr = np.linspace(-6, 21, 60)\n",
    "step = round(arr[1] - arr[0], 2)  # 0.46\n",
    "print(step)"
   ]
  },
  {
   "cell_type": "markdown",
   "id": "db900d4d",
   "metadata": {},
   "source": [
    "### Изменение формы массива"
   ]
  },
  {
   "cell_type": "code",
   "execution_count": 38,
   "id": "50a78a41",
   "metadata": {},
   "outputs": [
    {
     "data": {
      "text/plain": [
       "array([0, 1, 2, 3, 4, 5, 6, 7])"
      ]
     },
     "execution_count": 38,
     "metadata": {},
     "output_type": "execute_result"
    }
   ],
   "source": [
    "arr = np.arange(8)\n",
    "arr"
   ]
  },
  {
   "cell_type": "code",
   "execution_count": 39,
   "id": "0e89ce50",
   "metadata": {},
   "outputs": [
    {
     "data": {
      "text/plain": [
       "array([[0, 1, 2, 3],\n",
       "       [4, 5, 6, 7]])"
      ]
     },
     "execution_count": 39,
     "metadata": {},
     "output_type": "execute_result"
    }
   ],
   "source": [
    "# Поменять форму массива arr можно с помощью присвоения атрибуту shape кортежа с желаемой формой:\n",
    "\n",
    "arr.shape = (2, 4)\n",
    "arr"
   ]
  },
  {
   "cell_type": "code",
   "execution_count": 40,
   "id": "68c158e9",
   "metadata": {},
   "outputs": [
    {
     "data": {
      "text/plain": [
       "array([[0, 1, 2, 3],\n",
       "       [4, 5, 6, 7]])"
      ]
     },
     "execution_count": 40,
     "metadata": {},
     "output_type": "execute_result"
    }
   ],
   "source": [
    "arr = np.arange(8)\n",
    "arr_new = arr.reshape((2, 4))\n",
    "arr_new"
   ]
  },
  {
   "cell_type": "markdown",
   "id": "d2d71315",
   "metadata": {},
   "source": [
    "У функции reshape есть дополнительный именованный аргумент order. Он задаёт принцип, по которому элементы заполняют массив новой формы. Если order='C' (по умолчанию), массив заполняется по строкам, как в примере выше. Если order='F', массив заполняется числами по столбцам:"
   ]
  },
  {
   "cell_type": "code",
   "execution_count": 41,
   "id": "84fbe4e5",
   "metadata": {},
   "outputs": [
    {
     "data": {
      "text/plain": [
       "array([[0, 2, 4, 6],\n",
       "       [1, 3, 5, 7]])"
      ]
     },
     "execution_count": 41,
     "metadata": {},
     "output_type": "execute_result"
    }
   ],
   "source": [
    "arr = np.arange(8)\n",
    "arr_new = arr.reshape((2, 4), order='F')\n",
    "arr_new"
   ]
  },
  {
   "cell_type": "code",
   "execution_count": 42,
   "id": "150aa2a0",
   "metadata": {},
   "outputs": [
    {
     "data": {
      "text/plain": [
       "array([[0, 1, 2, 3],\n",
       "       [4, 5, 6, 7]])"
      ]
     },
     "execution_count": 42,
     "metadata": {},
     "output_type": "execute_result"
    }
   ],
   "source": [
    "arr = np.arange(8)\n",
    "arr.shape = (2, 4)\n",
    "arr"
   ]
  },
  {
   "cell_type": "code",
   "execution_count": null,
   "id": "9309e51c",
   "metadata": {},
   "outputs": [
    {
     "data": {
      "text/plain": [
       "array([[0, 4],\n",
       "       [1, 5],\n",
       "       [2, 6],\n",
       "       [3, 7]])"
      ]
     },
     "execution_count": 43,
     "metadata": {},
     "output_type": "execute_result"
    }
   ],
   "source": [
    "# Транспонируем его:\n",
    "arr_trans = arr.transpose()\n",
    "arr_trans"
   ]
  },
  {
   "cell_type": "code",
   "execution_count": 44,
   "id": "cfa2f04f",
   "metadata": {},
   "outputs": [
    {
     "name": "stdout",
     "output_type": "stream",
     "text": [
      "(3,)\n"
     ]
    }
   ],
   "source": [
    "# При транспонировании одномерного массива его форма не меняется:\n",
    "\n",
    "arr = np.arange(3)\n",
    "print(arr.shape)"
   ]
  },
  {
   "cell_type": "code",
   "execution_count": 45,
   "id": "2634ccc2",
   "metadata": {},
   "outputs": [
    {
     "name": "stdout",
     "output_type": "stream",
     "text": [
      "(3,)\n"
     ]
    }
   ],
   "source": [
    "arr_trans = arr.transpose()\n",
    "print(arr_trans.shape)"
   ]
  },
  {
   "cell_type": "markdown",
   "id": "7c608c33",
   "metadata": {},
   "source": [
    "### Индексы и срезы в массивах"
   ]
  },
  {
   "cell_type": "code",
   "execution_count": 46,
   "id": "e3abd146",
   "metadata": {},
   "outputs": [
    {
     "data": {
      "text/plain": [
       "array([1. , 1.2, 1.4, 1.6, 1.8, 2. ])"
      ]
     },
     "execution_count": 46,
     "metadata": {},
     "output_type": "execute_result"
    }
   ],
   "source": [
    "arr = np.linspace(1, 2, 6)\n",
    "arr"
   ]
  },
  {
   "cell_type": "code",
   "execution_count": 47,
   "id": "407fa05a",
   "metadata": {},
   "outputs": [
    {
     "name": "stdout",
     "output_type": "stream",
     "text": [
      "1.4\n"
     ]
    }
   ],
   "source": [
    "# Обратиться к его элементу по индексу можно так же, как и к списку:\n",
    "\n",
    "print(arr[2])"
   ]
  },
  {
   "cell_type": "code",
   "execution_count": 48,
   "id": "5f54def3",
   "metadata": {},
   "outputs": [
    {
     "name": "stdout",
     "output_type": "stream",
     "text": [
      "[1.4 1.6]\n"
     ]
    }
   ],
   "source": [
    "# Привычная запись для срезов работает и для одномерных массивов:\n",
    "\n",
    "print(arr[2:4])"
   ]
  },
  {
   "cell_type": "code",
   "execution_count": 49,
   "id": "c97c7f9a",
   "metadata": {},
   "outputs": [
    {
     "name": "stdout",
     "output_type": "stream",
     "text": [
      "[2.  1.8 1.6 1.4 1.2 1. ]\n"
     ]
    }
   ],
   "source": [
    "# Наконец, напечатать массив в обратном порядке можно с помощью привычной конструкции [::-1]:\n",
    "\n",
    "print(arr[::-1])"
   ]
  },
  {
   "cell_type": "code",
   "execution_count": 50,
   "id": "0dd5e2fa",
   "metadata": {},
   "outputs": [
    {
     "data": {
      "text/plain": [
       "array([[0. , 0.5, 1. , 1.5],\n",
       "       [2. , 2.5, 3. , 3.5],\n",
       "       [4. , 4.5, 5. , 5.5]])"
      ]
     },
     "execution_count": 50,
     "metadata": {},
     "output_type": "execute_result"
    }
   ],
   "source": [
    "# С многомерными массивами работать немного интереснее. Создадим двумерный массив из одномерного:\n",
    "\n",
    "nd_array =  np.linspace(0, 6, 12, endpoint=False).reshape(3,4)\n",
    "nd_array"
   ]
  },
  {
   "cell_type": "code",
   "execution_count": 51,
   "id": "a62d6beb",
   "metadata": {},
   "outputs": [
    {
     "data": {
      "text/plain": [
       "3.0"
      ]
     },
     "execution_count": 51,
     "metadata": {},
     "output_type": "execute_result"
    }
   ],
   "source": [
    "nd_array[1][2]"
   ]
  },
  {
   "cell_type": "code",
   "execution_count": 52,
   "id": "6319e497",
   "metadata": {},
   "outputs": [
    {
     "data": {
      "text/plain": [
       "3.0"
      ]
     },
     "execution_count": 52,
     "metadata": {},
     "output_type": "execute_result"
    }
   ],
   "source": [
    "nd_array[1, 2]"
   ]
  },
  {
   "cell_type": "code",
   "execution_count": 54,
   "id": "e83991b7",
   "metadata": {},
   "outputs": [
    {
     "data": {
      "text/plain": [
       "array([1., 3.])"
      ]
     },
     "execution_count": 54,
     "metadata": {},
     "output_type": "execute_result"
    }
   ],
   "source": [
    "# Также через запятую можно передавать срезы или даже их комбинации с индексами. Например, получим все элементы из колонки 3 для первых двух строк:\n",
    "\n",
    "nd_array[:2, 2]"
   ]
  },
  {
   "cell_type": "code",
   "execution_count": 53,
   "id": "c210027e",
   "metadata": {},
   "outputs": [
    {
     "data": {
      "text/plain": [
       "array([[3. , 3.5],\n",
       "       [5. , 5.5]])"
      ]
     },
     "execution_count": 53,
     "metadata": {},
     "output_type": "execute_result"
    }
   ],
   "source": [
    "# Можно применять срезы сразу и к строкам, и к столбцам:\n",
    "\n",
    "nd_array[1:, 2:4]"
   ]
  },
  {
   "cell_type": "code",
   "execution_count": 56,
   "id": "a18fab52",
   "metadata": {},
   "outputs": [
    {
     "data": {
      "text/plain": [
       "array([[1. , 1.5],\n",
       "       [3. , 3.5],\n",
       "       [5. , 5.5]])"
      ]
     },
     "execution_count": 56,
     "metadata": {},
     "output_type": "execute_result"
    }
   ],
   "source": [
    "# Чтобы получить все значения из какой-то оси, можно оставить на её месте двоеточие. Например, из всех строк получим срез с третьего по четвёртый столбцы:\n",
    "\n",
    "nd_array[:, 2:4]"
   ]
  },
  {
   "cell_type": "code",
   "execution_count": 57,
   "id": "b3e0ba64",
   "metadata": {},
   "outputs": [
    {
     "data": {
      "text/plain": [
       "array([[0. , 0.5, 1. , 1.5],\n",
       "       [2. , 2.5, 3. , 3.5]])"
      ]
     },
     "execution_count": 57,
     "metadata": {},
     "output_type": "execute_result"
    }
   ],
   "source": [
    "# Чтобы получить самую последнюю ось (в данном случае все столбцы), двоеточие писать необязательно. Строки будут получены целиком по умолчанию:\n",
    "\n",
    "nd_array[:2]"
   ]
  },
  {
   "cell_type": "markdown",
   "id": "46871127",
   "metadata": {},
   "source": [
    "### Сортировка одномерных массивов"
   ]
  },
  {
   "cell_type": "code",
   "execution_count": 58,
   "id": "e85bad2e",
   "metadata": {},
   "outputs": [
    {
     "name": "stdout",
     "output_type": "stream",
     "text": [
      "[23 12 45 12 23  4 15  3]\n",
      "[ 3  4 12 12 15 23 23 45]\n"
     ]
    }
   ],
   "source": [
    "# Способ 1. Функция np.sort(<массив>) возвращает новый отсортированный массив:\n",
    "\n",
    "arr = np.array([23,12,45,12,23,4,15,3])\n",
    "arr_new = np.sort(arr)\n",
    "print(arr)\n",
    "\n",
    "print(arr_new)"
   ]
  },
  {
   "cell_type": "code",
   "execution_count": 59,
   "id": "8b8ac5b3",
   "metadata": {},
   "outputs": [
    {
     "name": "stdout",
     "output_type": "stream",
     "text": [
      "None\n",
      "[ 3  4 12 12 15 23 23 45]\n"
     ]
    }
   ],
   "source": [
    "# Способ 2. Функция <массив>.sort() сортирует исходный массив и возвращает None:\n",
    "\n",
    "arr = np.array([23,12,45,12,23,4,15,3])\n",
    "print(arr.sort())\n",
    "\n",
    "print(arr)"
   ]
  },
  {
   "cell_type": "markdown",
   "id": "a822b9c5",
   "metadata": {},
   "source": [
    "Работа с пропущенными данными"
   ]
  },
  {
   "cell_type": "code",
   "execution_count": 60,
   "id": "90619c8e",
   "metadata": {},
   "outputs": [
    {
     "name": "stderr",
     "output_type": "stream",
     "text": [
      "/tmp/ipykernel_4273/2484779739.py:4: RuntimeWarning: invalid value encountered in sqrt\n",
      "  roots = np.sqrt(data)\n"
     ]
    },
    {
     "data": {
      "text/plain": [
       "array([2.        , 3.        ,        nan, 1.73205081])"
      ]
     },
     "execution_count": 60,
     "metadata": {},
     "output_type": "execute_result"
    }
   ],
   "source": [
    "data = np.array([4, 9, -4, 3])\n",
    "# Воспользуемся встроенной в NumPy функцией sqrt, чтобы посчитать квадратные корни из элементов.\n",
    "\n",
    "roots = np.sqrt(data)\n",
    "roots"
   ]
  },
  {
   "cell_type": "code",
   "execution_count": 61,
   "id": "9c9551b0",
   "metadata": {},
   "outputs": [
    {
     "data": {
      "text/plain": [
       "array([False, False,  True, False])"
      ]
     },
     "execution_count": 61,
     "metadata": {},
     "output_type": "execute_result"
    }
   ],
   "source": [
    "# Можно заполнить пропущенные значения, например, нулями. Для этого с помощью функции np.isnan(<массив>) узнаем, на каких местах в массиве находятся «не числа»:\n",
    "\n",
    "np.isnan(roots)"
   ]
  },
  {
   "cell_type": "code",
   "execution_count": null,
   "id": "18e83a9e",
   "metadata": {},
   "outputs": [
    {
     "data": {
      "text/plain": [
       "array([nan])"
      ]
     },
     "execution_count": 62,
     "metadata": {},
     "output_type": "execute_result"
    }
   ],
   "source": [
    "# Можно использовать полученный массив из True и False для извлечения элементов из массива roots, на месте которых в булевом массиве указано True. \n",
    "# Таким способом можно узнать сами элементы, которые удовлетворяют условию np.isnan:\n",
    "\n",
    "roots[np.isnan(roots)]"
   ]
  },
  {
   "cell_type": "code",
   "execution_count": 63,
   "id": "8ecce8bd",
   "metadata": {},
   "outputs": [
    {
     "data": {
      "text/plain": [
       "array([2.        , 3.        , 0.        , 1.73205081])"
      ]
     },
     "execution_count": 63,
     "metadata": {},
     "output_type": "execute_result"
    }
   ],
   "source": [
    "# Этим элементам можно присвоить новые значения, например 0:\n",
    "\n",
    "roots[np.isnan(roots)] = 0\n",
    "roots"
   ]
  },
  {
   "cell_type": "code",
   "execution_count": 64,
   "id": "14374093",
   "metadata": {},
   "outputs": [
    {
     "data": {
      "text/plain": [
       "6.732050807568877"
      ]
     },
     "execution_count": 64,
     "metadata": {},
     "output_type": "execute_result"
    }
   ],
   "source": [
    "# После этого, если пропущенных значений больше нет, можем подсчитать сумму элементов массива:\n",
    "\n",
    "sum(roots)"
   ]
  },
  {
   "cell_type": "code",
   "execution_count": 65,
   "id": "12f31dbd",
   "metadata": {},
   "outputs": [
    {
     "data": {
      "text/plain": [
       "True"
      ]
     },
     "execution_count": 65,
     "metadata": {},
     "output_type": "execute_result"
    }
   ],
   "source": [
    "np.isnan(np.nan)"
   ]
  },
  {
   "cell_type": "markdown",
   "id": "97ff63ef",
   "metadata": {},
   "source": [
    "### Векторы в NumPy и арифметика\n",
    "С векторами в NumPy можно производить арифметические операции: складывать, вычитать, умножать друг на друга, возводить один вектор в степень другого и т. д."
   ]
  },
  {
   "cell_type": "code",
   "execution_count": 66,
   "id": "96e264f8",
   "metadata": {},
   "outputs": [
    {
     "data": {
      "text/plain": [
       "array([14. , 10. , 10.6, 15.5])"
      ]
     },
     "execution_count": 66,
     "metadata": {},
     "output_type": "execute_result"
    }
   ],
   "source": [
    "# Произведём сложение двух векторов:\n",
    "\n",
    "import numpy as np\n",
    "vec1 = np.array([2, 4, 7, 2.5])\n",
    "vec2 = np.array([12, 6, 3.6, 13])\n",
    "vec1 + vec2"
   ]
  },
  {
   "cell_type": "code",
   "execution_count": 67,
   "id": "ff855b87",
   "metadata": {},
   "outputs": [
    {
     "data": {
      "text/plain": [
       "[2, 4, 7, 2.5, 12, 6, 3.6, 13]"
      ]
     },
     "execution_count": 67,
     "metadata": {},
     "output_type": "execute_result"
    }
   ],
   "source": [
    "# Что бы произошло при сложении двух списков? Их элементы просто объединились бы в один список:\n",
    "\n",
    "list1 = [2, 4, 7, 2.5]\n",
    "list2 = [12, 6, 3.6, 13]\n",
    "list1 + list2"
   ]
  },
  {
   "cell_type": "code",
   "execution_count": 68,
   "id": "e113e70a",
   "metadata": {},
   "outputs": [
    {
     "data": {
      "text/plain": [
       "array([24. , 24. , 25.2, 32.5])"
      ]
     },
     "execution_count": 68,
     "metadata": {},
     "output_type": "execute_result"
    }
   ],
   "source": [
    "# Поэлементно умножим два вектора одинаковой длины:\n",
    "\n",
    "vec1 = np.array([2, 4, 7, 2.5])\n",
    "vec2 = np.array([12, 6, 3.6, 13])\n",
    "vec1 * vec2"
   ]
  },
  {
   "cell_type": "code",
   "execution_count": 69,
   "id": "e2452eec",
   "metadata": {},
   "outputs": [
    {
     "data": {
      "text/plain": [
       "array([ 0,  1,  4,  9, 16])"
      ]
     },
     "execution_count": 69,
     "metadata": {},
     "output_type": "execute_result"
    }
   ],
   "source": [
    "vec = np.arange(5)\n",
    "vec * 10\n",
    "\n",
    "vec ** 2"
   ]
  },
  {
   "cell_type": "code",
   "execution_count": 73,
   "id": "7b203ac5",
   "metadata": {},
   "outputs": [
    {
     "data": {
      "text/plain": [
       "array([False, False,  True, False])"
      ]
     },
     "execution_count": 73,
     "metadata": {},
     "output_type": "execute_result"
    }
   ],
   "source": [
    "# Также векторы можно сравнивать друг с другом поэлементно:\n",
    "\n",
    "vec1 = np.array([2, 4, 7, 2.5])\n",
    "vec2 = np.array([12, 6 , 3.6, 13])\n",
    " \n",
    "vec1 > vec2"
   ]
  },
  {
   "cell_type": "code",
   "execution_count": 71,
   "id": "78540999",
   "metadata": {},
   "outputs": [
    {
     "data": {
      "text/plain": [
       "array([ True,  True,  True,  True, False,  True, False])"
      ]
     },
     "execution_count": 71,
     "metadata": {},
     "output_type": "execute_result"
    }
   ],
   "source": [
    "# Аналогично можно сравнивать вектор с числом:\n",
    "\n",
    "vec = np.array([14,15,9,26,53,5,89])\n",
    "vec <= 26"
   ]
  },
  {
   "cell_type": "markdown",
   "id": "a853ee2b",
   "metadata": {},
   "source": [
    "Продвинутые операции с векторами"
   ]
  },
  {
   "cell_type": "code",
   "execution_count": 74,
   "id": "a713b34c",
   "metadata": {},
   "outputs": [],
   "source": [
    "vec = np.array([3, 4])"
   ]
  },
  {
   "cell_type": "markdown",
   "id": "1c9e4728",
   "metadata": {},
   "source": [
    "Но можно было поступить проще. В NumPy есть специальный подмодуль linalg, который позволяет производить операции из линейной алгебры."
   ]
  },
  {
   "cell_type": "code",
   "execution_count": 75,
   "id": "76764854",
   "metadata": {},
   "outputs": [
    {
     "name": "stdout",
     "output_type": "stream",
     "text": [
      "5.0\n"
     ]
    }
   ],
   "source": [
    "# Для вычисления длины вектора нам потребуется функция norm:\n",
    "\n",
    "length = np.linalg.norm(vec)\n",
    "print(length)"
   ]
  },
  {
   "cell_type": "markdown",
   "id": "8df07c72",
   "metadata": {},
   "source": [
    "расстояние между векторами — это длина такого вектора, который является разностью этих векторов."
   ]
  },
  {
   "cell_type": "code",
   "execution_count": 76,
   "id": "20883daa",
   "metadata": {},
   "outputs": [
    {
     "data": {
      "text/plain": [
       "12.206555615733702"
      ]
     },
     "execution_count": 76,
     "metadata": {},
     "output_type": "execute_result"
    }
   ],
   "source": [
    "vec1 = np.array([0, 3, 5])\n",
    "vec2 = np.array([12, 4, 7])\n",
    "distance = np.linalg.norm(vec1 - vec2)\n",
    "distance"
   ]
  },
  {
   "cell_type": "code",
   "execution_count": null,
   "id": "af894a4c",
   "metadata": {},
   "outputs": [
    {
     "data": {
      "text/plain": [
       "250.0"
      ]
     },
     "execution_count": 78,
     "metadata": {},
     "output_type": "execute_result"
    }
   ],
   "source": [
    "# скалярным произведением двух векторов называют сумму произведений их соответствующих координат\n",
    "# Для этого используют функцию np.dot(x, y):\n",
    "vec1 = np.arange(1, 6)\n",
    "vec2 = np.linspace(10, 20, 5)\n",
    "scalar_product = np.dot(vec1, vec2)\n",
    "scalar_product"
   ]
  },
  {
   "cell_type": "code",
   "execution_count": 79,
   "id": "8fc7be4c",
   "metadata": {},
   "outputs": [
    {
     "data": {
      "text/plain": [
       "0"
      ]
     },
     "execution_count": 79,
     "metadata": {},
     "output_type": "execute_result"
    }
   ],
   "source": [
    "# равенство скалярного произведения нулю означает перпендикулярность рассматриваемых векторов:\n",
    "\n",
    "x = np.array([25, 0])\n",
    "y = np.array([0, 10])\n",
    "np.dot(x, y)"
   ]
  },
  {
   "cell_type": "code",
   "execution_count": 81,
   "id": "da10fd99",
   "metadata": {},
   "outputs": [],
   "source": [
    "a = [23, 34, 27]\n",
    "b = [-54,   1,  46] \n",
    "c = [46, 68, 54]"
   ]
  },
  {
   "cell_type": "markdown",
   "id": "55feb114",
   "metadata": {},
   "source": [
    "сумма длин сонаправленных векторов должна быть равной длине суммы двух векторов."
   ]
  },
  {
   "cell_type": "code",
   "execution_count": null,
   "id": "cd2aacb1",
   "metadata": {},
   "outputs": [],
   "source": [
    "d = np.linalg.norm(a)\n",
    "e = np.linalg.norm(b)\n",
    "f = np.linalg.norm(c)\n"
   ]
  },
  {
   "cell_type": "code",
   "execution_count": 82,
   "id": "b0cc110c",
   "metadata": {},
   "outputs": [
    {
     "name": "stdout",
     "output_type": "stream",
     "text": [
      "Пара a и c сонаправлена\n",
      "Для пары a и c:\n",
      "Сумма длин: 147.40\n",
      "Длина суммы: 147.40\n",
      "Равны: True\n"
     ]
    }
   ],
   "source": [
    "# Заданные векторы\n",
    "a = np.array([23, 34, 27])\n",
    "b = np.array([-54, 1, 46])\n",
    "c = np.array([46, 68, 54])\n",
    "\n",
    "# Функция для проверки сонаправленности\n",
    "def are_codirectional(u, v):\n",
    "    dot_product = np.dot(u, v)\n",
    "    norm_u = np.linalg.norm(u)\n",
    "    norm_v = np.linalg.norm(v)\n",
    "    return np.isclose(dot_product, norm_u * norm_v)\n",
    "\n",
    "# Проверяем все пары векторов\n",
    "pairs = [(\"a и b\", a, b),\n",
    "         (\"b и c\", b, c),\n",
    "         (\"a и c\", a, c)]\n",
    "\n",
    "for name, u, v in pairs:\n",
    "    if are_codirectional(u, v):\n",
    "        print(f\"Пара {name} сонаправлена\")\n",
    "        break\n",
    "else:\n",
    "    print(\"Такой пары нет\")\n",
    "\n",
    "# Дополнительная проверка суммы длин и длины суммы для сонаправленных векторов\n",
    "for name, u, v in pairs:\n",
    "    if are_codirectional(u, v):\n",
    "        sum_lengths = np.linalg.norm(u) + np.linalg.norm(v)\n",
    "        length_of_sum = np.linalg.norm(u + v)\n",
    "        print(f\"Для пары {name}:\")\n",
    "        print(f\"Сумма длин: {sum_lengths:.2f}\")\n",
    "        print(f\"Длина суммы: {length_of_sum:.2f}\")\n",
    "        print(f\"Равны: {np.isclose(sum_lengths, length_of_sum)}\")\n",
    "        break"
   ]
  },
  {
   "cell_type": "code",
   "execution_count": 84,
   "id": "c15df3d3",
   "metadata": {},
   "outputs": [
    {
     "name": "stdout",
     "output_type": "stream",
     "text": [
      "Перпендикулярных пар нет\n"
     ]
    }
   ],
   "source": [
    "# Заданные векторы\n",
    "a = np.array([23, 34, 27])\n",
    "b = np.array([-54, 1, 46])\n",
    "c = np.array([46, 68, 54])\n",
    "\n",
    "# Проверяем все возможные пары\n",
    "pairs = [(\"a и b\", a, b),\n",
    "         (\"a и c\", a, c),\n",
    "         (\"b и c\", b, c)]\n",
    "\n",
    "# Функция для проверки перпендикулярности\n",
    "def are_perpendicular(u, v):\n",
    "    return np.isclose(np.dot(u, v), 0)\n",
    "\n",
    "# Ищем перпендикулярные пары\n",
    "for name, u, v in pairs:\n",
    "    if are_perpendicular(u, v):\n",
    "        print(f\"Пара {name} перпендикулярна (скалярное произведение = {np.dot(u, v):.1f})\")\n",
    "        break\n",
    "else:\n",
    "    print(\"Перпендикулярных пар нет\")"
   ]
  },
  {
   "cell_type": "markdown",
   "id": "b36c4ef3",
   "metadata": {},
   "source": [
    "### Базовые статистические функции для векторов"
   ]
  },
  {
   "cell_type": "code",
   "execution_count": 85,
   "id": "88a68a94",
   "metadata": {},
   "outputs": [
    {
     "data": {
      "text/plain": [
       "1"
      ]
     },
     "execution_count": 85,
     "metadata": {},
     "output_type": "execute_result"
    }
   ],
   "source": [
    "# Функции np.min и np.max позволяют находить максимальное и минимальное значение в векторе. \n",
    "# Их можно записывать как в виде np.min(<vector>), так и в виде <vector>.min():\n",
    "\n",
    "vec = np.array([2,7,18,28,18,1,8,4])\n",
    "vec.min()"
   ]
  },
  {
   "cell_type": "code",
   "execution_count": 86,
   "id": "e8e22520",
   "metadata": {},
   "outputs": [
    {
     "data": {
      "text/plain": [
       "28"
      ]
     },
     "execution_count": 86,
     "metadata": {},
     "output_type": "execute_result"
    }
   ],
   "source": [
    "np.max(vec)"
   ]
  },
  {
   "cell_type": "code",
   "execution_count": 87,
   "id": "1c249370",
   "metadata": {},
   "outputs": [
    {
     "data": {
      "text/plain": [
       "10.75"
      ]
     },
     "execution_count": 87,
     "metadata": {},
     "output_type": "execute_result"
    }
   ],
   "source": [
    "# Функция mean позволяет посчитать среднее значение. Больше не требуется реализовывать её «руками»!\n",
    "\n",
    "vec.mean()"
   ]
  },
  {
   "cell_type": "code",
   "execution_count": 88,
   "id": "de4760ec",
   "metadata": {},
   "outputs": [
    {
     "name": "stdout",
     "output_type": "stream",
     "text": [
      "Медиана: 7.5\n"
     ]
    }
   ],
   "source": [
    "# Вычисление медианы\n",
    "median_value = np.median(vec)\n",
    "\n",
    "print(\"Медиана:\", median_value)"
   ]
  },
  {
   "cell_type": "code",
   "execution_count": 89,
   "id": "62c6b786",
   "metadata": {},
   "outputs": [
    {
     "name": "stdout",
     "output_type": "stream",
     "text": [
      "8.95\n"
     ]
    }
   ],
   "source": [
    "# стандартное отклонение значений в массиве\n",
    "std_dev = round(np.std(vec),2)\n",
    "print(std_dev)"
   ]
  },
  {
   "cell_type": "markdown",
   "id": "fdb0a069",
   "metadata": {},
   "source": [
    "### Случайные числа в NumPy\n",
    "Генерация float"
   ]
  },
  {
   "cell_type": "code",
   "execution_count": 90,
   "id": "56bc7799",
   "metadata": {},
   "outputs": [
    {
     "data": {
      "text/plain": [
       "0.009079737178654623"
      ]
     },
     "execution_count": 90,
     "metadata": {},
     "output_type": "execute_result"
    }
   ],
   "source": [
    "# Для генерации псевдослучайных чисел в NumPy существует подмодуль random.\n",
    "\n",
    "# Самой «базовой» функцией в нём можно считать функцию rand. По умолчанию она генерирует число с плавающей точкой между 0 (включительно) и 1 (не включительно):\n",
    "\n",
    "import numpy as np\n",
    "np.random.rand()"
   ]
  },
  {
   "cell_type": "code",
   "execution_count": 91,
   "id": "ba5ab8bb",
   "metadata": {},
   "outputs": [
    {
     "data": {
      "text/plain": [
       "23.7024423172035"
      ]
     },
     "execution_count": 91,
     "metadata": {},
     "output_type": "execute_result"
    }
   ],
   "source": [
    "# Чтобы получить случайное число в диапазоне, например, от 0 до 100, достаточно просто умножить генерируемое число на 100:\n",
    "\n",
    "np.random.rand() * 100"
   ]
  },
  {
   "cell_type": "code",
   "execution_count": 92,
   "id": "029f03b8",
   "metadata": {},
   "outputs": [
    {
     "data": {
      "text/plain": [
       "array([0.90989529, 0.89627152, 0.77838203, 0.29466662, 0.37687829])"
      ]
     },
     "execution_count": 92,
     "metadata": {},
     "output_type": "execute_result"
    }
   ],
   "source": [
    "# На самом деле rand умеет генерировать не только отдельные числа — функция принимает в качестве аргументов через запятую целые числа,\n",
    "# которые задают форму генерируемого массива. Например, получим массив из пяти случайных чисел:\n",
    "\n",
    "np.random.rand(5)"
   ]
  },
  {
   "cell_type": "code",
   "execution_count": 93,
   "id": "03753271",
   "metadata": {},
   "outputs": [
    {
     "data": {
      "text/plain": [
       "array([[0.67601312, 0.75015732, 0.52212277],\n",
       "       [0.49661403, 0.94051056, 0.33349214]])"
      ]
     },
     "execution_count": 93,
     "metadata": {},
     "output_type": "execute_result"
    }
   ],
   "source": [
    "# Массив из двух случайных строк и трёх столбцов:\n",
    "\n",
    "np.random.rand(2, 3)"
   ]
  },
  {
   "cell_type": "code",
   "execution_count": 95,
   "id": "4a4529f2",
   "metadata": {},
   "outputs": [
    {
     "data": {
      "text/plain": [
       "array([[[[[[7.00185910e-01, 9.81059566e-01, 8.97209622e-01, ...,\n",
       "            4.60899734e-01, 6.88883206e-01, 6.22771909e-01],\n",
       "           [9.83802973e-01, 7.38881618e-01, 3.46014534e-01, ...,\n",
       "            7.94591445e-01, 6.52224151e-01, 4.78454083e-01],\n",
       "           [9.53638634e-01, 7.39522357e-01, 4.97257674e-01, ...,\n",
       "            2.02605889e-01, 3.29122416e-01, 9.55048376e-01],\n",
       "           ...,\n",
       "           [8.54703443e-01, 8.87555006e-01, 7.84145607e-01, ...,\n",
       "            7.39971504e-01, 4.40792775e-01, 4.00601479e-01],\n",
       "           [4.78579682e-01, 6.21722848e-01, 3.98721833e-01, ...,\n",
       "            3.23594006e-01, 7.29974766e-01, 3.44987181e-01],\n",
       "           [7.95599390e-01, 8.41131097e-01, 1.56963187e-01, ...,\n",
       "            7.49964940e-01, 4.27878534e-01, 3.19706101e-01]],\n",
       "\n",
       "          [[7.88167814e-01, 4.31662692e-01, 4.86746810e-01, ...,\n",
       "            2.61883205e-01, 8.36304203e-01, 6.52910140e-01],\n",
       "           [5.13917338e-01, 2.26203771e-01, 5.29364093e-01, ...,\n",
       "            4.40022748e-01, 7.26303111e-01, 9.15557196e-01],\n",
       "           [5.02586379e-01, 1.15137683e-01, 9.75044429e-01, ...,\n",
       "            4.58069757e-01, 3.01168318e-01, 3.50086960e-01],\n",
       "           ...,\n",
       "           [4.08865963e-01, 7.80867197e-01, 7.70266901e-01, ...,\n",
       "            8.18991853e-01, 7.89759867e-01, 1.35704886e-01],\n",
       "           [4.03674321e-01, 8.09311103e-01, 2.44661351e-01, ...,\n",
       "            5.38158395e-01, 7.62402977e-01, 7.80171167e-01],\n",
       "           [8.69551326e-01, 9.71067566e-01, 9.43715496e-01, ...,\n",
       "            5.28278099e-02, 3.14329000e-01, 6.28276975e-01]],\n",
       "\n",
       "          [[3.38850025e-01, 9.52052668e-01, 1.23396982e-01, ...,\n",
       "            2.15237914e-01, 2.55936233e-01, 2.74273642e-01],\n",
       "           [2.32423592e-01, 5.07743577e-01, 7.10296049e-01, ...,\n",
       "            7.67397705e-02, 3.41625976e-01, 9.44922594e-01],\n",
       "           [3.28538552e-01, 2.67992060e-01, 5.95478397e-01, ...,\n",
       "            2.57108016e-01, 5.75903254e-01, 2.02166491e-01],\n",
       "           ...,\n",
       "           [2.66293949e-01, 2.44384008e-01, 9.39987413e-01, ...,\n",
       "            9.55213458e-01, 8.23414623e-01, 1.87979257e-01],\n",
       "           [4.30719800e-01, 5.57626547e-01, 4.25888787e-01, ...,\n",
       "            2.88827936e-01, 4.04504418e-01, 1.53433345e-01],\n",
       "           [8.81249334e-01, 5.30298505e-01, 8.67868328e-01, ...,\n",
       "            6.80253859e-01, 6.60542393e-01, 4.88903940e-01]],\n",
       "\n",
       "          ...,\n",
       "\n",
       "          [[7.58152394e-01, 8.63715412e-01, 6.97921812e-01, ...,\n",
       "            7.12112828e-01, 3.74984799e-01, 2.83159884e-01],\n",
       "           [5.17816852e-01, 4.57292683e-01, 1.64286972e-01, ...,\n",
       "            3.01513751e-02, 2.47163401e-01, 4.92163814e-02],\n",
       "           [2.88218460e-01, 5.99823719e-01, 5.30700789e-01, ...,\n",
       "            2.23291476e-01, 2.00759957e-01, 9.88030289e-01],\n",
       "           ...,\n",
       "           [1.18131326e-02, 4.91760297e-01, 8.12749336e-01, ...,\n",
       "            5.50713350e-01, 2.27831186e-01, 5.25335118e-01],\n",
       "           [2.16254523e-01, 1.31526124e-01, 3.13774016e-02, ...,\n",
       "            8.79940479e-01, 3.90966677e-01, 8.83249934e-01],\n",
       "           [3.00122755e-01, 9.54948415e-01, 7.46291542e-01, ...,\n",
       "            1.78478939e-01, 7.34026763e-01, 6.59131438e-01]],\n",
       "\n",
       "          [[4.32068051e-01, 9.15484333e-01, 6.95245734e-01, ...,\n",
       "            7.98282474e-01, 9.41314659e-02, 5.55916690e-01],\n",
       "           [9.42772587e-01, 1.09464546e-02, 7.73193067e-01, ...,\n",
       "            9.64981890e-01, 7.49864952e-01, 8.84013189e-01],\n",
       "           [6.26809543e-01, 6.41709345e-01, 8.09971744e-01, ...,\n",
       "            7.45112031e-01, 1.01994267e-01, 8.06262935e-02],\n",
       "           ...,\n",
       "           [5.56840605e-01, 2.00689445e-01, 5.59153422e-01, ...,\n",
       "            2.52852927e-01, 3.92590770e-02, 7.83295206e-01],\n",
       "           [6.39196348e-01, 9.77278293e-01, 9.35550047e-01, ...,\n",
       "            3.01403326e-01, 2.64599833e-01, 8.58652158e-02],\n",
       "           [9.46268545e-01, 9.89654854e-01, 7.91659108e-01, ...,\n",
       "            2.64811109e-01, 9.64998941e-01, 1.86070070e-02]],\n",
       "\n",
       "          [[9.57212564e-01, 7.80890931e-01, 6.29652700e-01, ...,\n",
       "            1.48666324e-01, 8.96253136e-01, 1.10980596e-01],\n",
       "           [2.14957685e-02, 9.46464592e-02, 9.78937145e-01, ...,\n",
       "            2.61427093e-01, 2.97029725e-01, 8.07282160e-01],\n",
       "           [5.11463657e-01, 8.76018155e-01, 1.21185535e-01, ...,\n",
       "            1.70047113e-01, 7.15953841e-01, 5.93866358e-01],\n",
       "           ...,\n",
       "           [9.40894451e-01, 3.75477031e-01, 9.09633534e-01, ...,\n",
       "            5.98905238e-01, 4.46522756e-01, 8.21249854e-02],\n",
       "           [9.46023712e-01, 4.78301405e-01, 8.03184555e-01, ...,\n",
       "            1.70581183e-01, 2.98540470e-01, 1.21751151e-01],\n",
       "           [5.69195851e-01, 6.07182803e-01, 2.56593176e-01, ...,\n",
       "            7.70154068e-01, 1.82796840e-01, 9.26078303e-01]]],\n",
       "\n",
       "\n",
       "         [[[1.55871103e-01, 7.95530121e-01, 6.59981944e-01, ...,\n",
       "            7.85400091e-01, 2.35373233e-01, 5.30726599e-02],\n",
       "           [7.31199683e-01, 9.10390697e-01, 5.26235122e-01, ...,\n",
       "            8.75405730e-01, 5.50126355e-01, 3.09492495e-01],\n",
       "           [1.25909654e-01, 6.08297146e-01, 4.75419563e-01, ...,\n",
       "            8.73287521e-02, 5.33993691e-01, 5.55805120e-01],\n",
       "           ...,\n",
       "           [6.09224384e-01, 8.12748166e-01, 5.58471599e-01, ...,\n",
       "            6.00171093e-02, 1.46041399e-01, 3.89848488e-01],\n",
       "           [9.87654536e-01, 3.67960132e-01, 3.83243366e-01, ...,\n",
       "            4.42727450e-01, 8.65812405e-01, 5.86155352e-01],\n",
       "           [6.27206932e-01, 2.23219086e-01, 6.49389433e-01, ...,\n",
       "            6.75842881e-01, 1.22113468e-01, 7.79555169e-01]],\n",
       "\n",
       "          [[5.76566049e-01, 1.37845422e-01, 4.23642234e-01, ...,\n",
       "            8.50486456e-01, 9.36534348e-01, 8.15523319e-01],\n",
       "           [5.22083018e-01, 8.52265821e-02, 7.15270288e-02, ...,\n",
       "            2.28277897e-01, 4.17163579e-01, 1.71355386e-01],\n",
       "           [6.99368947e-01, 4.83212424e-01, 9.99246279e-02, ...,\n",
       "            1.63953224e-01, 9.66293762e-01, 3.93734813e-01],\n",
       "           ...,\n",
       "           [8.72984354e-01, 3.93851499e-01, 6.50270281e-01, ...,\n",
       "            4.11828330e-01, 2.84344351e-01, 5.11918626e-02],\n",
       "           [7.48311214e-01, 4.14026398e-01, 4.88918796e-01, ...,\n",
       "            7.78266416e-01, 5.07434867e-01, 2.23423963e-01],\n",
       "           [4.13592435e-01, 8.14442008e-01, 6.37968197e-01, ...,\n",
       "            9.84993917e-01, 4.89314886e-01, 5.90967821e-01]],\n",
       "\n",
       "          [[6.95877287e-02, 3.74994992e-01, 6.38314267e-01, ...,\n",
       "            8.78940306e-01, 6.13334587e-02, 7.77535092e-01],\n",
       "           [8.08881678e-01, 7.90766079e-01, 5.72751602e-01, ...,\n",
       "            2.92089825e-01, 9.03057181e-01, 6.76562536e-02],\n",
       "           [3.67624724e-02, 2.86294668e-01, 9.54881608e-02, ...,\n",
       "            8.62823290e-01, 7.54524577e-01, 1.88989525e-01],\n",
       "           ...,\n",
       "           [3.73335027e-01, 5.81386694e-01, 1.36030444e-01, ...,\n",
       "            2.37403919e-01, 8.14139321e-01, 8.84081085e-01],\n",
       "           [4.67457884e-01, 1.60435368e-01, 9.86384010e-01, ...,\n",
       "            4.20659810e-01, 3.95019224e-02, 2.83571632e-01],\n",
       "           [7.70018879e-01, 8.60823509e-01, 7.27925093e-01, ...,\n",
       "            8.34552814e-01, 6.53010670e-01, 3.46892527e-01]],\n",
       "\n",
       "          ...,\n",
       "\n",
       "          [[6.25258524e-01, 3.32510040e-01, 7.06763730e-01, ...,\n",
       "            4.84813302e-02, 3.34316551e-01, 7.17863965e-03],\n",
       "           [7.69846159e-01, 8.89281976e-01, 9.38594633e-01, ...,\n",
       "            8.37877793e-01, 5.70379328e-01, 4.63232226e-01],\n",
       "           [7.73061282e-02, 6.26187472e-01, 6.19265142e-01, ...,\n",
       "            5.20276907e-01, 1.13512410e-01, 5.94556823e-02],\n",
       "           ...,\n",
       "           [3.89868961e-01, 9.13281909e-01, 2.40060727e-01, ...,\n",
       "            7.34739662e-01, 7.68700134e-01, 7.89032940e-01],\n",
       "           [4.00832380e-01, 6.22247931e-01, 4.88886312e-01, ...,\n",
       "            7.34016472e-02, 7.91518311e-02, 4.50172285e-01],\n",
       "           [6.14269560e-01, 6.75682548e-01, 3.00703065e-01, ...,\n",
       "            6.78368053e-01, 4.73839085e-01, 4.08507087e-01]],\n",
       "\n",
       "          [[3.65364086e-02, 1.43502593e-01, 8.20427511e-01, ...,\n",
       "            2.60657357e-01, 7.63162558e-02, 5.51069870e-01],\n",
       "           [4.55560605e-01, 2.57316447e-02, 1.63816658e-01, ...,\n",
       "            2.27554861e-01, 1.29054142e-01, 4.77403297e-01],\n",
       "           [4.38985498e-01, 5.49863604e-01, 5.71251243e-01, ...,\n",
       "            1.84163285e-01, 4.07410430e-01, 5.93076269e-01],\n",
       "           ...,\n",
       "           [5.21124313e-01, 6.81384023e-02, 6.42821757e-01, ...,\n",
       "            8.99108034e-01, 2.53981096e-01, 4.47160889e-01],\n",
       "           [9.28856323e-01, 8.90441836e-01, 7.65833447e-01, ...,\n",
       "            6.72594107e-01, 3.06248661e-01, 3.27017941e-01],\n",
       "           [1.28395868e-01, 3.70248693e-01, 3.37945668e-01, ...,\n",
       "            7.77295876e-01, 2.55377084e-01, 8.43804361e-01]],\n",
       "\n",
       "          [[4.37152603e-01, 1.14169553e-01, 9.52270931e-01, ...,\n",
       "            3.15544090e-01, 9.84975691e-01, 1.91539145e-01],\n",
       "           [5.87654236e-01, 3.45597814e-01, 4.30691822e-01, ...,\n",
       "            2.80987736e-01, 5.06638312e-01, 6.31762148e-01],\n",
       "           [7.18103201e-02, 5.57962387e-01, 6.46129262e-02, ...,\n",
       "            2.20095359e-01, 7.11131347e-01, 8.25011413e-01],\n",
       "           ...,\n",
       "           [5.33388798e-01, 5.92173233e-01, 7.96405877e-01, ...,\n",
       "            1.39744953e-01, 5.88891007e-01, 8.12690808e-01],\n",
       "           [1.51356134e-01, 6.22109341e-01, 7.85714911e-01, ...,\n",
       "            4.40628211e-01, 8.36019576e-01, 9.56649666e-02],\n",
       "           [1.03858511e-01, 7.82793081e-01, 9.64446726e-02, ...,\n",
       "            9.27114348e-01, 3.73581809e-01, 6.27762626e-01]]],\n",
       "\n",
       "\n",
       "         [[[8.22574087e-01, 2.11821781e-01, 3.19879313e-01, ...,\n",
       "            4.70744944e-01, 2.92920663e-01, 9.27601710e-01],\n",
       "           [1.11591047e-01, 8.50206347e-01, 2.79886288e-01, ...,\n",
       "            1.10957263e-01, 6.96404771e-02, 9.50918640e-01],\n",
       "           [1.91015412e-01, 5.73922858e-01, 6.36029659e-01, ...,\n",
       "            7.77066175e-01, 1.05286032e-01, 3.54772689e-01],\n",
       "           ...,\n",
       "           [4.54375375e-01, 6.79404157e-01, 9.45332831e-02, ...,\n",
       "            4.71807945e-01, 5.16450789e-01, 5.91895032e-01],\n",
       "           [4.12894916e-01, 8.02467787e-01, 8.66501776e-01, ...,\n",
       "            6.00018438e-01, 9.18310240e-01, 9.36669741e-01],\n",
       "           [9.47628009e-02, 7.10672546e-01, 5.82293041e-01, ...,\n",
       "            5.20951275e-01, 4.00520419e-01, 3.61422455e-01]],\n",
       "\n",
       "          [[1.76420599e-01, 8.31568160e-01, 2.34611989e-01, ...,\n",
       "            4.31306456e-01, 2.65147510e-01, 1.27935471e-02],\n",
       "           [9.79406361e-01, 8.15535001e-01, 1.02278447e-01, ...,\n",
       "            6.00501617e-01, 6.80724483e-01, 6.07824780e-01],\n",
       "           [9.45854711e-01, 7.72592783e-01, 2.22064568e-01, ...,\n",
       "            9.81800994e-01, 6.40916424e-02, 6.81592873e-01],\n",
       "           ...,\n",
       "           [2.13097405e-01, 6.92316228e-01, 2.02737927e-01, ...,\n",
       "            8.41591278e-01, 4.52745420e-01, 4.21176631e-01],\n",
       "           [9.04663602e-01, 7.01199915e-01, 3.36252346e-01, ...,\n",
       "            6.93814610e-01, 7.34569142e-01, 7.35527657e-01],\n",
       "           [2.72342510e-01, 3.20726467e-01, 5.41773851e-02, ...,\n",
       "            1.59923871e-02, 9.97548221e-02, 7.90315803e-01]],\n",
       "\n",
       "          [[2.71279162e-01, 4.58657416e-01, 4.26428018e-01, ...,\n",
       "            9.74909711e-01, 9.50077537e-01, 5.25986257e-01],\n",
       "           [7.47975083e-01, 5.97820429e-01, 8.13824645e-01, ...,\n",
       "            4.49794555e-01, 2.95820544e-01, 4.94382978e-01],\n",
       "           [9.53379195e-01, 4.08387802e-01, 8.32396771e-01, ...,\n",
       "            7.04846096e-01, 5.76480599e-01, 9.64523210e-01],\n",
       "           ...,\n",
       "           [9.89597587e-01, 7.62350804e-01, 2.05665322e-01, ...,\n",
       "            4.84604141e-01, 1.29311819e-01, 7.56351043e-01],\n",
       "           [9.94926363e-01, 5.35194514e-01, 4.60995193e-01, ...,\n",
       "            4.04801955e-01, 8.56471405e-01, 5.21490178e-01],\n",
       "           [4.16851232e-01, 6.14293239e-01, 4.83865952e-01, ...,\n",
       "            8.13558425e-01, 3.74433561e-01, 3.15662272e-01]],\n",
       "\n",
       "          ...,\n",
       "\n",
       "          [[3.45328170e-01, 8.42850440e-01, 2.97633260e-01, ...,\n",
       "            1.59672959e-01, 6.09332293e-01, 1.41526845e-01],\n",
       "           [4.18521657e-01, 8.93417781e-01, 7.61873804e-01, ...,\n",
       "            1.10518347e-01, 3.77086732e-01, 2.58351488e-01],\n",
       "           [2.75479030e-01, 3.16371313e-02, 4.37187540e-01, ...,\n",
       "            3.18283618e-01, 2.33882528e-01, 1.01488955e-01],\n",
       "           ...,\n",
       "           [2.56651806e-01, 3.55268488e-01, 7.02063255e-01, ...,\n",
       "            3.79956743e-02, 1.29081604e-01, 7.34356614e-01],\n",
       "           [2.09477229e-01, 7.56316925e-02, 7.48904287e-01, ...,\n",
       "            7.48962377e-01, 5.81704081e-01, 4.22357945e-01],\n",
       "           [5.29434377e-01, 9.22852153e-02, 1.14155540e-01, ...,\n",
       "            2.80699476e-01, 1.80360206e-02, 1.59052624e-01]],\n",
       "\n",
       "          [[2.01916337e-01, 5.13418562e-01, 2.82036534e-01, ...,\n",
       "            6.11918694e-02, 8.51111470e-01, 8.90412480e-03],\n",
       "           [7.11940829e-01, 2.34099060e-01, 2.85632630e-01, ...,\n",
       "            4.11831943e-01, 5.60920349e-01, 5.34670282e-02],\n",
       "           [2.15144566e-01, 3.39127611e-01, 3.59192550e-01, ...,\n",
       "            9.38986725e-01, 2.92198209e-01, 5.55776455e-01],\n",
       "           ...,\n",
       "           [9.32880509e-01, 7.55863528e-01, 3.25496932e-01, ...,\n",
       "            2.07148302e-02, 7.99686311e-01, 3.41953467e-01],\n",
       "           [7.06365930e-01, 3.31736067e-01, 8.97886460e-02, ...,\n",
       "            7.06207339e-01, 2.96516746e-01, 5.63194120e-01],\n",
       "           [1.13549378e-01, 3.89732456e-01, 7.97171089e-01, ...,\n",
       "            3.62815267e-01, 6.74834183e-01, 5.40323751e-01]],\n",
       "\n",
       "          [[8.44191620e-01, 7.97003149e-01, 8.55379578e-01, ...,\n",
       "            6.95082407e-01, 9.94303532e-01, 3.84487910e-01],\n",
       "           [6.87391391e-01, 3.98949023e-02, 7.53762162e-01, ...,\n",
       "            8.79009534e-01, 5.38274478e-01, 9.55109086e-01],\n",
       "           [6.08897080e-01, 4.56572615e-01, 2.62183193e-01, ...,\n",
       "            3.98331397e-01, 3.25564234e-01, 2.51854768e-01],\n",
       "           ...,\n",
       "           [6.36980335e-01, 5.37197635e-01, 3.16007752e-01, ...,\n",
       "            8.98875832e-01, 3.74951320e-01, 2.32043725e-01],\n",
       "           [6.11333393e-01, 8.89701922e-01, 2.16772387e-01, ...,\n",
       "            9.87292033e-01, 4.13128613e-02, 5.19558866e-01],\n",
       "           [9.15482192e-01, 2.79013830e-01, 6.47629637e-01, ...,\n",
       "            9.29383894e-01, 1.89216817e-01, 7.21455460e-01]]],\n",
       "\n",
       "\n",
       "         [[[5.95366399e-01, 6.41145433e-02, 2.63908528e-01, ...,\n",
       "            1.02601707e-01, 7.77417899e-01, 9.54100050e-01],\n",
       "           [4.09556156e-01, 5.99688696e-01, 9.57554726e-01, ...,\n",
       "            9.69409404e-01, 6.03896100e-01, 8.85305602e-01],\n",
       "           [7.11306215e-02, 1.72177865e-01, 1.25356025e-03, ...,\n",
       "            5.35870172e-01, 8.48472623e-02, 5.53992085e-01],\n",
       "           ...,\n",
       "           [9.89238886e-01, 2.65467093e-01, 4.77250117e-03, ...,\n",
       "            9.99344473e-01, 4.95595900e-01, 7.85327708e-01],\n",
       "           [5.29656031e-01, 4.01607280e-01, 5.49993664e-01, ...,\n",
       "            8.64621731e-01, 1.56791967e-01, 2.82688426e-01],\n",
       "           [4.34829514e-01, 6.89972192e-01, 4.10449340e-01, ...,\n",
       "            3.42401504e-01, 7.14748579e-01, 5.13533966e-01]],\n",
       "\n",
       "          [[6.96464008e-02, 8.54811801e-01, 6.76048588e-01, ...,\n",
       "            3.19429504e-01, 7.84162832e-01, 7.29045504e-01],\n",
       "           [6.81814522e-01, 8.17801716e-01, 9.48672462e-01, ...,\n",
       "            3.47894588e-01, 1.39163225e-01, 5.88105599e-01],\n",
       "           [7.66372755e-01, 8.43249591e-01, 1.47342599e-01, ...,\n",
       "            6.18361485e-01, 1.17653990e-01, 6.48388636e-02],\n",
       "           ...,\n",
       "           [1.49407558e-01, 8.91255942e-01, 8.34053783e-01, ...,\n",
       "            7.05173417e-02, 4.06473686e-01, 9.61822236e-01],\n",
       "           [2.98273829e-01, 3.58446302e-01, 8.03422760e-01, ...,\n",
       "            6.89187939e-01, 2.48913647e-01, 7.19877563e-01],\n",
       "           [7.09271272e-01, 7.68088231e-01, 2.63419559e-01, ...,\n",
       "            9.89591076e-01, 9.75070815e-02, 3.48126153e-02]],\n",
       "\n",
       "          [[7.01225821e-01, 9.63501443e-01, 8.47160144e-02, ...,\n",
       "            6.04966553e-01, 4.95090376e-01, 6.88625580e-01],\n",
       "           [5.24905820e-01, 6.96683541e-01, 1.34489552e-01, ...,\n",
       "            2.62073084e-02, 3.96967517e-01, 8.76755784e-01],\n",
       "           [1.87311347e-01, 2.21580888e-01, 8.05800561e-01, ...,\n",
       "            2.33447378e-01, 7.97333140e-01, 9.76547858e-01],\n",
       "           ...,\n",
       "           [2.83235637e-01, 3.34666887e-01, 6.11444423e-03, ...,\n",
       "            6.99347082e-01, 3.31347514e-01, 2.67971653e-01],\n",
       "           [3.60296720e-01, 2.21006954e-01, 6.44563315e-01, ...,\n",
       "            8.37403927e-01, 5.62371840e-01, 4.62187536e-01],\n",
       "           [4.84905348e-01, 6.99059437e-01, 3.13211981e-01, ...,\n",
       "            6.52611095e-01, 6.16907584e-03, 9.17124044e-01]],\n",
       "\n",
       "          ...,\n",
       "\n",
       "          [[9.34860956e-01, 5.60020737e-01, 6.76724748e-01, ...,\n",
       "            3.51592285e-01, 8.52603244e-01, 3.18407086e-02],\n",
       "           [1.00097530e-01, 7.69603523e-01, 7.32065442e-02, ...,\n",
       "            7.99182822e-01, 6.49408027e-01, 6.43932295e-01],\n",
       "           [4.96478696e-01, 6.21606660e-01, 6.02972904e-01, ...,\n",
       "            4.97875632e-01, 3.29645475e-01, 2.84320719e-01],\n",
       "           ...,\n",
       "           [7.01578619e-01, 2.93854995e-01, 4.08112882e-01, ...,\n",
       "            2.84302839e-01, 6.37763717e-01, 9.15136135e-01],\n",
       "           [5.83675988e-01, 6.50203989e-01, 5.22444293e-02, ...,\n",
       "            9.75083220e-01, 2.03006054e-01, 6.02506980e-01],\n",
       "           [3.75849946e-01, 4.60690401e-01, 5.56574646e-01, ...,\n",
       "            1.33202562e-01, 5.29276855e-01, 2.25043483e-01]],\n",
       "\n",
       "          [[9.37193738e-01, 5.25803012e-01, 1.53129315e-01, ...,\n",
       "            8.76698094e-01, 2.24632190e-01, 6.70109153e-01],\n",
       "           [7.01856143e-01, 8.23650333e-01, 5.72111406e-01, ...,\n",
       "            7.37096678e-01, 6.82709643e-01, 5.76017909e-01],\n",
       "           [1.62405575e-01, 4.40798374e-01, 8.85052146e-01, ...,\n",
       "            8.43844782e-01, 6.01096537e-01, 7.04300061e-01],\n",
       "           ...,\n",
       "           [3.87075745e-01, 8.26294757e-01, 9.21432384e-01, ...,\n",
       "            4.14002973e-01, 2.17555844e-01, 9.39578140e-01],\n",
       "           [2.40488137e-01, 6.13165733e-01, 1.13584147e-01, ...,\n",
       "            7.41016792e-01, 4.76313455e-01, 9.21058090e-01],\n",
       "           [1.77132187e-01, 8.28942996e-01, 6.59902620e-01, ...,\n",
       "            9.63018215e-01, 4.87751230e-01, 9.79562899e-01]],\n",
       "\n",
       "          [[2.62563725e-02, 7.70251401e-01, 2.40255510e-01, ...,\n",
       "            7.15834480e-01, 5.82428428e-01, 5.31533459e-02],\n",
       "           [2.61431687e-01, 6.61777670e-02, 3.53298303e-01, ...,\n",
       "            1.81642967e-01, 8.18906584e-02, 2.59241990e-01],\n",
       "           [1.83111026e-02, 3.22490852e-01, 8.29898880e-02, ...,\n",
       "            2.61775357e-01, 4.49637460e-01, 3.11278021e-01],\n",
       "           ...,\n",
       "           [2.12583864e-01, 9.74883668e-01, 4.28587584e-01, ...,\n",
       "            9.62645544e-01, 6.84384889e-01, 5.84151492e-01],\n",
       "           [6.24619910e-01, 1.75637119e-01, 8.38066910e-03, ...,\n",
       "            6.84419384e-01, 9.67344894e-01, 8.95167863e-01],\n",
       "           [2.36444182e-02, 7.74877762e-01, 6.11806013e-01, ...,\n",
       "            5.62482285e-01, 3.28403166e-01, 2.15376989e-01]]]],\n",
       "\n",
       "\n",
       "\n",
       "        [[[[5.64827653e-01, 3.72441074e-01, 2.18881785e-01, ...,\n",
       "            5.65865195e-01, 7.84795738e-01, 7.15224661e-01],\n",
       "           [9.74488468e-01, 7.13154644e-01, 5.55893601e-01, ...,\n",
       "            9.45116517e-01, 9.85918897e-01, 9.59069654e-01],\n",
       "           [9.02637541e-01, 8.07590199e-01, 5.46251091e-01, ...,\n",
       "            4.95662904e-01, 7.32538647e-01, 8.62122131e-01],\n",
       "           ...,\n",
       "           [6.87121645e-01, 8.49669816e-01, 3.55320083e-01, ...,\n",
       "            2.92178122e-02, 9.17954916e-01, 3.49228723e-01],\n",
       "           [9.46423265e-01, 6.16390802e-01, 6.36238673e-01, ...,\n",
       "            4.72732011e-01, 6.33814731e-01, 5.60803906e-01],\n",
       "           [3.60863667e-01, 2.71575451e-01, 2.58444496e-01, ...,\n",
       "            1.67418784e-01, 2.65210884e-01, 1.19079493e-01]],\n",
       "\n",
       "          [[9.17392193e-01, 6.03703604e-01, 5.99401507e-01, ...,\n",
       "            3.56768639e-01, 3.72218158e-01, 2.04893693e-01],\n",
       "           [7.99419665e-01, 6.94873262e-02, 7.72388632e-01, ...,\n",
       "            5.64711794e-03, 8.78156870e-01, 1.86938674e-01],\n",
       "           [9.29814298e-01, 8.37252029e-01, 1.64014335e-01, ...,\n",
       "            9.53015581e-01, 3.46831141e-01, 4.08094483e-01],\n",
       "           ...,\n",
       "           [3.79167260e-01, 9.01466507e-01, 9.52927037e-01, ...,\n",
       "            7.26755654e-01, 4.59835514e-01, 7.14033811e-01],\n",
       "           [6.73047628e-01, 1.78994525e-01, 5.49410638e-01, ...,\n",
       "            7.13332057e-01, 1.34805986e-02, 6.55458916e-01],\n",
       "           [4.88667475e-02, 4.28766114e-01, 6.78763001e-03, ...,\n",
       "            7.79905487e-01, 7.30320242e-01, 9.20901559e-01]],\n",
       "\n",
       "          [[5.18527685e-01, 2.40044901e-02, 4.49945048e-01, ...,\n",
       "            4.48815207e-01, 1.18825134e-01, 4.86861568e-01],\n",
       "           [8.34463125e-01, 9.06735590e-01, 5.73572599e-01, ...,\n",
       "            6.91037263e-01, 4.41656424e-01, 2.61947023e-01],\n",
       "           [9.53719217e-01, 7.80124662e-01, 7.92949139e-01, ...,\n",
       "            2.45723159e-01, 3.90596019e-01, 7.31105657e-01],\n",
       "           ...,\n",
       "           [2.90364006e-01, 1.18336078e-01, 8.10403999e-01, ...,\n",
       "            6.85867283e-01, 4.08669791e-01, 5.47180693e-01],\n",
       "           [3.62163982e-01, 3.14710678e-01, 3.74307920e-02, ...,\n",
       "            9.90121033e-01, 7.08579265e-01, 6.80852030e-01],\n",
       "           [5.73835744e-01, 3.35090034e-01, 3.57627533e-01, ...,\n",
       "            8.43630953e-01, 5.56239607e-01, 9.13659737e-01]],\n",
       "\n",
       "          ...,\n",
       "\n",
       "          [[5.98482906e-01, 2.26162283e-01, 9.30698948e-01, ...,\n",
       "            6.70539668e-01, 4.24297011e-01, 5.93619443e-01],\n",
       "           [6.55590840e-02, 8.29868212e-01, 8.89322893e-01, ...,\n",
       "            4.30220117e-01, 2.39760267e-01, 2.46937784e-01],\n",
       "           [2.83488857e-01, 8.23604105e-01, 4.51776932e-01, ...,\n",
       "            9.11716248e-01, 7.75194920e-01, 8.58087626e-01],\n",
       "           ...,\n",
       "           [6.24010251e-01, 7.67939235e-02, 8.00923250e-01, ...,\n",
       "            5.61620971e-01, 6.55241922e-01, 4.42600102e-01],\n",
       "           [8.66337406e-01, 4.87318430e-01, 5.20333561e-01, ...,\n",
       "            8.95114988e-01, 9.85015217e-01, 1.13798718e-02],\n",
       "           [1.47206462e-01, 1.64603308e-01, 8.06335338e-01, ...,\n",
       "            8.83901813e-01, 9.96418513e-02, 4.29313873e-01]],\n",
       "\n",
       "          [[7.63627130e-01, 2.45796195e-02, 9.80658525e-01, ...,\n",
       "            1.01222419e-01, 3.93446442e-01, 6.95147215e-01],\n",
       "           [4.71086258e-01, 5.07230241e-01, 5.52332787e-01, ...,\n",
       "            6.57604132e-01, 1.81700466e-01, 3.73466430e-05],\n",
       "           [3.67682465e-01, 3.58407541e-02, 5.51012941e-01, ...,\n",
       "            7.07346448e-01, 2.06210771e-01, 5.60565937e-01],\n",
       "           ...,\n",
       "           [7.66382734e-02, 7.92217583e-01, 8.66920671e-01, ...,\n",
       "            5.27049645e-01, 6.11665178e-01, 9.88065780e-01],\n",
       "           [9.87275365e-01, 5.42230391e-02, 2.48117906e-01, ...,\n",
       "            6.43797478e-01, 5.34003050e-01, 6.17931457e-01],\n",
       "           [3.17165275e-01, 8.67722417e-01, 2.33956258e-01, ...,\n",
       "            2.60574011e-01, 5.08737597e-01, 1.97281996e-01]],\n",
       "\n",
       "          [[7.13509787e-02, 7.08042025e-02, 2.92017790e-01, ...,\n",
       "            7.78166708e-01, 7.36437564e-01, 2.08195348e-01],\n",
       "           [6.20862253e-01, 1.96042731e-01, 3.64110589e-01, ...,\n",
       "            5.69909099e-01, 6.35898937e-01, 3.57903825e-01],\n",
       "           [5.83578234e-01, 2.14620460e-01, 7.86844927e-01, ...,\n",
       "            5.17441354e-02, 2.63001145e-01, 4.26867091e-01],\n",
       "           ...,\n",
       "           [8.63847539e-01, 4.31506803e-01, 7.56446847e-02, ...,\n",
       "            6.50769666e-01, 5.86485916e-01, 1.79095862e-01],\n",
       "           [6.78707536e-01, 8.43392614e-01, 6.62977073e-02, ...,\n",
       "            9.16824106e-01, 9.33456374e-01, 8.77140826e-01],\n",
       "           [6.08384093e-01, 4.82894380e-01, 3.51074470e-01, ...,\n",
       "            8.26853718e-01, 3.65456095e-01, 1.80353898e-01]]],\n",
       "\n",
       "\n",
       "         [[[2.51399718e-01, 8.94441087e-02, 2.94197622e-02, ...,\n",
       "            7.33960977e-01, 8.64738160e-01, 3.99170377e-01],\n",
       "           [9.95809669e-02, 1.32969354e-02, 3.28674799e-01, ...,\n",
       "            2.37813795e-01, 5.65614264e-01, 9.18258350e-01],\n",
       "           [9.93655333e-01, 2.00679484e-01, 1.40903846e-01, ...,\n",
       "            9.04800531e-02, 4.66177966e-02, 6.18506982e-01],\n",
       "           ...,\n",
       "           [1.17702368e-01, 1.94874528e-01, 5.54587232e-01, ...,\n",
       "            4.66704472e-01, 3.47808071e-01, 9.75557471e-01],\n",
       "           [7.01041524e-01, 7.55350928e-01, 5.92157923e-01, ...,\n",
       "            7.36949194e-01, 6.84387908e-01, 2.77241768e-01],\n",
       "           [9.87458454e-01, 8.99497547e-01, 9.47478447e-01, ...,\n",
       "            3.42998211e-01, 6.63439500e-01, 8.65950655e-01]],\n",
       "\n",
       "          [[6.02997321e-01, 7.68371233e-01, 6.07161611e-01, ...,\n",
       "            7.35884338e-01, 7.52558331e-01, 3.83203743e-01],\n",
       "           [9.61041674e-01, 5.96438405e-01, 7.06328087e-01, ...,\n",
       "            5.57431893e-01, 1.01646425e-02, 9.17013794e-01],\n",
       "           [4.05593934e-01, 2.91346698e-01, 9.25982307e-01, ...,\n",
       "            3.45694373e-01, 2.86219332e-01, 8.00034964e-03],\n",
       "           ...,\n",
       "           [8.88607957e-01, 6.88107347e-01, 8.50458837e-01, ...,\n",
       "            7.25344788e-01, 2.72711290e-01, 5.15469420e-01],\n",
       "           [5.70964635e-01, 8.19541028e-01, 9.62488082e-01, ...,\n",
       "            2.32544432e-01, 8.53309084e-01, 9.73215475e-02],\n",
       "           [5.77100977e-01, 5.54021314e-01, 5.21052143e-01, ...,\n",
       "            7.12208130e-01, 3.26825737e-01, 5.78250404e-02]],\n",
       "\n",
       "          [[2.29644826e-01, 8.53461031e-01, 6.36897819e-01, ...,\n",
       "            2.99024924e-01, 8.46965809e-01, 4.26079754e-01],\n",
       "           [1.69695993e-01, 6.73520829e-02, 1.76611163e-01, ...,\n",
       "            7.31914320e-01, 2.93632287e-01, 8.87831040e-02],\n",
       "           [6.84446728e-01, 3.77643280e-01, 6.24441088e-02, ...,\n",
       "            7.80999225e-01, 7.57425268e-01, 8.40332072e-01],\n",
       "           ...,\n",
       "           [5.19249627e-01, 1.39748459e-03, 3.28634646e-01, ...,\n",
       "            2.68881595e-01, 9.94961054e-01, 1.22907872e-01],\n",
       "           [6.30507677e-01, 7.57034520e-03, 5.21754128e-01, ...,\n",
       "            8.85017239e-01, 3.14413122e-01, 8.96760098e-01],\n",
       "           [5.41803665e-01, 4.58024869e-01, 9.58907788e-01, ...,\n",
       "            8.78758686e-01, 7.59670078e-01, 1.03892431e-01]],\n",
       "\n",
       "          ...,\n",
       "\n",
       "          [[4.02196355e-01, 4.44096050e-01, 7.28881775e-02, ...,\n",
       "            6.89413281e-01, 9.89771718e-01, 3.98185520e-01],\n",
       "           [4.22422305e-01, 1.06787408e-01, 3.30614423e-01, ...,\n",
       "            9.26920325e-01, 3.10649263e-01, 7.21259483e-01],\n",
       "           [7.89244459e-01, 4.10202378e-01, 2.68869390e-01, ...,\n",
       "            5.13887393e-01, 1.77190524e-01, 3.14037821e-01],\n",
       "           ...,\n",
       "           [9.55008445e-01, 8.07742650e-01, 4.89473351e-01, ...,\n",
       "            9.68603385e-01, 6.46221790e-01, 7.88545044e-01],\n",
       "           [7.44632295e-01, 4.91101460e-01, 7.24281925e-01, ...,\n",
       "            1.78168783e-01, 8.38970048e-01, 1.75224591e-01],\n",
       "           [3.51147761e-01, 6.84041647e-01, 4.35020711e-01, ...,\n",
       "            6.38317329e-01, 9.48204958e-01, 1.63110508e-01]],\n",
       "\n",
       "          [[2.64456956e-01, 5.83926129e-01, 1.44991198e-01, ...,\n",
       "            5.17381065e-01, 6.48740780e-01, 4.36944008e-01],\n",
       "           [2.38076155e-01, 2.79287437e-01, 2.49813337e-01, ...,\n",
       "            3.45303496e-01, 7.72973286e-01, 9.22570732e-01],\n",
       "           [4.22646065e-01, 5.61712076e-02, 9.96106617e-01, ...,\n",
       "            6.68614393e-02, 2.47735669e-01, 5.08678358e-01],\n",
       "           ...,\n",
       "           [9.29387841e-01, 5.33739808e-01, 7.85605918e-01, ...,\n",
       "            1.48954956e-01, 9.12393506e-01, 1.06526945e-01],\n",
       "           [1.76943204e-02, 2.38246821e-01, 6.60320462e-01, ...,\n",
       "            7.12724431e-01, 7.17703015e-01, 6.13296713e-01],\n",
       "           [4.49296787e-01, 2.13130320e-01, 3.30792482e-01, ...,\n",
       "            1.05815224e-01, 5.94656582e-01, 3.62671502e-02]],\n",
       "\n",
       "          [[6.47275792e-03, 3.19784110e-01, 2.92041351e-01, ...,\n",
       "            2.08705104e-01, 8.68017807e-02, 9.14689135e-01],\n",
       "           [6.78678330e-01, 7.82213338e-01, 1.08242509e-01, ...,\n",
       "            8.36213167e-01, 2.68340716e-01, 8.17803852e-01],\n",
       "           [2.68427683e-01, 9.11999639e-01, 5.27988284e-01, ...,\n",
       "            6.20042667e-01, 2.15974696e-01, 8.22319134e-01],\n",
       "           ...,\n",
       "           [6.51144619e-01, 2.78366642e-01, 6.36005720e-01, ...,\n",
       "            9.01464301e-01, 6.82306604e-02, 3.98248018e-01],\n",
       "           [8.00570996e-01, 4.03804154e-01, 1.61412248e-01, ...,\n",
       "            4.41692069e-02, 7.94476198e-01, 7.68495405e-01],\n",
       "           [3.91749466e-01, 9.54172821e-02, 3.34079725e-02, ...,\n",
       "            1.21864383e-01, 1.90111154e-01, 3.21110272e-02]]],\n",
       "\n",
       "\n",
       "         [[[2.32725092e-01, 1.62689347e-01, 1.08895229e-01, ...,\n",
       "            5.04293960e-01, 5.71812426e-01, 8.52536856e-02],\n",
       "           [7.34123568e-02, 3.01595708e-01, 3.75933248e-01, ...,\n",
       "            7.89674897e-01, 9.89571918e-01, 4.82612179e-01],\n",
       "           [7.95636767e-01, 9.29238590e-02, 3.12245777e-01, ...,\n",
       "            7.55063334e-01, 9.19657348e-01, 2.81762775e-02],\n",
       "           ...,\n",
       "           [2.58646615e-01, 3.38123715e-01, 2.10029819e-01, ...,\n",
       "            6.95213464e-01, 7.58892020e-01, 5.52219719e-02],\n",
       "           [6.22403230e-01, 1.15529488e-01, 3.57679718e-01, ...,\n",
       "            6.42398117e-01, 2.36227628e-01, 8.91245032e-02],\n",
       "           [6.58882507e-01, 7.52368492e-01, 5.48525953e-01, ...,\n",
       "            1.39429965e-01, 5.38175805e-01, 1.38230479e-01]],\n",
       "\n",
       "          [[4.01871017e-01, 6.41309516e-01, 2.22483052e-01, ...,\n",
       "            9.40305723e-02, 3.73715771e-02, 6.18282304e-01],\n",
       "           [5.56492260e-01, 5.59891128e-01, 5.42819982e-01, ...,\n",
       "            5.89865721e-01, 1.59565290e-01, 3.41304339e-03],\n",
       "           [1.88330859e-01, 9.34566629e-01, 1.88927326e-01, ...,\n",
       "            8.41359937e-01, 1.10139243e-01, 2.65965229e-01],\n",
       "           ...,\n",
       "           [7.74144411e-01, 6.46981022e-01, 2.46539181e-01, ...,\n",
       "            9.42158841e-01, 6.19844622e-01, 3.31288238e-01],\n",
       "           [3.84149336e-01, 9.05276378e-01, 4.47418436e-01, ...,\n",
       "            1.80566591e-01, 8.55766871e-01, 7.56261113e-01],\n",
       "           [1.85556617e-01, 2.73602381e-02, 9.53910090e-01, ...,\n",
       "            3.15858335e-01, 7.65983579e-01, 4.35295849e-01]],\n",
       "\n",
       "          [[1.83904311e-01, 6.34077277e-01, 1.61034512e-01, ...,\n",
       "            9.32790796e-01, 9.63413338e-01, 2.06452356e-01],\n",
       "           [6.21915958e-01, 2.59209966e-01, 5.26907981e-01, ...,\n",
       "            8.93362801e-01, 2.99011601e-01, 2.57359398e-01],\n",
       "           [5.35388704e-01, 6.37455606e-01, 3.70885849e-01, ...,\n",
       "            2.72285551e-01, 1.79887237e-01, 9.72824070e-01],\n",
       "           ...,\n",
       "           [7.31775122e-01, 9.76027938e-01, 4.72200352e-01, ...,\n",
       "            2.83965994e-01, 2.99662269e-01, 3.12686739e-01],\n",
       "           [5.16739338e-01, 9.39393218e-01, 6.73190364e-01, ...,\n",
       "            7.24709502e-02, 6.37286226e-02, 3.50890564e-01],\n",
       "           [7.74924677e-01, 8.42704219e-01, 6.73325868e-01, ...,\n",
       "            6.13108608e-01, 4.50180585e-01, 4.08510494e-01]],\n",
       "\n",
       "          ...,\n",
       "\n",
       "          [[3.81616546e-01, 2.56386569e-01, 6.61821150e-01, ...,\n",
       "            7.69406407e-01, 2.47628138e-01, 7.24281985e-01],\n",
       "           [7.27735102e-01, 2.14606857e-01, 2.21593608e-01, ...,\n",
       "            1.01606546e-01, 3.23071798e-01, 7.11423311e-01],\n",
       "           [6.63377050e-01, 4.84850788e-01, 8.04539402e-01, ...,\n",
       "            8.32674293e-01, 4.95696502e-01, 3.21792792e-02],\n",
       "           ...,\n",
       "           [1.25841348e-01, 8.62340659e-01, 5.44101115e-02, ...,\n",
       "            9.75119610e-01, 6.13717081e-01, 3.14569732e-01],\n",
       "           [5.62370672e-01, 4.62702464e-01, 2.32303747e-01, ...,\n",
       "            1.31790995e-01, 9.42411353e-01, 3.14493670e-01],\n",
       "           [3.11597504e-01, 5.31756447e-01, 5.80111972e-01, ...,\n",
       "            3.48278662e-01, 4.04221223e-02, 9.46925645e-01]],\n",
       "\n",
       "          [[5.01970065e-01, 2.19294080e-01, 5.19818237e-01, ...,\n",
       "            4.44378888e-02, 1.47877068e-01, 8.45726648e-01],\n",
       "           [8.50028159e-01, 3.45444292e-01, 1.51909410e-02, ...,\n",
       "            9.51279069e-01, 3.53565103e-01, 1.37723245e-01],\n",
       "           [7.25600890e-01, 9.72500900e-01, 4.77759516e-01, ...,\n",
       "            9.25259416e-02, 8.12235945e-01, 8.38926751e-01],\n",
       "           ...,\n",
       "           [4.43144438e-01, 5.47621156e-01, 1.60372511e-01, ...,\n",
       "            9.54570713e-01, 3.51288256e-01, 8.64726418e-01],\n",
       "           [9.76797915e-01, 5.16909034e-01, 4.26768125e-01, ...,\n",
       "            5.69601107e-01, 4.40501685e-01, 4.74273779e-01],\n",
       "           [2.28716942e-01, 6.89076807e-01, 8.99447285e-01, ...,\n",
       "            4.90233175e-01, 6.37255335e-01, 7.97648498e-01]],\n",
       "\n",
       "          [[4.69018247e-01, 7.61637194e-01, 7.72455486e-01, ...,\n",
       "            6.17325942e-01, 4.75728537e-01, 9.15823891e-01],\n",
       "           [3.18604978e-01, 2.51220379e-01, 1.67913450e-01, ...,\n",
       "            9.78858504e-01, 2.49746854e-01, 1.05403105e-01],\n",
       "           [5.45331117e-01, 5.83369392e-01, 3.04589660e-01, ...,\n",
       "            3.76653631e-01, 6.72091947e-01, 5.97533581e-01],\n",
       "           ...,\n",
       "           [5.96857255e-01, 1.44240274e-01, 7.75193726e-01, ...,\n",
       "            1.41738279e-01, 5.11220191e-01, 9.30929729e-01],\n",
       "           [1.67741925e-01, 3.62448095e-01, 1.27078392e-01, ...,\n",
       "            9.52408273e-02, 9.20488914e-01, 4.95190353e-01],\n",
       "           [1.69338211e-01, 6.38820792e-01, 1.64162734e-02, ...,\n",
       "            3.58190568e-01, 9.53250596e-01, 3.11312039e-01]]],\n",
       "\n",
       "\n",
       "         [[[5.11874154e-01, 3.96619586e-01, 2.86549105e-01, ...,\n",
       "            9.60435396e-02, 8.00961157e-01, 1.28425590e-01],\n",
       "           [2.37409896e-01, 7.48625662e-01, 5.16801719e-03, ...,\n",
       "            2.06944335e-01, 9.52941125e-01, 1.51395334e-01],\n",
       "           [3.38625699e-01, 7.29146992e-01, 8.87670303e-01, ...,\n",
       "            7.63333475e-01, 2.61258538e-01, 1.26791570e-01],\n",
       "           ...,\n",
       "           [1.31118974e-01, 5.71906732e-01, 2.58120147e-01, ...,\n",
       "            8.87967742e-01, 5.86883049e-02, 2.21863024e-01],\n",
       "           [2.86548736e-01, 2.23666809e-01, 9.47651534e-01, ...,\n",
       "            7.92236436e-01, 5.38200580e-01, 6.35932321e-01],\n",
       "           [2.83791607e-01, 8.35650829e-01, 5.86823571e-01, ...,\n",
       "            5.27105858e-01, 7.57312506e-01, 1.55898935e-01]],\n",
       "\n",
       "          [[2.79295228e-01, 5.96701412e-01, 9.34807890e-01, ...,\n",
       "            9.75649402e-01, 8.41456982e-02, 1.22842909e-01],\n",
       "           [7.13293038e-01, 1.14135417e-01, 4.26719079e-01, ...,\n",
       "            7.36522171e-01, 4.65614255e-02, 9.47865954e-01],\n",
       "           [2.11565826e-01, 4.63181529e-01, 7.07428837e-01, ...,\n",
       "            6.94764319e-01, 2.58145432e-01, 4.61408176e-01],\n",
       "           ...,\n",
       "           [3.19773689e-02, 6.47090306e-01, 3.43168427e-01, ...,\n",
       "            3.62714960e-01, 1.01834080e-01, 9.09724685e-01],\n",
       "           [2.47911373e-01, 4.17115657e-01, 8.96468404e-01, ...,\n",
       "            2.28516895e-01, 2.73549224e-01, 3.98779762e-01],\n",
       "           [4.79825475e-01, 6.31632499e-01, 4.12936564e-03, ...,\n",
       "            7.77656216e-02, 2.71580816e-01, 2.35871101e-02]],\n",
       "\n",
       "          [[1.06466281e-01, 6.63661754e-01, 1.45886263e-01, ...,\n",
       "            3.93730110e-01, 5.47311530e-01, 9.97664934e-01],\n",
       "           [3.88120804e-01, 6.38001598e-01, 8.82156762e-02, ...,\n",
       "            1.70125986e-01, 8.71504938e-01, 1.50957779e-01],\n",
       "           [9.19625442e-01, 7.33056449e-01, 7.39432821e-01, ...,\n",
       "            9.56184047e-01, 5.29162222e-01, 8.79564456e-01],\n",
       "           ...,\n",
       "           [8.52301082e-01, 8.66812302e-01, 6.78900820e-01, ...,\n",
       "            7.43031957e-01, 8.96978379e-01, 9.82524642e-01],\n",
       "           [7.68122965e-01, 9.63659904e-01, 5.40971427e-01, ...,\n",
       "            1.27792396e-01, 2.76106130e-01, 4.94636936e-01],\n",
       "           [8.19132935e-01, 9.79710808e-01, 1.97242738e-02, ...,\n",
       "            6.62294586e-01, 1.77430394e-01, 1.55061620e-01]],\n",
       "\n",
       "          ...,\n",
       "\n",
       "          [[7.92530170e-01, 4.49488265e-01, 6.05567533e-01, ...,\n",
       "            1.12360081e-01, 1.32999722e-02, 6.23514161e-01],\n",
       "           [7.57696770e-01, 3.71090405e-01, 2.64329297e-01, ...,\n",
       "            3.61751843e-01, 8.80577907e-01, 9.49016259e-01],\n",
       "           [3.69545781e-01, 7.01511334e-01, 8.24011684e-01, ...,\n",
       "            8.18635811e-01, 5.88402671e-01, 1.54143541e-01],\n",
       "           ...,\n",
       "           [7.77602958e-01, 7.65666746e-01, 7.10066227e-01, ...,\n",
       "            4.18711898e-02, 4.60588973e-01, 6.10308646e-01],\n",
       "           [2.92227255e-01, 2.16378890e-01, 3.47009716e-01, ...,\n",
       "            8.72829117e-01, 8.61528500e-01, 9.07614756e-01],\n",
       "           [7.28667146e-01, 8.80012335e-01, 2.04559939e-01, ...,\n",
       "            3.87251930e-01, 4.32454708e-01, 7.69774982e-01]],\n",
       "\n",
       "          [[6.46127698e-01, 9.03969967e-01, 5.56811439e-01, ...,\n",
       "            6.63410815e-01, 8.82837983e-01, 4.74226485e-01],\n",
       "           [1.69382786e-01, 4.27512995e-01, 7.97203266e-01, ...,\n",
       "            2.27114104e-01, 7.10947366e-01, 2.09647988e-01],\n",
       "           [2.18012580e-01, 5.82550914e-02, 3.10893415e-01, ...,\n",
       "            7.84404995e-01, 9.27193197e-01, 9.52937016e-01],\n",
       "           ...,\n",
       "           [5.63506319e-01, 7.49079618e-01, 1.65723476e-01, ...,\n",
       "            1.37332003e-01, 8.35235154e-01, 7.99112002e-01],\n",
       "           [8.62317000e-01, 2.78194758e-01, 2.71210797e-01, ...,\n",
       "            9.14720837e-01, 5.93280518e-01, 7.93746858e-01],\n",
       "           [2.21644683e-01, 1.36723706e-01, 6.68117667e-01, ...,\n",
       "            7.54428248e-01, 5.87167375e-01, 9.00513364e-01]],\n",
       "\n",
       "          [[5.83086452e-01, 4.60929628e-01, 1.59106074e-01, ...,\n",
       "            3.92703438e-01, 9.13356919e-01, 3.72388625e-01],\n",
       "           [6.00642474e-01, 1.39129684e-01, 8.94351805e-01, ...,\n",
       "            9.03960472e-01, 9.78925658e-01, 2.45204411e-02],\n",
       "           [8.75303327e-01, 4.98366469e-01, 3.15654237e-01, ...,\n",
       "            7.82293756e-01, 6.51664344e-01, 7.66517145e-01],\n",
       "           ...,\n",
       "           [8.21513668e-01, 3.32849282e-01, 8.47900417e-01, ...,\n",
       "            1.90032831e-02, 4.94795442e-01, 6.73371167e-01],\n",
       "           [4.70652461e-01, 8.29224691e-01, 9.35115074e-01, ...,\n",
       "            6.05548115e-01, 6.86951202e-01, 6.82509437e-01],\n",
       "           [3.31115948e-01, 4.91479314e-01, 4.60868153e-01, ...,\n",
       "            1.14098664e-02, 1.95927983e-01, 4.55318845e-01]]]],\n",
       "\n",
       "\n",
       "\n",
       "        [[[[9.04091405e-01, 2.98354031e-01, 9.21604138e-01, ...,\n",
       "            3.81999363e-01, 6.53764848e-01, 5.88107414e-01],\n",
       "           [7.85902829e-01, 3.04120473e-01, 3.81977300e-02, ...,\n",
       "            5.77279067e-01, 5.43449948e-01, 5.28102744e-01],\n",
       "           [7.77799134e-01, 6.27627892e-01, 6.00983297e-01, ...,\n",
       "            2.91837989e-01, 4.78005293e-01, 9.33157823e-01],\n",
       "           ...,\n",
       "           [5.69565320e-02, 6.91829257e-01, 8.22497869e-01, ...,\n",
       "            9.55594360e-01, 3.03096444e-01, 1.89556605e-01],\n",
       "           [7.99511801e-01, 7.68841389e-02, 8.77146971e-01, ...,\n",
       "            7.75495294e-01, 1.54724384e-01, 6.22599411e-01],\n",
       "           [4.57321121e-01, 3.36247499e-01, 6.83951691e-01, ...,\n",
       "            4.98770307e-01, 3.97349757e-01, 4.66199060e-01]],\n",
       "\n",
       "          [[2.17613370e-01, 7.54704147e-02, 3.80218668e-01, ...,\n",
       "            3.00015486e-01, 5.87176243e-01, 3.06926393e-01],\n",
       "           [6.15577945e-01, 1.11761982e-01, 8.30835571e-01, ...,\n",
       "            9.86676370e-01, 4.12894304e-01, 4.08899714e-01],\n",
       "           [5.85227742e-01, 5.38978758e-01, 6.14183416e-01, ...,\n",
       "            1.82107859e-01, 7.73884571e-01, 2.90685751e-01],\n",
       "           ...,\n",
       "           [1.00805211e-01, 8.70721397e-01, 9.18137238e-02, ...,\n",
       "            4.92010337e-02, 8.55781652e-01, 1.26681544e-01],\n",
       "           [4.79340219e-01, 3.73297842e-01, 2.43548670e-01, ...,\n",
       "            4.36349458e-01, 6.56459251e-01, 1.12482804e-01],\n",
       "           [8.12708344e-02, 7.70507394e-01, 7.60719046e-01, ...,\n",
       "            1.84262380e-01, 8.66902496e-01, 6.34751042e-02]],\n",
       "\n",
       "          [[2.73947443e-01, 7.34480581e-01, 9.57235963e-01, ...,\n",
       "            1.04413413e-01, 3.09640312e-01, 4.17968536e-01],\n",
       "           [5.90600037e-01, 7.55669048e-01, 4.87135854e-01, ...,\n",
       "            7.37384786e-01, 4.90566499e-01, 5.39896153e-01],\n",
       "           [5.96828376e-01, 3.42780138e-02, 3.39879073e-01, ...,\n",
       "            7.09454537e-02, 7.85376771e-01, 1.44651775e-01],\n",
       "           ...,\n",
       "           [3.71853438e-01, 4.04172211e-01, 8.38733271e-01, ...,\n",
       "            2.63056608e-01, 4.85985212e-01, 1.41644737e-01],\n",
       "           [6.88696045e-01, 5.76425403e-01, 1.09984578e-01, ...,\n",
       "            3.70292467e-01, 5.84038836e-01, 3.90538220e-01],\n",
       "           [9.55104128e-01, 7.23399886e-01, 2.14142120e-01, ...,\n",
       "            3.42670187e-01, 2.64572754e-01, 8.05942938e-01]],\n",
       "\n",
       "          ...,\n",
       "\n",
       "          [[3.60392787e-01, 8.63184068e-01, 2.42788706e-01, ...,\n",
       "            9.02506906e-01, 7.92701585e-01, 5.44795622e-02],\n",
       "           [5.81219780e-01, 4.88099724e-01, 9.35425168e-01, ...,\n",
       "            6.12154913e-01, 8.00700833e-01, 1.75548310e-01],\n",
       "           [8.24459797e-01, 8.30093240e-01, 6.07098273e-01, ...,\n",
       "            3.51331875e-01, 2.86624044e-01, 5.92463174e-02],\n",
       "           ...,\n",
       "           [2.42273104e-01, 8.65990356e-01, 6.79607069e-01, ...,\n",
       "            4.28004166e-01, 4.21666596e-01, 9.89443338e-01],\n",
       "           [8.80800733e-01, 5.87241856e-01, 9.18058206e-01, ...,\n",
       "            8.44315518e-01, 8.57731911e-01, 3.97670096e-01],\n",
       "           [8.14233376e-01, 9.67850950e-01, 4.42329250e-01, ...,\n",
       "            9.58906195e-01, 8.19777023e-01, 9.91385288e-02]],\n",
       "\n",
       "          [[4.47423033e-01, 2.24781130e-01, 5.55691684e-01, ...,\n",
       "            9.17097157e-01, 5.29834357e-01, 7.87786288e-01],\n",
       "           [6.59459870e-01, 3.37924483e-01, 8.75447873e-01, ...,\n",
       "            3.17163203e-01, 1.50460249e-01, 2.94816190e-01],\n",
       "           [8.12741090e-01, 5.05900209e-01, 6.97150926e-02, ...,\n",
       "            1.56436837e-01, 1.72599959e-03, 8.88718787e-01],\n",
       "           ...,\n",
       "           [4.48141966e-01, 5.46511826e-01, 8.40427534e-01, ...,\n",
       "            1.73765451e-01, 3.61954532e-01, 7.63084260e-01],\n",
       "           [1.50197210e-01, 5.21502492e-01, 6.24429447e-01, ...,\n",
       "            2.82131504e-02, 4.93443561e-01, 8.59139782e-01],\n",
       "           [4.08382617e-01, 5.87704647e-01, 1.00822176e-01, ...,\n",
       "            4.96413316e-01, 7.14483426e-01, 4.26257777e-02]],\n",
       "\n",
       "          [[7.24533549e-01, 8.18362405e-01, 7.61238211e-01, ...,\n",
       "            9.10755273e-01, 2.92662023e-01, 1.05266840e-01],\n",
       "           [9.00875338e-01, 6.43276971e-01, 9.43562958e-02, ...,\n",
       "            9.68889880e-01, 8.97949011e-01, 3.80996508e-01],\n",
       "           [9.28700998e-01, 7.32969422e-01, 2.62472848e-01, ...,\n",
       "            9.62320029e-01, 7.32374269e-01, 6.09116632e-01],\n",
       "           ...,\n",
       "           [8.02289066e-01, 2.16153965e-01, 5.65340108e-01, ...,\n",
       "            9.01350437e-01, 6.16576694e-01, 7.49433398e-01],\n",
       "           [3.97741024e-01, 9.85447214e-02, 3.66205027e-01, ...,\n",
       "            9.99556306e-01, 6.40629371e-02, 1.68649761e-01],\n",
       "           [2.07830323e-01, 3.75989689e-02, 2.42787887e-02, ...,\n",
       "            3.79851974e-01, 9.62777814e-01, 9.46662297e-01]]],\n",
       "\n",
       "\n",
       "         [[[8.65731852e-01, 4.51467818e-01, 9.48335383e-01, ...,\n",
       "            2.71237673e-01, 7.23137267e-01, 5.37543958e-01],\n",
       "           [7.98961124e-01, 2.93026945e-01, 1.67883180e-01, ...,\n",
       "            3.52337437e-01, 9.91689581e-01, 2.83118227e-01],\n",
       "           [3.85895478e-01, 3.59973135e-01, 7.10995033e-01, ...,\n",
       "            1.11722145e-01, 2.99766911e-01, 4.13504193e-01],\n",
       "           ...,\n",
       "           [7.48222609e-01, 9.32138860e-02, 6.39730620e-01, ...,\n",
       "            1.13327329e-01, 3.26811115e-01, 1.22246594e-01],\n",
       "           [1.44191017e-01, 9.00361226e-01, 5.40590023e-01, ...,\n",
       "            7.98778142e-01, 4.74119555e-01, 6.21250576e-01],\n",
       "           [3.49626449e-01, 5.42845014e-01, 1.26355519e-01, ...,\n",
       "            2.96491055e-01, 8.21718993e-01, 1.69136667e-01]],\n",
       "\n",
       "          [[4.99184370e-01, 3.02991824e-01, 7.92422334e-01, ...,\n",
       "            9.49833366e-01, 7.19555808e-01, 1.61478319e-01],\n",
       "           [9.97223489e-01, 3.91256322e-01, 1.68631792e-01, ...,\n",
       "            3.64547361e-01, 4.53029298e-01, 5.22989343e-01],\n",
       "           [9.41227643e-01, 4.67264091e-01, 8.56523047e-01, ...,\n",
       "            6.10813725e-01, 3.80576077e-02, 7.06589451e-01],\n",
       "           ...,\n",
       "           [5.31174113e-01, 9.74656676e-02, 6.84598618e-01, ...,\n",
       "            8.18222175e-01, 1.14266416e-01, 9.00073454e-01],\n",
       "           [2.25392444e-01, 5.83367174e-01, 3.70903700e-01, ...,\n",
       "            7.71907286e-01, 7.54816599e-01, 7.03782613e-02],\n",
       "           [1.16749967e-01, 7.81551707e-01, 2.65390975e-01, ...,\n",
       "            3.87401465e-01, 5.11901674e-01, 7.24982246e-01]],\n",
       "\n",
       "          [[1.44048230e-01, 6.45244015e-01, 3.91255600e-01, ...,\n",
       "            5.76494060e-01, 3.87680544e-01, 4.65673529e-01],\n",
       "           [2.85089702e-01, 3.51618602e-01, 3.73382286e-01, ...,\n",
       "            4.42917993e-01, 1.81804610e-02, 7.46510158e-01],\n",
       "           [9.79672262e-01, 8.73094726e-01, 2.11153396e-01, ...,\n",
       "            4.57062271e-01, 1.90292973e-02, 4.86901470e-01],\n",
       "           ...,\n",
       "           [5.97782015e-01, 5.80274316e-01, 3.43709434e-02, ...,\n",
       "            6.28694903e-01, 8.58718167e-01, 5.93509870e-01],\n",
       "           [7.25959272e-01, 5.33311509e-01, 8.68477526e-01, ...,\n",
       "            6.28707753e-01, 7.37838978e-01, 1.66232852e-01],\n",
       "           [2.82942138e-01, 4.59842626e-01, 9.48526017e-01, ...,\n",
       "            3.39067455e-01, 9.61823428e-02, 4.68337295e-01]],\n",
       "\n",
       "          ...,\n",
       "\n",
       "          [[5.29590344e-02, 7.87804291e-01, 1.14146617e-01, ...,\n",
       "            6.95390593e-01, 7.19479027e-01, 2.80400484e-01],\n",
       "           [5.63726356e-01, 7.94744671e-01, 2.66381659e-01, ...,\n",
       "            7.23377261e-01, 5.72334603e-01, 4.81471375e-01],\n",
       "           [3.57452505e-01, 3.09820097e-01, 6.05423793e-01, ...,\n",
       "            2.58986379e-01, 9.40946668e-01, 4.35739240e-01],\n",
       "           ...,\n",
       "           [5.69598008e-01, 3.64890699e-01, 1.79932882e-01, ...,\n",
       "            8.43512103e-01, 8.23706879e-01, 6.38911948e-01],\n",
       "           [3.74174293e-01, 3.94902920e-01, 7.26543562e-01, ...,\n",
       "            1.02930441e-01, 5.74853968e-01, 2.22568027e-01],\n",
       "           [4.52824496e-01, 3.37709877e-01, 4.38283931e-01, ...,\n",
       "            9.61290386e-01, 6.85935476e-01, 8.09869625e-02]],\n",
       "\n",
       "          [[1.94390983e-01, 6.45117220e-01, 9.70972562e-01, ...,\n",
       "            6.05293479e-01, 1.44808784e-01, 5.34136756e-01],\n",
       "           [9.86281064e-02, 9.83310254e-01, 8.31395687e-01, ...,\n",
       "            6.84540346e-01, 6.54423562e-01, 6.39070652e-01],\n",
       "           [8.42301751e-01, 1.24263792e-01, 8.43557402e-01, ...,\n",
       "            3.81769632e-01, 4.14519627e-02, 9.14554369e-01],\n",
       "           ...,\n",
       "           [7.20507545e-01, 5.78217254e-01, 6.77426258e-01, ...,\n",
       "            4.59967204e-01, 6.35763528e-01, 6.70119626e-01],\n",
       "           [9.07217569e-02, 3.12195256e-01, 5.34463546e-01, ...,\n",
       "            9.82272562e-01, 4.79142443e-01, 7.92574502e-01],\n",
       "           [1.99449628e-01, 1.81217205e-01, 9.27636527e-01, ...,\n",
       "            8.22238374e-01, 9.82515387e-01, 3.92047787e-01]],\n",
       "\n",
       "          [[8.45188945e-01, 8.48738171e-02, 2.96404055e-01, ...,\n",
       "            1.85151416e-01, 7.81589109e-01, 1.72476171e-01],\n",
       "           [3.37937113e-01, 1.40319119e-01, 9.08012203e-02, ...,\n",
       "            2.34650446e-01, 2.22143919e-01, 5.09234451e-01],\n",
       "           [4.56764275e-02, 1.38409858e-01, 2.10618421e-01, ...,\n",
       "            2.35448006e-01, 9.60185182e-01, 4.17058678e-01],\n",
       "           ...,\n",
       "           [7.64205439e-01, 3.07138298e-01, 4.95862894e-01, ...,\n",
       "            8.70059975e-01, 1.29336452e-02, 2.42803401e-03],\n",
       "           [6.17604569e-01, 9.92885111e-01, 2.10670314e-01, ...,\n",
       "            1.51874610e-01, 4.25827738e-01, 7.24270702e-01],\n",
       "           [8.85360071e-01, 4.23703560e-01, 7.17023969e-01, ...,\n",
       "            2.89286433e-01, 2.97461615e-01, 3.83553226e-02]]],\n",
       "\n",
       "\n",
       "         [[[6.60546463e-01, 8.71077168e-01, 6.09033964e-01, ...,\n",
       "            6.70369110e-01, 7.19232876e-01, 2.67315100e-01],\n",
       "           [4.52831424e-01, 3.06407898e-01, 1.08942457e-01, ...,\n",
       "            4.75943416e-01, 3.85653586e-01, 2.52561018e-01],\n",
       "           [6.50491254e-01, 9.22502542e-02, 2.06579478e-01, ...,\n",
       "            4.66808253e-01, 8.25191812e-01, 6.36099004e-01],\n",
       "           ...,\n",
       "           [6.12718993e-01, 3.89849535e-02, 3.30125632e-01, ...,\n",
       "            7.64136717e-01, 6.61275419e-01, 3.35813643e-01],\n",
       "           [9.10253727e-02, 5.07298164e-01, 2.11368581e-01, ...,\n",
       "            1.11278501e-01, 2.77127972e-01, 9.32968169e-01],\n",
       "           [1.40613364e-01, 4.76708301e-01, 3.25658033e-01, ...,\n",
       "            1.46241574e-01, 9.51428276e-01, 9.82653740e-01]],\n",
       "\n",
       "          [[2.99678998e-01, 5.65059694e-01, 5.97477257e-01, ...,\n",
       "            5.15658162e-01, 6.21880470e-01, 6.91171598e-01],\n",
       "           [3.14655997e-01, 2.67296864e-01, 6.71427395e-01, ...,\n",
       "            3.29529396e-01, 4.13005925e-01, 4.65316766e-01],\n",
       "           [5.48236778e-01, 4.70445326e-02, 5.28742085e-01, ...,\n",
       "            5.14929580e-01, 8.90846955e-03, 6.35838631e-01],\n",
       "           ...,\n",
       "           [4.92394224e-01, 4.82173689e-01, 2.84366503e-02, ...,\n",
       "            6.72431096e-01, 4.34935435e-01, 7.60065263e-01],\n",
       "           [9.85897483e-01, 5.38197680e-01, 5.40543758e-01, ...,\n",
       "            6.08244005e-01, 8.10257422e-01, 4.79653169e-01],\n",
       "           [2.03831431e-01, 4.25053206e-01, 2.11182406e-01, ...,\n",
       "            5.58286325e-01, 4.99878465e-01, 4.42264377e-01]],\n",
       "\n",
       "          [[1.42470503e-02, 5.99481497e-01, 6.37273377e-01, ...,\n",
       "            2.96091189e-01, 5.51493941e-01, 4.87221244e-01],\n",
       "           [5.86771829e-01, 3.10981471e-01, 1.53149646e-01, ...,\n",
       "            5.70197930e-01, 3.00971955e-01, 3.34300614e-02],\n",
       "           [6.70198116e-01, 7.65441002e-01, 1.14436486e-01, ...,\n",
       "            8.43071185e-01, 8.26175551e-01, 6.69410749e-01],\n",
       "           ...,\n",
       "           [4.34317349e-01, 4.92018103e-01, 1.36247680e-01, ...,\n",
       "            4.45813446e-01, 2.34079412e-01, 1.87073942e-01],\n",
       "           [1.32664031e-02, 7.84329381e-01, 3.37742670e-01, ...,\n",
       "            1.51939194e-01, 1.11507641e-01, 7.19785228e-01],\n",
       "           [1.16309545e-01, 5.00320188e-01, 3.46206054e-01, ...,\n",
       "            3.16713380e-01, 4.20709563e-01, 9.51552638e-01]],\n",
       "\n",
       "          ...,\n",
       "\n",
       "          [[9.62551145e-01, 7.01097063e-01, 1.77937545e-01, ...,\n",
       "            9.63242750e-01, 5.25955710e-01, 7.26590108e-01],\n",
       "           [7.42750868e-01, 5.19502266e-01, 8.65892632e-01, ...,\n",
       "            8.99421468e-01, 4.01333695e-01, 2.64784782e-01],\n",
       "           [9.88768191e-01, 1.64337337e-01, 2.01108777e-02, ...,\n",
       "            7.39917076e-01, 2.40460486e-01, 6.44003715e-01],\n",
       "           ...,\n",
       "           [8.47174333e-01, 4.93833565e-02, 8.18330338e-01, ...,\n",
       "            2.71612574e-01, 5.62561107e-01, 1.76278171e-01],\n",
       "           [4.93067330e-01, 5.96021380e-01, 1.45560735e-01, ...,\n",
       "            4.30895013e-01, 9.87440852e-01, 2.60444212e-01],\n",
       "           [1.15264005e-01, 9.34331856e-01, 6.64863023e-01, ...,\n",
       "            7.16506324e-01, 3.82396848e-01, 4.90351028e-01]],\n",
       "\n",
       "          [[4.33765737e-01, 8.78236504e-01, 7.13096096e-01, ...,\n",
       "            9.35353636e-02, 5.95130205e-01, 6.66371622e-02],\n",
       "           [7.90092992e-01, 3.86624647e-01, 2.49907997e-01, ...,\n",
       "            4.26524119e-01, 1.26692483e-01, 1.14612851e-01],\n",
       "           [6.30072261e-02, 7.24047191e-01, 2.70145890e-01, ...,\n",
       "            9.02955384e-01, 2.92977638e-01, 1.22184564e-01],\n",
       "           ...,\n",
       "           [8.61372788e-01, 4.62765700e-01, 6.68963753e-01, ...,\n",
       "            8.57292099e-01, 9.64988397e-01, 6.93059012e-01],\n",
       "           [1.88727807e-01, 9.98790221e-01, 5.61613859e-01, ...,\n",
       "            1.26490058e-01, 3.36645103e-01, 7.29826677e-01],\n",
       "           [9.22111572e-01, 7.28705296e-01, 7.37702373e-01, ...,\n",
       "            5.68147644e-01, 4.51767181e-01, 9.85735331e-01]],\n",
       "\n",
       "          [[2.67851125e-01, 9.29199867e-01, 6.54256746e-01, ...,\n",
       "            2.83507452e-01, 5.39273650e-01, 7.26748812e-01],\n",
       "           [4.78099301e-01, 5.03997748e-01, 5.46798860e-01, ...,\n",
       "            8.21795012e-01, 3.03115017e-01, 1.58090434e-01],\n",
       "           [2.84650663e-01, 3.77149797e-02, 6.03698386e-01, ...,\n",
       "            5.09833234e-01, 1.12970449e-02, 2.99096742e-02],\n",
       "           ...,\n",
       "           [1.83859028e-02, 8.54250728e-01, 2.02156322e-01, ...,\n",
       "            4.70699439e-02, 3.95303650e-01, 6.25758297e-01],\n",
       "           [1.18623069e-01, 2.99756149e-01, 8.50815208e-01, ...,\n",
       "            1.88070095e-01, 8.22595143e-01, 8.17961472e-01],\n",
       "           [9.15001879e-01, 1.28277637e-02, 4.69280069e-01, ...,\n",
       "            1.62039545e-01, 4.75482591e-01, 3.41945092e-01]]],\n",
       "\n",
       "\n",
       "         [[[7.00084179e-01, 9.10255346e-01, 5.70342672e-01, ...,\n",
       "            9.87867347e-01, 9.11829103e-01, 9.60888625e-01],\n",
       "           [5.20781276e-01, 3.83593433e-01, 7.24674421e-01, ...,\n",
       "            2.21048781e-01, 7.88402459e-01, 8.49663998e-01],\n",
       "           [9.82830155e-01, 4.64548702e-01, 4.72704815e-01, ...,\n",
       "            9.86729143e-01, 7.55117419e-01, 9.08716864e-01],\n",
       "           ...,\n",
       "           [6.04407994e-01, 9.55080319e-01, 7.44898622e-01, ...,\n",
       "            2.13512082e-01, 7.14432617e-01, 2.57482024e-01],\n",
       "           [3.66399079e-01, 5.52935015e-01, 3.33229530e-01, ...,\n",
       "            7.00838905e-01, 6.22816295e-01, 6.37256093e-01],\n",
       "           [2.92601124e-01, 8.04598886e-01, 2.15855448e-01, ...,\n",
       "            6.03713844e-01, 9.83974876e-01, 3.47980148e-02]],\n",
       "\n",
       "          [[5.55491638e-01, 7.55631741e-01, 1.80138061e-01, ...,\n",
       "            5.10445089e-01, 8.92152361e-01, 2.72198530e-01],\n",
       "           [7.74450466e-01, 8.10977499e-01, 4.93043131e-01, ...,\n",
       "            5.84753617e-01, 7.41986574e-01, 1.47376413e-01],\n",
       "           [5.25741715e-01, 2.06708549e-01, 2.11317614e-01, ...,\n",
       "            4.87514657e-01, 9.95399124e-01, 7.53697766e-02],\n",
       "           ...,\n",
       "           [8.10382389e-01, 9.43455012e-01, 6.89216620e-01, ...,\n",
       "            5.03272725e-01, 1.54943915e-01, 6.05339112e-01],\n",
       "           [8.26581342e-03, 3.54919701e-01, 8.47501414e-01, ...,\n",
       "            8.51823003e-01, 5.70028980e-01, 1.85505388e-01],\n",
       "           [3.99103332e-02, 5.59227169e-01, 9.30553687e-01, ...,\n",
       "            5.25479848e-01, 4.19231921e-01, 7.59549190e-01]],\n",
       "\n",
       "          [[7.50510858e-01, 6.70175888e-01, 2.36358232e-01, ...,\n",
       "            7.26242419e-01, 6.89564791e-01, 3.67337670e-01],\n",
       "           [6.11369164e-01, 4.25030211e-01, 9.73959963e-01, ...,\n",
       "            9.76946771e-01, 5.39278123e-01, 6.40517633e-01],\n",
       "           [8.08457736e-01, 9.83209954e-01, 4.86895867e-01, ...,\n",
       "            2.70568599e-01, 7.96577515e-01, 8.99615405e-01],\n",
       "           ...,\n",
       "           [6.32450369e-01, 6.64652738e-01, 3.14980765e-01, ...,\n",
       "            6.77449577e-01, 8.89191571e-01, 7.22660725e-01],\n",
       "           [3.14683151e-01, 9.12273700e-01, 3.19906550e-01, ...,\n",
       "            9.41068453e-01, 6.15658201e-01, 2.67642005e-01],\n",
       "           [3.57066155e-01, 6.90590468e-01, 6.98942314e-02, ...,\n",
       "            5.31272401e-02, 8.52629074e-01, 6.59518945e-01]],\n",
       "\n",
       "          ...,\n",
       "\n",
       "          [[5.06193646e-02, 9.72928189e-01, 6.53507337e-01, ...,\n",
       "            8.51132820e-01, 5.88996721e-01, 6.61059722e-01],\n",
       "           [3.66987911e-03, 8.28515719e-01, 6.29709521e-01, ...,\n",
       "            1.55480116e-01, 1.07236418e-01, 9.13536336e-01],\n",
       "           [4.16934310e-01, 3.79486253e-01, 1.45065028e-01, ...,\n",
       "            4.57337303e-01, 6.17508877e-01, 7.89823537e-02],\n",
       "           ...,\n",
       "           [3.98153680e-01, 4.20816301e-01, 6.30298283e-01, ...,\n",
       "            3.76840821e-01, 4.48623879e-01, 5.65695508e-01],\n",
       "           [7.53819547e-01, 5.12774233e-01, 1.46897491e-02, ...,\n",
       "            8.84592409e-01, 7.22318632e-01, 8.81853796e-01],\n",
       "           [8.99963623e-01, 5.16642386e-01, 3.69221690e-01, ...,\n",
       "            3.21893100e-01, 5.12601737e-01, 9.75877037e-01]],\n",
       "\n",
       "          [[1.59590126e-01, 3.82692060e-01, 7.16538219e-01, ...,\n",
       "            5.27040680e-01, 9.96800698e-01, 8.24167800e-01],\n",
       "           [6.31892701e-01, 8.31476025e-01, 8.96661858e-01, ...,\n",
       "            9.99294942e-01, 3.36630243e-01, 8.09379437e-01],\n",
       "           [1.23772188e-01, 5.40244862e-01, 1.29286259e-01, ...,\n",
       "            6.43299697e-01, 4.95525889e-01, 2.21584283e-01],\n",
       "           ...,\n",
       "           [9.96650925e-01, 1.26400711e-01, 1.01832019e-02, ...,\n",
       "            1.47689758e-01, 3.16743591e-01, 8.82219182e-01],\n",
       "           [4.54779558e-02, 4.43486777e-01, 6.95856803e-01, ...,\n",
       "            7.80921660e-01, 1.85228048e-01, 4.38667495e-01],\n",
       "           [4.04326684e-01, 8.19874344e-01, 2.80961214e-01, ...,\n",
       "            8.44819913e-01, 1.23135643e-01, 3.09123579e-01]],\n",
       "\n",
       "          [[3.52698723e-01, 5.59320818e-01, 7.04072155e-01, ...,\n",
       "            3.15469109e-01, 5.00973669e-01, 3.40401697e-01],\n",
       "           [7.90636302e-02, 2.44559809e-01, 7.72286562e-01, ...,\n",
       "            7.47696616e-01, 3.44297624e-01, 4.84336355e-01],\n",
       "           [7.02507106e-01, 8.02808879e-01, 9.50838524e-01, ...,\n",
       "            2.12094652e-01, 9.21789085e-01, 4.15376604e-01],\n",
       "           ...,\n",
       "           [6.63413103e-01, 1.70161238e-01, 4.30098075e-01, ...,\n",
       "            4.81520006e-01, 3.78310867e-01, 1.41223900e-01],\n",
       "           [9.63996066e-01, 5.19769394e-02, 7.99613153e-01, ...,\n",
       "            8.85559718e-01, 2.87662539e-01, 4.94402261e-01],\n",
       "           [3.22999967e-02, 3.20264032e-01, 6.18968914e-01, ...,\n",
       "            8.66576320e-02, 2.03060440e-01, 8.82076613e-01]]]]],\n",
       "\n",
       "\n",
       "\n",
       "\n",
       "       [[[[[6.54164174e-01, 6.69200203e-01, 6.21681489e-01, ...,\n",
       "            5.98905117e-01, 8.97566473e-01, 5.28343923e-01],\n",
       "           [6.84162463e-01, 4.44700308e-01, 7.69336462e-01, ...,\n",
       "            1.90079467e-01, 4.77545861e-01, 5.40264215e-02],\n",
       "           [2.66498506e-02, 2.26024150e-01, 4.62843144e-01, ...,\n",
       "            8.54352463e-01, 9.22636117e-01, 9.15665128e-01],\n",
       "           ...,\n",
       "           [5.42806891e-01, 9.10025432e-01, 5.71982844e-01, ...,\n",
       "            3.04283337e-01, 9.34670992e-01, 5.42928857e-01],\n",
       "           [6.74455252e-01, 6.46587537e-02, 1.62926314e-01, ...,\n",
       "            2.91039520e-01, 8.52241222e-01, 7.87457860e-01],\n",
       "           [1.75898789e-01, 6.86128579e-01, 4.52176597e-01, ...,\n",
       "            2.76568283e-01, 6.73793217e-01, 2.39145710e-01]],\n",
       "\n",
       "          [[6.27717620e-01, 8.91079697e-01, 7.40638694e-01, ...,\n",
       "            4.82962136e-02, 8.33795245e-01, 4.45738283e-01],\n",
       "           [9.15684548e-01, 5.57502480e-01, 6.07234439e-02, ...,\n",
       "            4.32442393e-01, 6.71275369e-01, 2.20349880e-01],\n",
       "           [6.99064316e-01, 6.31726847e-01, 5.76052582e-01, ...,\n",
       "            8.50290673e-02, 4.75599446e-01, 7.60061840e-01],\n",
       "           ...,\n",
       "           [7.12952684e-01, 3.37443343e-01, 4.12736242e-01, ...,\n",
       "            3.82238308e-01, 6.89368821e-01, 2.03575130e-01],\n",
       "           [5.99914028e-01, 1.47288110e-01, 5.76260374e-01, ...,\n",
       "            6.31847708e-01, 4.19267459e-01, 3.83239687e-01],\n",
       "           [6.39214432e-01, 6.69435836e-01, 1.12181018e-01, ...,\n",
       "            3.42115697e-01, 6.15278388e-01, 1.33755191e-01]],\n",
       "\n",
       "          [[9.17717714e-01, 1.49838937e-01, 4.44380925e-01, ...,\n",
       "            1.15630768e-01, 8.57720031e-01, 2.88065622e-01],\n",
       "           [6.15695559e-01, 3.58134651e-01, 4.15091959e-01, ...,\n",
       "            9.46454925e-01, 1.52669758e-01, 1.90896251e-01],\n",
       "           [5.59333986e-01, 7.53664094e-01, 4.75712863e-01, ...,\n",
       "            1.09393498e-01, 7.51657178e-01, 7.31122853e-01],\n",
       "           ...,\n",
       "           [6.04931516e-01, 8.72516508e-01, 4.74789542e-01, ...,\n",
       "            9.03737895e-01, 4.65849299e-01, 9.54184262e-01],\n",
       "           [1.20239807e-01, 4.21668997e-01, 4.99933091e-01, ...,\n",
       "            9.56206002e-01, 6.16969583e-02, 1.09096359e-02],\n",
       "           [8.50759084e-01, 9.26163024e-02, 9.33819745e-01, ...,\n",
       "            2.82725106e-01, 8.46102489e-01, 8.86345969e-01]],\n",
       "\n",
       "          ...,\n",
       "\n",
       "          [[5.90599279e-01, 9.62123381e-01, 1.16168781e-01, ...,\n",
       "            3.92087751e-01, 5.03706361e-01, 3.23597077e-01],\n",
       "           [2.43445594e-01, 5.97066025e-01, 2.07617025e-01, ...,\n",
       "            3.01390220e-01, 2.54078146e-02, 8.34366244e-02],\n",
       "           [3.47630937e-01, 8.82220591e-01, 7.18390384e-01, ...,\n",
       "            9.44035492e-01, 5.25887313e-01, 1.32960818e-01],\n",
       "           ...,\n",
       "           [4.14623166e-01, 8.65441375e-01, 4.72755796e-02, ...,\n",
       "            7.23417163e-01, 4.06057787e-02, 3.57552892e-01],\n",
       "           [5.83097738e-01, 3.59061572e-01, 3.00789045e-01, ...,\n",
       "            6.16097903e-01, 7.69278178e-01, 1.42407555e-01],\n",
       "           [3.46427125e-02, 3.57451167e-01, 5.93478017e-01, ...,\n",
       "            7.60290010e-01, 7.27172594e-01, 9.62593053e-02]],\n",
       "\n",
       "          [[9.69536471e-01, 1.44668898e-01, 6.47037362e-01, ...,\n",
       "            3.14638715e-02, 7.45520882e-01, 9.86710756e-01],\n",
       "           [5.53656589e-01, 4.24694089e-01, 4.84095260e-02, ...,\n",
       "            6.94359389e-01, 5.08774762e-01, 6.20233384e-01],\n",
       "           [8.65960290e-01, 8.18803714e-01, 3.01610730e-02, ...,\n",
       "            3.63587039e-01, 4.96963687e-01, 8.64115934e-01],\n",
       "           ...,\n",
       "           [2.33851162e-01, 4.58331357e-01, 5.38768670e-02, ...,\n",
       "            3.56674642e-01, 4.26346022e-01, 3.76113401e-01],\n",
       "           [9.35291344e-01, 8.32713330e-01, 8.76933091e-01, ...,\n",
       "            1.08987778e-01, 5.69144641e-01, 9.95101367e-01],\n",
       "           [5.21571183e-01, 3.30630141e-01, 9.83123308e-01, ...,\n",
       "            4.85012383e-01, 1.03679087e-01, 4.39490370e-01]],\n",
       "\n",
       "          [[6.27285293e-01, 8.01513526e-01, 6.20725395e-01, ...,\n",
       "            1.44351084e-01, 7.74073171e-01, 7.24565344e-01],\n",
       "           [1.14459751e-01, 3.76921449e-01, 3.00250810e-01, ...,\n",
       "            5.34925872e-01, 5.24919108e-01, 4.14266479e-01],\n",
       "           [9.39146396e-02, 7.73783519e-01, 7.21544566e-01, ...,\n",
       "            7.53691427e-01, 7.82689058e-01, 2.23913189e-01],\n",
       "           ...,\n",
       "           [1.36565901e-01, 3.41998784e-01, 8.20887515e-02, ...,\n",
       "            8.91395778e-01, 6.26240187e-01, 8.39816086e-01],\n",
       "           [7.70741230e-01, 1.20753540e-01, 9.67366859e-01, ...,\n",
       "            4.16729652e-01, 7.02659194e-01, 7.12422542e-01],\n",
       "           [6.97380714e-01, 1.59808722e-01, 5.23130319e-02, ...,\n",
       "            5.31255443e-01, 4.82491183e-01, 1.29867009e-01]]],\n",
       "\n",
       "\n",
       "         [[[6.65614394e-01, 7.84212459e-01, 5.65299402e-02, ...,\n",
       "            9.31932158e-01, 9.59083157e-01, 8.20918951e-01],\n",
       "           [7.97302633e-01, 6.85679327e-02, 3.11187769e-01, ...,\n",
       "            6.18816245e-03, 2.79353616e-01, 7.97576947e-01],\n",
       "           [8.09992688e-01, 9.59439419e-01, 2.29436477e-01, ...,\n",
       "            9.30398142e-01, 7.32022801e-02, 6.38860658e-01],\n",
       "           ...,\n",
       "           [7.58751695e-01, 4.62364418e-01, 1.17417747e-01, ...,\n",
       "            5.21147392e-01, 5.58230083e-01, 4.01305683e-01],\n",
       "           [5.21403820e-01, 6.70220502e-01, 9.03158271e-01, ...,\n",
       "            4.83297921e-02, 4.92946282e-02, 6.42246226e-01],\n",
       "           [1.88668828e-01, 7.32483655e-01, 1.92942302e-01, ...,\n",
       "            7.29054140e-01, 7.80479040e-01, 7.26814627e-01]],\n",
       "\n",
       "          [[4.24706649e-01, 9.15868963e-01, 3.58694042e-01, ...,\n",
       "            4.21514955e-01, 6.43711607e-01, 5.45186023e-01],\n",
       "           [3.44511415e-01, 3.88463579e-01, 9.68945679e-01, ...,\n",
       "            9.00002043e-01, 6.80644488e-03, 5.23835702e-01],\n",
       "           [2.29641012e-01, 1.35204430e-01, 6.97020901e-02, ...,\n",
       "            8.51588279e-01, 9.13962041e-01, 3.47718398e-01],\n",
       "           ...,\n",
       "           [4.06437176e-01, 9.87431699e-01, 4.85169069e-01, ...,\n",
       "            3.41616607e-01, 5.01014109e-01, 4.95049664e-01],\n",
       "           [2.83444314e-01, 1.06943360e-01, 1.32444279e-01, ...,\n",
       "            6.49645368e-01, 8.20732749e-01, 6.29122563e-01],\n",
       "           [9.46447703e-01, 9.33774354e-01, 8.23399064e-01, ...,\n",
       "            6.49416987e-01, 4.99641456e-01, 2.53956584e-01]],\n",
       "\n",
       "          [[8.25912506e-02, 4.88707801e-01, 1.53150508e-01, ...,\n",
       "            4.23496139e-01, 8.88665680e-01, 7.52390124e-01],\n",
       "           [5.64939070e-01, 9.80807964e-01, 8.02918307e-02, ...,\n",
       "            5.33400741e-04, 2.68908257e-01, 4.49185705e-01],\n",
       "           [7.55047460e-02, 3.55967472e-01, 4.42358796e-01, ...,\n",
       "            7.84764616e-01, 7.23404648e-03, 4.73900277e-01],\n",
       "           ...,\n",
       "           [5.45805167e-01, 1.07172651e-01, 9.09791204e-01, ...,\n",
       "            2.92910044e-01, 5.23460151e-01, 3.17265365e-02],\n",
       "           [7.11819793e-02, 3.63170646e-01, 5.14248978e-01, ...,\n",
       "            5.34977593e-01, 3.89552350e-01, 1.72748440e-01],\n",
       "           [6.57045567e-01, 3.11720720e-01, 2.22288410e-01, ...,\n",
       "            2.58799730e-01, 5.73658344e-01, 1.69901586e-02]],\n",
       "\n",
       "          ...,\n",
       "\n",
       "          [[4.55733830e-01, 9.37425932e-01, 5.75903847e-01, ...,\n",
       "            7.81492709e-02, 2.66298998e-01, 8.84780544e-01],\n",
       "           [1.90928068e-02, 3.73145169e-01, 2.67704265e-01, ...,\n",
       "            2.86296210e-01, 9.96196550e-02, 3.08020340e-02],\n",
       "           [5.54983004e-01, 5.20012317e-01, 1.52358011e-01, ...,\n",
       "            3.71130238e-01, 6.43524459e-01, 9.12503014e-01],\n",
       "           ...,\n",
       "           [3.59798349e-01, 5.86938228e-01, 2.76130916e-02, ...,\n",
       "            4.16922653e-01, 9.08299384e-01, 2.81239541e-01],\n",
       "           [4.63616500e-01, 1.68820796e-02, 7.43488746e-01, ...,\n",
       "            5.55001879e-01, 1.20699347e-01, 3.13235543e-01],\n",
       "           [7.38100276e-01, 2.73852785e-01, 7.45853546e-01, ...,\n",
       "            2.53745654e-01, 5.91689508e-01, 3.90517175e-01]],\n",
       "\n",
       "          [[6.20412816e-01, 8.81717524e-01, 8.25593982e-01, ...,\n",
       "            2.79582045e-01, 8.30930713e-01, 8.78800366e-02],\n",
       "           [1.17735078e-01, 4.99494375e-01, 2.91892545e-01, ...,\n",
       "            4.72228290e-01, 6.28177364e-01, 1.68578703e-01],\n",
       "           [8.10354887e-02, 2.93829380e-01, 7.48170066e-01, ...,\n",
       "            1.81388910e-01, 5.37478107e-01, 5.12409498e-01],\n",
       "           ...,\n",
       "           [6.98168467e-01, 4.50400695e-01, 4.08923332e-01, ...,\n",
       "            4.69621951e-01, 4.76379271e-01, 3.65414671e-01],\n",
       "           [1.73382062e-01, 9.52437365e-01, 6.11234183e-01, ...,\n",
       "            3.82970210e-01, 2.56056939e-01, 3.02695649e-01],\n",
       "           [1.78004320e-01, 2.01201996e-01, 2.01375822e-01, ...,\n",
       "            2.04581711e-01, 9.29921414e-01, 6.18684268e-01]],\n",
       "\n",
       "          [[6.39011562e-01, 2.11282620e-01, 3.20321061e-01, ...,\n",
       "            4.94001164e-01, 8.26351240e-01, 6.95553285e-01],\n",
       "           [5.61588761e-01, 3.93319161e-01, 1.67401447e-03, ...,\n",
       "            7.24595549e-02, 2.83149049e-02, 3.92213466e-01],\n",
       "           [7.48320164e-01, 4.35944419e-01, 7.75758482e-01, ...,\n",
       "            2.93622800e-01, 1.31958597e-01, 9.44092634e-01],\n",
       "           ...,\n",
       "           [9.54627333e-01, 3.84435046e-01, 4.09149462e-01, ...,\n",
       "            6.77537262e-01, 2.81165797e-02, 6.24751537e-02],\n",
       "           [9.20676670e-01, 8.49061376e-01, 3.55914828e-01, ...,\n",
       "            1.16636535e-02, 9.31560676e-01, 2.32741104e-01],\n",
       "           [7.02986397e-01, 2.74871457e-01, 8.71558654e-01, ...,\n",
       "            2.58920220e-01, 2.45127921e-01, 1.13951354e-01]]],\n",
       "\n",
       "\n",
       "         [[[5.64164340e-01, 9.18381620e-01, 6.54041203e-02, ...,\n",
       "            7.02393962e-01, 5.10203432e-01, 2.83566635e-01],\n",
       "           [9.18389606e-01, 7.95114218e-01, 2.03070077e-01, ...,\n",
       "            9.97835946e-02, 9.74564189e-01, 2.11499693e-01],\n",
       "           [9.53710026e-01, 2.29108810e-01, 4.22859698e-01, ...,\n",
       "            7.24143824e-01, 4.18350769e-01, 7.78111540e-02],\n",
       "           ...,\n",
       "           [7.81472262e-01, 4.76385989e-01, 2.27452636e-01, ...,\n",
       "            6.09516530e-01, 2.20068354e-01, 9.32584116e-01],\n",
       "           [9.80381222e-01, 4.40942697e-01, 7.66047508e-01, ...,\n",
       "            2.35836112e-01, 8.31235068e-02, 6.37587326e-01],\n",
       "           [7.20485959e-01, 2.39722475e-01, 8.33896637e-01, ...,\n",
       "            9.55151866e-01, 7.07876231e-01, 8.39926303e-01]],\n",
       "\n",
       "          [[2.92028463e-01, 2.31753521e-02, 1.41081304e-01, ...,\n",
       "            9.95108507e-01, 6.85491687e-01, 4.38632222e-01],\n",
       "           [7.67263883e-01, 6.78333840e-01, 1.15845315e-01, ...,\n",
       "            9.04576409e-01, 4.83639467e-01, 6.24637472e-01],\n",
       "           [4.92132652e-01, 6.52942322e-01, 6.66384410e-03, ...,\n",
       "            7.37384588e-01, 8.96760958e-01, 3.01110952e-01],\n",
       "           ...,\n",
       "           [9.10000451e-01, 8.94937305e-01, 5.36337473e-01, ...,\n",
       "            9.62923038e-01, 6.24531796e-01, 9.66487734e-01],\n",
       "           [8.89173047e-01, 9.38964588e-01, 5.49633028e-02, ...,\n",
       "            6.85857823e-01, 4.50021023e-02, 6.05934241e-01],\n",
       "           [2.45679333e-01, 5.30804600e-01, 8.00930010e-01, ...,\n",
       "            9.65749768e-01, 7.99790367e-01, 5.38966221e-01]],\n",
       "\n",
       "          [[4.17320576e-01, 5.88541187e-01, 6.97252901e-01, ...,\n",
       "            7.93550870e-01, 9.75602857e-01, 6.21083286e-01],\n",
       "           [6.45307440e-01, 2.19374962e-01, 4.93124292e-01, ...,\n",
       "            9.96716213e-01, 4.59524345e-01, 5.34952280e-01],\n",
       "           [5.31097098e-01, 2.99327875e-01, 3.35959551e-01, ...,\n",
       "            6.85184500e-01, 1.69514394e-01, 9.28340076e-01],\n",
       "           ...,\n",
       "           [2.03068826e-01, 4.22079386e-01, 9.57411636e-01, ...,\n",
       "            8.02732810e-01, 1.96126275e-01, 7.32961886e-01],\n",
       "           [7.50635098e-01, 5.45022507e-01, 8.91767083e-01, ...,\n",
       "            7.80136596e-01, 2.85954112e-01, 8.32266474e-01],\n",
       "           [2.08760645e-01, 5.90851908e-01, 8.44925525e-01, ...,\n",
       "            2.71659913e-01, 9.23275735e-01, 1.88088403e-01]],\n",
       "\n",
       "          ...,\n",
       "\n",
       "          [[8.65060588e-01, 6.49404471e-01, 2.85266814e-01, ...,\n",
       "            1.26433053e-01, 9.23162804e-01, 6.54969131e-01],\n",
       "           [1.47083238e-01, 2.83158843e-01, 9.30561966e-01, ...,\n",
       "            9.54236884e-01, 4.50813325e-01, 6.61966904e-01],\n",
       "           [8.82554797e-01, 9.55739402e-01, 7.96677536e-01, ...,\n",
       "            1.67245719e-01, 4.65089050e-01, 9.92702556e-01],\n",
       "           ...,\n",
       "           [3.04255262e-02, 6.64388532e-01, 6.41230960e-01, ...,\n",
       "            3.34430530e-02, 8.02821169e-01, 9.71973341e-01],\n",
       "           [7.80386854e-02, 6.55597985e-01, 4.26518084e-01, ...,\n",
       "            8.43018764e-01, 4.31285504e-01, 7.93768927e-01],\n",
       "           [7.46819317e-01, 1.38855953e-01, 8.94369671e-01, ...,\n",
       "            1.93702815e-01, 1.60696043e-01, 3.79342112e-01]],\n",
       "\n",
       "          [[3.96152371e-01, 2.83487069e-01, 2.44120161e-01, ...,\n",
       "            9.31822552e-01, 8.59625467e-01, 3.34326424e-01],\n",
       "           [9.82890294e-01, 1.27731641e-01, 9.12257647e-01, ...,\n",
       "            5.06451774e-01, 3.04096857e-01, 3.98891650e-02],\n",
       "           [1.43767575e-01, 3.92406793e-01, 6.45892717e-01, ...,\n",
       "            8.03971175e-01, 9.66601749e-01, 8.34906458e-02],\n",
       "           ...,\n",
       "           [5.35408156e-01, 6.77600684e-02, 3.55948796e-01, ...,\n",
       "            8.24762251e-01, 8.38211926e-02, 2.07686508e-01],\n",
       "           [6.89641495e-01, 6.11569304e-01, 3.08003634e-01, ...,\n",
       "            4.84589383e-01, 7.92986598e-01, 3.46426483e-01],\n",
       "           [9.19769198e-01, 7.37646299e-01, 6.38144588e-01, ...,\n",
       "            3.93942205e-01, 9.55546722e-01, 1.20300391e-01]],\n",
       "\n",
       "          [[1.19232747e-01, 6.93503837e-01, 4.09038451e-01, ...,\n",
       "            9.11768463e-01, 9.20175401e-01, 4.70012909e-01],\n",
       "           [8.35408667e-01, 5.86710912e-01, 9.60066917e-01, ...,\n",
       "            1.11540877e-01, 5.45002459e-01, 2.08592137e-02],\n",
       "           [6.13868125e-01, 9.18672057e-01, 8.69541393e-01, ...,\n",
       "            9.54142165e-01, 8.01894842e-01, 4.02647722e-01],\n",
       "           ...,\n",
       "           [1.05856471e-01, 5.37597303e-01, 9.85725007e-01, ...,\n",
       "            5.33369851e-01, 4.46625287e-02, 8.58837041e-01],\n",
       "           [5.67600982e-01, 8.27833148e-01, 4.72566332e-01, ...,\n",
       "            3.86943717e-01, 2.32211770e-01, 6.62778536e-01],\n",
       "           [5.25216438e-02, 4.51227528e-01, 4.25268077e-01, ...,\n",
       "            6.02720927e-01, 1.57290148e-01, 2.77340562e-01]]],\n",
       "\n",
       "\n",
       "         [[[6.97581520e-01, 3.70835740e-01, 3.24488029e-02, ...,\n",
       "            6.27315782e-01, 8.44798297e-01, 8.23584964e-01],\n",
       "           [4.91724803e-01, 7.94663743e-01, 6.54400750e-03, ...,\n",
       "            1.16183057e-01, 8.14686965e-02, 6.15531941e-02],\n",
       "           [7.10411116e-01, 2.65360095e-01, 6.58407227e-02, ...,\n",
       "            2.36910569e-01, 4.66232373e-01, 5.19133787e-01],\n",
       "           ...,\n",
       "           [4.60181873e-01, 7.80661470e-01, 8.33393441e-01, ...,\n",
       "            2.08092724e-01, 3.46058138e-01, 6.56260756e-01],\n",
       "           [3.80913921e-01, 8.98561496e-01, 1.25861930e-01, ...,\n",
       "            2.04564568e-01, 2.71742777e-01, 3.12833548e-03],\n",
       "           [5.12214638e-01, 8.17323985e-02, 3.39577093e-01, ...,\n",
       "            6.31640863e-01, 7.33859221e-01, 8.27268073e-01]],\n",
       "\n",
       "          [[2.98663072e-01, 7.93036021e-01, 8.39913689e-01, ...,\n",
       "            3.05322524e-01, 7.67294010e-01, 3.66756997e-01],\n",
       "           [2.76422273e-01, 2.31947313e-01, 9.75647688e-01, ...,\n",
       "            7.65765196e-01, 1.89574065e-01, 4.09569092e-01],\n",
       "           [9.69116387e-02, 1.36276388e-01, 8.86223595e-01, ...,\n",
       "            5.47601506e-01, 5.22025084e-01, 1.45577627e-01],\n",
       "           ...,\n",
       "           [2.13483025e-01, 6.81424816e-01, 9.58813581e-01, ...,\n",
       "            5.70070940e-01, 8.33937261e-01, 6.08191402e-01],\n",
       "           [4.36766483e-01, 6.47678602e-01, 9.52754166e-01, ...,\n",
       "            3.43830386e-01, 6.43410352e-01, 3.58057476e-01],\n",
       "           [8.89523482e-01, 8.66113778e-01, 7.14321528e-01, ...,\n",
       "            5.84039711e-01, 9.31646618e-01, 5.46732263e-02]],\n",
       "\n",
       "          [[3.28993014e-01, 2.35786739e-03, 7.68664831e-01, ...,\n",
       "            3.24903884e-01, 6.31316795e-01, 5.28280290e-01],\n",
       "           [8.06638585e-01, 3.13923392e-01, 6.18849718e-01, ...,\n",
       "            4.03206022e-01, 2.98396688e-02, 8.44635868e-01],\n",
       "           [6.17595175e-01, 3.55998773e-01, 4.29070825e-01, ...,\n",
       "            3.84783096e-01, 9.63057146e-01, 7.17387806e-01],\n",
       "           ...,\n",
       "           [1.86912803e-01, 1.72823898e-01, 8.01847891e-01, ...,\n",
       "            6.14457183e-01, 5.58053532e-01, 5.42196070e-02],\n",
       "           [8.19824593e-01, 9.54325881e-01, 4.91142625e-01, ...,\n",
       "            2.96888639e-01, 4.93562284e-01, 1.53526623e-01],\n",
       "           [1.97321953e-01, 5.67260846e-01, 1.64393523e-02, ...,\n",
       "            4.94760347e-01, 7.33323200e-01, 2.13452116e-02]],\n",
       "\n",
       "          ...,\n",
       "\n",
       "          [[2.77103492e-01, 1.57734856e-01, 9.00921783e-01, ...,\n",
       "            5.41901447e-01, 5.79010526e-01, 1.18624934e-02],\n",
       "           [1.42571333e-02, 1.60218780e-01, 3.75628796e-01, ...,\n",
       "            7.33133004e-01, 5.74307834e-01, 7.46236069e-01],\n",
       "           [2.02367788e-01, 9.71367207e-02, 4.36940006e-01, ...,\n",
       "            3.33873798e-01, 7.30608218e-01, 4.28281267e-01],\n",
       "           ...,\n",
       "           [4.43604749e-01, 7.68486948e-01, 5.51523949e-01, ...,\n",
       "            6.57961186e-01, 8.50943935e-01, 7.54992780e-01],\n",
       "           [7.32714868e-02, 3.74662441e-01, 9.73673190e-01, ...,\n",
       "            2.92693405e-01, 8.29943662e-01, 5.21774500e-01],\n",
       "           [8.05926607e-01, 9.57687348e-01, 3.60406353e-01, ...,\n",
       "            1.19339757e-01, 8.92760196e-01, 9.83508739e-01]],\n",
       "\n",
       "          [[7.57834130e-01, 5.50408575e-01, 8.72771662e-01, ...,\n",
       "            7.77705807e-01, 4.69862987e-01, 5.77940561e-01],\n",
       "           [1.61776233e-01, 2.24902992e-01, 6.47220829e-01, ...,\n",
       "            5.39261166e-01, 4.33315194e-02, 1.60060477e-01],\n",
       "           [8.32660801e-01, 3.63855021e-01, 8.16483298e-01, ...,\n",
       "            2.94778791e-01, 6.93485819e-01, 4.41808213e-01],\n",
       "           ...,\n",
       "           [8.31593210e-01, 2.92739693e-01, 2.00329648e-01, ...,\n",
       "            2.60678308e-01, 9.85880039e-01, 1.98464291e-01],\n",
       "           [9.37269817e-01, 7.06238956e-02, 7.37590705e-01, ...,\n",
       "            1.10878570e-01, 9.28004393e-01, 2.58959852e-01],\n",
       "           [5.79413909e-01, 4.32957209e-01, 5.46019175e-01, ...,\n",
       "            6.57567647e-01, 9.13732229e-01, 2.72213175e-01]],\n",
       "\n",
       "          [[5.64308691e-01, 6.01256253e-01, 7.72725217e-01, ...,\n",
       "            9.08301907e-01, 4.35172812e-01, 2.39159104e-01],\n",
       "           [7.38610812e-01, 4.77736313e-01, 5.65581777e-01, ...,\n",
       "            9.30170565e-01, 5.52836125e-02, 1.79618555e-01],\n",
       "           [7.84670104e-01, 4.61808981e-01, 9.93085121e-01, ...,\n",
       "            2.71347750e-01, 2.38763852e-02, 8.31258059e-01],\n",
       "           ...,\n",
       "           [3.84659916e-01, 1.55360010e-01, 3.34573029e-02, ...,\n",
       "            5.20346776e-01, 4.04862178e-01, 8.98909684e-02],\n",
       "           [1.90725432e-01, 3.05708581e-01, 1.36234690e-01, ...,\n",
       "            4.81148228e-01, 9.16703385e-01, 4.01976474e-01],\n",
       "           [5.60288621e-01, 1.30770027e-01, 2.15595514e-01, ...,\n",
       "            4.06159361e-01, 2.15258671e-01, 4.61252739e-01]]]],\n",
       "\n",
       "\n",
       "\n",
       "        [[[[9.90695959e-01, 8.42945613e-02, 5.59536309e-01, ...,\n",
       "            2.60604408e-01, 9.63340599e-01, 1.78262086e-01],\n",
       "           [9.51381366e-01, 3.50895440e-01, 6.66383902e-01, ...,\n",
       "            4.62036418e-01, 4.16998587e-01, 5.03030580e-01],\n",
       "           [3.27686249e-02, 1.78204674e-01, 4.90430356e-01, ...,\n",
       "            4.59180234e-01, 1.02911117e-01, 2.21264409e-01],\n",
       "           ...,\n",
       "           [1.22109767e-01, 7.06442715e-01, 3.83635425e-01, ...,\n",
       "            3.54190065e-01, 4.14074045e-01, 5.54626193e-01],\n",
       "           [8.39598181e-01, 4.77983334e-01, 5.36108148e-01, ...,\n",
       "            5.20663015e-01, 5.93989653e-01, 8.41225428e-01],\n",
       "           [1.38982651e-01, 2.32245628e-01, 6.64918502e-01, ...,\n",
       "            1.74502740e-01, 8.39420762e-02, 6.05984884e-01]],\n",
       "\n",
       "          [[7.90163462e-01, 6.39144546e-01, 3.97392780e-02, ...,\n",
       "            5.32746292e-01, 6.66269548e-01, 4.13165606e-01],\n",
       "           [5.71527840e-01, 3.35393216e-01, 8.12653434e-01, ...,\n",
       "            9.55676227e-01, 1.42151851e-01, 6.18940881e-01],\n",
       "           [3.17853935e-01, 8.57223752e-01, 5.73700342e-01, ...,\n",
       "            1.11367336e-01, 8.03854617e-01, 7.61534061e-01],\n",
       "           ...,\n",
       "           [8.53043847e-01, 7.82251654e-01, 6.54611556e-01, ...,\n",
       "            8.37451743e-01, 5.00067859e-01, 2.85108678e-01],\n",
       "           [4.00236738e-01, 5.58867861e-01, 5.09100028e-01, ...,\n",
       "            4.08458981e-01, 1.76766111e-01, 4.76495112e-01],\n",
       "           [1.87401664e-01, 8.02238639e-01, 1.66971740e-01, ...,\n",
       "            6.76663818e-01, 5.27494205e-01, 4.71759572e-01]],\n",
       "\n",
       "          [[4.20996094e-01, 9.13690822e-01, 5.25070848e-01, ...,\n",
       "            8.86895867e-01, 7.72569089e-01, 5.04795904e-01],\n",
       "           [7.51416251e-01, 7.04901000e-01, 9.34599270e-01, ...,\n",
       "            6.87902161e-02, 1.12548975e-01, 2.40618909e-01],\n",
       "           [8.12902646e-01, 4.29191261e-01, 4.65403973e-01, ...,\n",
       "            4.95889634e-01, 8.69693149e-01, 2.39239226e-01],\n",
       "           ...,\n",
       "           [2.26944224e-01, 3.34281936e-01, 8.12019006e-01, ...,\n",
       "            7.49319544e-01, 7.71573952e-01, 4.86368531e-01],\n",
       "           [1.70775910e-01, 2.88373678e-02, 5.05318378e-01, ...,\n",
       "            3.80370686e-01, 6.64919367e-01, 9.21319790e-01],\n",
       "           [5.37088229e-01, 6.28148041e-01, 3.88903879e-01, ...,\n",
       "            1.00110166e-01, 1.28475690e-01, 1.08468750e-02]],\n",
       "\n",
       "          ...,\n",
       "\n",
       "          [[7.92108059e-01, 4.71591343e-02, 9.50619772e-01, ...,\n",
       "            9.82338903e-01, 6.99929770e-01, 7.09828313e-01],\n",
       "           [7.04488210e-01, 6.34322835e-01, 8.20464392e-01, ...,\n",
       "            4.93166337e-01, 6.51589313e-01, 4.15723816e-01],\n",
       "           [6.40867357e-01, 7.81053723e-01, 7.94353000e-01, ...,\n",
       "            5.78387800e-01, 6.30588949e-01, 2.63112151e-01],\n",
       "           ...,\n",
       "           [2.51452146e-01, 5.10706525e-01, 3.81357945e-01, ...,\n",
       "            6.72890740e-01, 5.29775956e-01, 9.73332283e-01],\n",
       "           [2.54874067e-01, 2.26013215e-01, 7.36206588e-01, ...,\n",
       "            2.96119699e-01, 7.99325184e-01, 5.62646522e-01],\n",
       "           [7.00658720e-01, 7.72941674e-01, 4.06250583e-01, ...,\n",
       "            6.26071667e-01, 8.23077616e-01, 2.71345214e-01]],\n",
       "\n",
       "          [[4.06812360e-01, 5.63815023e-01, 4.94605460e-01, ...,\n",
       "            5.34623218e-01, 8.74038017e-01, 1.26375268e-01],\n",
       "           [9.38104563e-01, 4.23371371e-01, 6.17033417e-01, ...,\n",
       "            6.69372883e-01, 6.66321057e-02, 3.46003324e-01],\n",
       "           [5.96926622e-01, 4.16623865e-01, 1.36764300e-01, ...,\n",
       "            9.04681193e-01, 5.19018228e-01, 5.07575037e-01],\n",
       "           ...,\n",
       "           [1.42999756e-01, 4.93775351e-01, 6.32834241e-02, ...,\n",
       "            2.01582381e-01, 7.76157051e-01, 8.80611597e-01],\n",
       "           [7.30142568e-01, 4.53264704e-01, 4.53715481e-01, ...,\n",
       "            6.02593323e-01, 8.61235674e-01, 1.51335548e-01],\n",
       "           [2.41371897e-01, 3.07706159e-01, 1.44339155e-01, ...,\n",
       "            8.84791985e-01, 2.79272562e-01, 1.17857832e-01]],\n",
       "\n",
       "          [[7.87094805e-01, 9.29055564e-01, 2.74783704e-01, ...,\n",
       "            7.83732892e-01, 1.34179539e-01, 9.46821411e-01],\n",
       "           [7.09761791e-02, 8.71420917e-01, 1.54126294e-01, ...,\n",
       "            5.61349305e-02, 5.54298577e-01, 7.80879549e-01],\n",
       "           [2.20010752e-01, 5.67609714e-01, 3.99404457e-01, ...,\n",
       "            5.92959439e-03, 4.80756702e-01, 6.08501993e-01],\n",
       "           ...,\n",
       "           [3.19407649e-01, 5.19116358e-01, 5.68712413e-01, ...,\n",
       "            8.07506527e-01, 9.54489211e-01, 5.22456295e-01],\n",
       "           [6.36186724e-01, 4.98249998e-01, 2.70284910e-01, ...,\n",
       "            4.11582022e-01, 8.74611107e-01, 8.19702987e-02],\n",
       "           [6.85185019e-01, 3.60532008e-01, 9.25091082e-01, ...,\n",
       "            3.44003260e-01, 1.99010564e-01, 3.76049754e-01]]],\n",
       "\n",
       "\n",
       "         [[[3.19952641e-01, 8.17949910e-01, 2.37087098e-01, ...,\n",
       "            6.67175291e-01, 9.31173570e-01, 1.01648045e-01],\n",
       "           [4.58676929e-01, 7.17729592e-01, 2.29276709e-01, ...,\n",
       "            5.92605584e-01, 3.50292290e-01, 9.73122482e-01],\n",
       "           [2.75384789e-01, 9.82730447e-01, 8.29139693e-01, ...,\n",
       "            4.86947610e-01, 1.54270289e-01, 9.15683647e-01],\n",
       "           ...,\n",
       "           [2.13886068e-01, 9.82925226e-01, 5.26554009e-01, ...,\n",
       "            3.40952222e-01, 3.49330227e-01, 4.03026672e-01],\n",
       "           [4.91305328e-02, 8.46689207e-01, 9.46653716e-01, ...,\n",
       "            8.17986762e-01, 4.75301298e-01, 8.49821771e-01],\n",
       "           [9.04878360e-01, 2.81374734e-01, 8.49719543e-01, ...,\n",
       "            5.45059200e-01, 5.29164430e-01, 2.77119777e-02]],\n",
       "\n",
       "          [[6.43028723e-01, 1.52060548e-01, 6.05901839e-01, ...,\n",
       "            6.82029479e-02, 9.38602552e-02, 3.00091863e-01],\n",
       "           [1.78750689e-01, 5.27881879e-01, 2.91243441e-01, ...,\n",
       "            3.96831322e-01, 1.80702262e-01, 3.85758669e-01],\n",
       "           [5.20036689e-01, 5.57071174e-01, 3.27162900e-01, ...,\n",
       "            4.38694879e-01, 3.20823318e-01, 7.67846717e-02],\n",
       "           ...,\n",
       "           [4.55564164e-01, 7.16372236e-01, 2.26793720e-01, ...,\n",
       "            3.31464666e-01, 1.26005172e-01, 4.23215494e-01],\n",
       "           [2.49985026e-01, 1.63313122e-03, 9.96639117e-01, ...,\n",
       "            8.38784409e-01, 3.04298278e-01, 5.98184174e-01],\n",
       "           [9.42135813e-01, 7.59708260e-01, 5.84071156e-01, ...,\n",
       "            8.98128176e-01, 2.93793287e-01, 4.75687419e-01]],\n",
       "\n",
       "          [[8.25008904e-01, 6.94657268e-01, 4.58510110e-01, ...,\n",
       "            7.81690016e-01, 5.85320136e-02, 3.99773672e-01],\n",
       "           [4.51356056e-01, 6.57572273e-01, 4.34026251e-01, ...,\n",
       "            9.50113336e-01, 4.57117892e-01, 9.01374491e-01],\n",
       "           [9.66388205e-01, 9.55427406e-01, 1.34142750e-01, ...,\n",
       "            2.16310665e-01, 6.77215202e-01, 4.73150663e-01],\n",
       "           ...,\n",
       "           [7.16590843e-01, 6.41176066e-01, 2.74995131e-01, ...,\n",
       "            7.25829818e-01, 2.25594030e-01, 9.54524176e-01],\n",
       "           [9.32666820e-01, 1.06508070e-01, 2.49276182e-01, ...,\n",
       "            8.10540771e-02, 4.82544264e-02, 6.92311404e-01],\n",
       "           [9.68712754e-01, 3.04911234e-02, 4.60078616e-01, ...,\n",
       "            9.41742835e-01, 1.45073456e-01, 7.16354588e-01]],\n",
       "\n",
       "          ...,\n",
       "\n",
       "          [[7.08102419e-02, 6.80962731e-01, 6.57960379e-01, ...,\n",
       "            3.60532020e-01, 7.33385183e-01, 1.64639258e-01],\n",
       "           [4.46930680e-01, 7.94806137e-02, 8.57728409e-02, ...,\n",
       "            7.86797387e-01, 4.44761237e-01, 7.81113199e-01],\n",
       "           [6.27334560e-02, 1.03827569e-01, 5.31271344e-01, ...,\n",
       "            9.78654241e-01, 5.63602671e-01, 8.66148214e-01],\n",
       "           ...,\n",
       "           [3.51041602e-01, 1.01748370e-01, 4.69859787e-01, ...,\n",
       "            7.11315399e-01, 7.71492573e-01, 7.19794224e-01],\n",
       "           [6.85288119e-01, 9.49221681e-01, 2.68932705e-01, ...,\n",
       "            8.68042594e-01, 4.20922926e-01, 2.78367950e-01],\n",
       "           [8.83877527e-01, 9.16478262e-01, 8.19282719e-01, ...,\n",
       "            3.72238976e-01, 9.52654918e-02, 1.38165576e-01]],\n",
       "\n",
       "          [[6.86177285e-01, 8.05712273e-01, 9.27993988e-01, ...,\n",
       "            6.93395479e-01, 3.19718657e-01, 2.08796632e-01],\n",
       "           [1.58524953e-01, 8.64672054e-01, 9.77167548e-01, ...,\n",
       "            1.44472248e-01, 6.24102409e-01, 5.06452843e-01],\n",
       "           [3.05214450e-01, 9.09607853e-01, 1.08882453e-01, ...,\n",
       "            3.30879106e-01, 5.98015569e-01, 6.43428254e-01],\n",
       "           ...,\n",
       "           [2.52376652e-01, 5.71564650e-01, 4.04371998e-01, ...,\n",
       "            7.29858288e-01, 2.29104406e-01, 3.19281366e-01],\n",
       "           [5.62207299e-02, 4.43945254e-01, 3.31524032e-01, ...,\n",
       "            6.12149563e-01, 4.98006399e-01, 1.72127129e-01],\n",
       "           [2.44519598e-01, 6.98455957e-01, 4.98251317e-01, ...,\n",
       "            8.72414178e-01, 6.99122255e-01, 7.18429652e-01]],\n",
       "\n",
       "          [[3.98153815e-01, 5.83328681e-01, 5.75545864e-01, ...,\n",
       "            5.17690080e-01, 3.50342350e-01, 7.59514296e-01],\n",
       "           [1.12752109e-01, 5.96213002e-01, 9.03993017e-01, ...,\n",
       "            5.32271166e-01, 1.36519993e-01, 2.67411204e-01],\n",
       "           [7.81564003e-01, 1.01758379e-01, 2.77306497e-01, ...,\n",
       "            4.57296261e-01, 9.35303869e-01, 6.22898935e-01],\n",
       "           ...,\n",
       "           [1.19963905e-01, 6.79126641e-01, 4.66920639e-01, ...,\n",
       "            7.79341930e-01, 6.64346520e-01, 3.89556811e-02],\n",
       "           [5.19734669e-01, 6.41585595e-01, 6.39613550e-01, ...,\n",
       "            9.36790618e-02, 6.23756831e-01, 5.89167302e-01],\n",
       "           [5.60641263e-01, 4.70158389e-01, 2.64084626e-02, ...,\n",
       "            7.97644084e-01, 6.87939708e-01, 1.40343931e-01]]],\n",
       "\n",
       "\n",
       "         [[[7.13403553e-01, 2.15833992e-01, 9.69582069e-01, ...,\n",
       "            1.32568467e-01, 3.19369020e-01, 1.87404877e-01],\n",
       "           [3.49342697e-01, 4.65220934e-01, 8.66188219e-01, ...,\n",
       "            9.51199172e-01, 5.08385139e-01, 4.51849823e-01],\n",
       "           [7.30484129e-01, 8.74586692e-01, 3.67542098e-01, ...,\n",
       "            9.33246354e-01, 1.70335909e-01, 3.11654848e-01],\n",
       "           ...,\n",
       "           [1.06727936e-01, 8.38590778e-01, 1.16950727e-02, ...,\n",
       "            1.41554523e-01, 7.95813154e-01, 8.45148873e-01],\n",
       "           [6.73364391e-01, 7.39596512e-01, 2.35751958e-01, ...,\n",
       "            5.19338935e-01, 3.90774063e-01, 5.74101376e-01],\n",
       "           [8.91785175e-01, 5.69061475e-02, 6.68163231e-01, ...,\n",
       "            3.15454207e-02, 4.81113517e-01, 8.33030947e-01]],\n",
       "\n",
       "          [[5.22862263e-02, 4.97045408e-01, 5.13771494e-01, ...,\n",
       "            2.22502994e-01, 7.64937250e-01, 3.49197051e-01],\n",
       "           [5.83133861e-02, 4.77220040e-01, 8.19766544e-01, ...,\n",
       "            4.82985026e-01, 1.70072800e-01, 4.44254580e-01],\n",
       "           [3.39802299e-01, 2.51917313e-01, 1.52657622e-01, ...,\n",
       "            5.05218177e-01, 2.16187541e-01, 5.46008351e-01],\n",
       "           ...,\n",
       "           [3.81421052e-01, 7.71731946e-01, 5.41043801e-01, ...,\n",
       "            8.82503509e-01, 3.16766080e-01, 5.65963028e-01],\n",
       "           [8.49751084e-02, 3.54727414e-01, 5.63550047e-01, ...,\n",
       "            8.67346300e-01, 3.95485263e-01, 5.84452628e-01],\n",
       "           [2.90981611e-01, 3.24483556e-01, 2.56010222e-01, ...,\n",
       "            3.91847289e-01, 7.12203519e-01, 1.50977970e-01]],\n",
       "\n",
       "          [[9.57197201e-01, 5.25133008e-01, 5.30152768e-01, ...,\n",
       "            6.52593943e-01, 6.24041075e-01, 7.30425845e-01],\n",
       "           [5.75251949e-01, 1.64387652e-01, 4.74519428e-01, ...,\n",
       "            2.28682023e-01, 8.92701352e-01, 3.62089142e-01],\n",
       "           [8.13830531e-01, 1.83005956e-01, 5.60569798e-01, ...,\n",
       "            6.94585783e-01, 5.97938294e-01, 4.26100291e-01],\n",
       "           ...,\n",
       "           [5.31862231e-01, 7.75673269e-01, 9.48402157e-01, ...,\n",
       "            3.34968790e-01, 4.59959384e-02, 9.27325953e-02],\n",
       "           [9.51588414e-02, 5.41756930e-01, 4.19603258e-01, ...,\n",
       "            4.46864718e-01, 6.85722267e-01, 5.20380811e-01],\n",
       "           [4.79169256e-02, 1.42083820e-01, 7.68315447e-01, ...,\n",
       "            6.85427852e-02, 7.13284124e-01, 6.12059586e-01]],\n",
       "\n",
       "          ...,\n",
       "\n",
       "          [[6.21050626e-02, 1.63968569e-01, 4.55559103e-01, ...,\n",
       "            1.89927403e-01, 2.11212486e-01, 9.71934907e-01],\n",
       "           [1.05472556e-02, 6.39506217e-01, 4.07425181e-01, ...,\n",
       "            6.07069039e-01, 1.95630621e-01, 8.25325241e-01],\n",
       "           [7.81597139e-01, 2.56936082e-01, 3.75515302e-02, ...,\n",
       "            5.45724864e-01, 2.80897296e-01, 2.88498584e-01],\n",
       "           ...,\n",
       "           [2.57505257e-01, 7.83964628e-01, 3.86227052e-02, ...,\n",
       "            3.38856613e-01, 8.81451188e-01, 3.74673653e-01],\n",
       "           [2.36110592e-01, 9.22461990e-01, 4.81516319e-01, ...,\n",
       "            5.17867295e-01, 4.66854224e-01, 1.68539940e-02],\n",
       "           [9.07236641e-01, 4.03606940e-01, 6.91716299e-02, ...,\n",
       "            6.56468167e-01, 8.47980356e-01, 6.65415930e-01]],\n",
       "\n",
       "          [[1.95174537e-01, 6.27928357e-01, 3.42939323e-01, ...,\n",
       "            7.81300118e-01, 5.59643761e-01, 5.71187744e-01],\n",
       "           [1.45917156e-01, 7.29383887e-01, 1.23596545e-01, ...,\n",
       "            1.60196801e-01, 7.55756499e-01, 8.48926294e-01],\n",
       "           [1.90508570e-01, 7.55548677e-01, 2.30075816e-02, ...,\n",
       "            2.90663131e-01, 5.81086096e-01, 6.08845860e-01],\n",
       "           ...,\n",
       "           [9.88878241e-01, 1.89445241e-01, 7.75752246e-02, ...,\n",
       "            6.27107674e-01, 4.65365983e-01, 4.15333203e-01],\n",
       "           [2.18530591e-01, 5.59490674e-01, 1.04788296e-01, ...,\n",
       "            6.06524573e-01, 2.91932878e-01, 6.48095088e-02],\n",
       "           [7.43242970e-02, 8.01956725e-01, 6.06261585e-01, ...,\n",
       "            4.42410141e-01, 8.83180202e-01, 9.99959260e-01]],\n",
       "\n",
       "          [[1.79422495e-01, 6.98058723e-01, 1.97461678e-01, ...,\n",
       "            5.99569007e-01, 9.53606515e-01, 8.55794862e-01],\n",
       "           [3.01960273e-01, 8.15338757e-02, 7.18071793e-01, ...,\n",
       "            5.54896213e-02, 7.48109687e-01, 1.15610598e-01],\n",
       "           [3.02653268e-01, 4.55076094e-01, 4.23330342e-01, ...,\n",
       "            3.12804044e-01, 3.35498645e-01, 4.71380274e-01],\n",
       "           ...,\n",
       "           [2.61377008e-01, 8.28687057e-01, 2.77215668e-01, ...,\n",
       "            9.53128063e-01, 1.02351157e-01, 5.84430146e-01],\n",
       "           [4.52337862e-01, 7.16679801e-01, 3.08609196e-01, ...,\n",
       "            3.89610129e-01, 5.21521780e-01, 4.69930157e-01],\n",
       "           [8.31367355e-02, 3.79155713e-01, 2.11873105e-01, ...,\n",
       "            2.50303633e-01, 7.57972236e-01, 6.70441432e-03]]],\n",
       "\n",
       "\n",
       "         [[[3.33971232e-01, 2.62381456e-01, 6.28744059e-01, ...,\n",
       "            6.40382772e-01, 8.34011155e-01, 1.54727229e-01],\n",
       "           [9.08547266e-02, 2.27690826e-01, 2.21697527e-01, ...,\n",
       "            6.01134275e-01, 8.70058492e-01, 6.87962566e-01],\n",
       "           [7.87286132e-01, 4.66270007e-01, 6.79800991e-01, ...,\n",
       "            4.02419472e-01, 8.68331895e-01, 4.80236384e-01],\n",
       "           ...,\n",
       "           [5.28383669e-01, 4.96144930e-02, 7.74177191e-01, ...,\n",
       "            8.52972612e-01, 1.07030841e-01, 7.32051250e-01],\n",
       "           [8.35534202e-01, 8.21343700e-02, 9.23041536e-01, ...,\n",
       "            5.42232777e-03, 5.76418622e-01, 5.44212116e-02],\n",
       "           [7.77320325e-01, 3.78806097e-01, 3.53479542e-01, ...,\n",
       "            3.43381904e-01, 3.71110997e-01, 4.81672300e-01]],\n",
       "\n",
       "          [[1.95337476e-01, 8.96396196e-01, 5.84065316e-01, ...,\n",
       "            8.88910647e-01, 3.91735163e-01, 4.02722015e-01],\n",
       "           [9.22750099e-02, 2.77195928e-01, 2.54405547e-01, ...,\n",
       "            6.96884686e-01, 2.27281902e-01, 8.35910793e-01],\n",
       "           [4.11637983e-01, 6.67351495e-01, 5.16770871e-01, ...,\n",
       "            7.37960841e-01, 5.27089167e-01, 5.76173903e-01],\n",
       "           ...,\n",
       "           [1.15061819e-01, 8.87036366e-02, 3.61891169e-01, ...,\n",
       "            7.95263935e-01, 7.92482824e-01, 7.87705998e-01],\n",
       "           [6.85546778e-01, 9.86761632e-01, 3.02634454e-01, ...,\n",
       "            7.35245663e-01, 2.38854955e-02, 8.74748710e-01],\n",
       "           [9.61508448e-01, 1.50911535e-01, 6.46830409e-01, ...,\n",
       "            7.50371224e-02, 3.17064726e-01, 6.02886543e-01]],\n",
       "\n",
       "          [[3.90720804e-01, 3.00158014e-01, 5.92396605e-01, ...,\n",
       "            3.71696935e-01, 9.60418627e-01, 1.79183137e-01],\n",
       "           [2.99681307e-02, 1.86225070e-02, 2.86840843e-01, ...,\n",
       "            7.47961832e-01, 1.05858718e-01, 7.73163402e-01],\n",
       "           [3.98163553e-03, 5.90280468e-01, 8.36856840e-02, ...,\n",
       "            3.95401800e-01, 9.88270404e-01, 9.64817027e-01],\n",
       "           ...,\n",
       "           [7.63628917e-01, 8.67441021e-01, 4.28414582e-01, ...,\n",
       "            2.27695139e-01, 7.65404742e-01, 8.98940058e-01],\n",
       "           [6.58670882e-02, 7.86499329e-01, 4.69091238e-01, ...,\n",
       "            2.31372413e-01, 7.47039119e-01, 7.73092523e-01],\n",
       "           [9.19504754e-01, 7.63866308e-01, 1.53953260e-02, ...,\n",
       "            2.75007368e-01, 9.93552263e-01, 1.98789522e-01]],\n",
       "\n",
       "          ...,\n",
       "\n",
       "          [[4.40702328e-01, 7.21220507e-01, 1.37397628e-01, ...,\n",
       "            8.66155064e-01, 1.93435639e-01, 3.17829997e-01],\n",
       "           [4.94185668e-02, 4.71338646e-01, 2.39912206e-01, ...,\n",
       "            8.68754475e-02, 1.85411767e-01, 1.74356832e-01],\n",
       "           [3.48619580e-01, 4.34132175e-01, 9.82363135e-01, ...,\n",
       "            5.31401343e-01, 7.68781257e-01, 2.90414525e-01],\n",
       "           ...,\n",
       "           [8.40985998e-01, 2.31483722e-01, 3.32448517e-01, ...,\n",
       "            4.16915837e-01, 5.72580712e-01, 9.24582045e-01],\n",
       "           [5.55790123e-01, 5.78650242e-03, 5.47524585e-03, ...,\n",
       "            1.35003519e-01, 6.82544512e-02, 2.52662424e-01],\n",
       "           [2.28911904e-01, 6.95482610e-01, 7.65038283e-01, ...,\n",
       "            7.91430162e-01, 8.73448562e-01, 9.17255684e-01]],\n",
       "\n",
       "          [[4.06090466e-01, 2.03252929e-01, 1.00492185e-01, ...,\n",
       "            6.09182091e-01, 3.42348431e-01, 7.52200029e-01],\n",
       "           [5.87103566e-01, 5.58753050e-02, 6.94945149e-01, ...,\n",
       "            3.37621741e-01, 3.15561847e-01, 9.23096564e-01],\n",
       "           [5.48281174e-01, 7.86559679e-01, 2.06217299e-01, ...,\n",
       "            6.48197770e-03, 2.03829840e-01, 5.20039275e-01],\n",
       "           ...,\n",
       "           [2.07709154e-01, 4.98169209e-01, 3.29567271e-01, ...,\n",
       "            9.58895393e-01, 9.80393204e-01, 7.31372811e-01],\n",
       "           [8.06697215e-01, 1.88390964e-01, 8.73543866e-01, ...,\n",
       "            8.81669121e-01, 1.91852282e-01, 3.14763531e-01],\n",
       "           [9.81554880e-01, 7.46340929e-03, 8.31277562e-01, ...,\n",
       "            1.29284075e-01, 9.42420803e-01, 6.47809922e-01]],\n",
       "\n",
       "          [[3.94861127e-01, 7.66594283e-01, 3.45191069e-01, ...,\n",
       "            4.55474290e-01, 5.94615645e-01, 1.85471952e-01],\n",
       "           [3.77847570e-01, 2.95871178e-01, 2.72976202e-01, ...,\n",
       "            2.49501460e-01, 3.48844672e-01, 2.65954020e-01],\n",
       "           [9.18559332e-02, 2.10377966e-01, 2.41175472e-02, ...,\n",
       "            5.31374888e-01, 6.99926005e-01, 8.41617189e-02],\n",
       "           ...,\n",
       "           [1.57773620e-01, 7.04203154e-01, 7.96426069e-02, ...,\n",
       "            9.22273796e-01, 6.37018332e-01, 1.40245366e-01],\n",
       "           [4.93554487e-01, 4.47218310e-01, 3.43239195e-01, ...,\n",
       "            3.11052305e-01, 3.41445816e-01, 2.45526397e-01],\n",
       "           [2.10414144e-01, 4.03421035e-01, 9.11465522e-01, ...,\n",
       "            2.65306423e-01, 4.17609992e-01, 7.42934781e-02]]]],\n",
       "\n",
       "\n",
       "\n",
       "        [[[[2.91883528e-01, 7.60511908e-01, 5.88640535e-01, ...,\n",
       "            2.55724007e-01, 8.26498225e-01, 8.67808661e-01],\n",
       "           [1.80040364e-01, 9.53961070e-01, 5.85321858e-01, ...,\n",
       "            5.53590927e-01, 3.30985133e-01, 4.90153232e-01],\n",
       "           [4.67410698e-01, 9.48434928e-01, 4.73928279e-01, ...,\n",
       "            9.60055207e-01, 5.13047499e-02, 4.00890530e-01],\n",
       "           ...,\n",
       "           [8.90438723e-02, 3.97281464e-02, 3.80989399e-01, ...,\n",
       "            7.99738651e-02, 3.29839032e-01, 1.31704024e-02],\n",
       "           [3.22598430e-01, 5.72857571e-01, 4.42137500e-01, ...,\n",
       "            1.81157742e-01, 5.23318854e-01, 1.89141060e-01],\n",
       "           [2.05074715e-01, 9.26313565e-01, 4.03793220e-01, ...,\n",
       "            8.70605876e-01, 3.35787997e-01, 8.99351015e-01]],\n",
       "\n",
       "          [[4.30783056e-01, 7.86723635e-01, 1.29121850e-01, ...,\n",
       "            1.34791608e-01, 7.79719150e-01, 9.57311532e-01],\n",
       "           [7.91037778e-01, 7.98860867e-01, 5.03790119e-01, ...,\n",
       "            6.33858413e-01, 2.54573563e-01, 2.40264021e-01],\n",
       "           [2.75135460e-01, 1.46922155e-01, 6.97308961e-01, ...,\n",
       "            5.93469051e-01, 7.06464966e-01, 7.44788800e-01],\n",
       "           ...,\n",
       "           [5.80970782e-01, 3.46659546e-01, 4.20371456e-01, ...,\n",
       "            3.18932456e-01, 9.73460550e-01, 1.57030184e-01],\n",
       "           [5.02049164e-03, 4.71325701e-01, 2.62821023e-02, ...,\n",
       "            7.10348929e-01, 1.33442773e-01, 7.87192177e-01],\n",
       "           [1.97559055e-01, 5.11550316e-01, 6.26124277e-01, ...,\n",
       "            6.57646319e-02, 7.28234662e-03, 9.71047080e-01]],\n",
       "\n",
       "          [[2.34049908e-01, 4.14105247e-01, 8.47624351e-01, ...,\n",
       "            4.69812739e-01, 2.97347720e-01, 5.92498539e-01],\n",
       "           [7.67013404e-01, 9.33162153e-01, 4.97422353e-01, ...,\n",
       "            2.90330647e-01, 9.72670090e-01, 8.65555303e-01],\n",
       "           [8.42312098e-01, 2.04790169e-01, 7.06770040e-01, ...,\n",
       "            8.91357583e-01, 2.04565970e-01, 4.15679317e-02],\n",
       "           ...,\n",
       "           [8.18139478e-01, 6.28772891e-01, 1.47351343e-01, ...,\n",
       "            2.76756239e-02, 9.04780234e-01, 3.87126274e-01],\n",
       "           [7.31965604e-01, 5.13171016e-01, 1.90483574e-01, ...,\n",
       "            3.94417413e-01, 8.28850401e-01, 9.06658431e-01],\n",
       "           [4.69683350e-02, 4.12225739e-01, 7.07969151e-01, ...,\n",
       "            8.96772470e-01, 2.24232239e-01, 1.82005963e-01]],\n",
       "\n",
       "          ...,\n",
       "\n",
       "          [[3.96094240e-01, 5.50385397e-01, 4.41633144e-01, ...,\n",
       "            1.84274897e-02, 9.19527828e-02, 5.28514494e-01],\n",
       "           [3.01710134e-01, 8.77544620e-01, 3.54053596e-01, ...,\n",
       "            8.42200804e-01, 3.00245141e-01, 7.23012118e-01],\n",
       "           [6.33409849e-01, 5.78554755e-01, 3.44012838e-01, ...,\n",
       "            5.96717339e-01, 7.52613843e-01, 5.90101231e-01],\n",
       "           ...,\n",
       "           [6.09723543e-01, 5.31315495e-01, 7.39080937e-01, ...,\n",
       "            9.06574957e-01, 1.00132093e-01, 1.22006775e-02],\n",
       "           [4.29315289e-01, 9.13909460e-01, 9.08560483e-01, ...,\n",
       "            4.22935011e-01, 1.08356283e-01, 8.38039119e-01],\n",
       "           [1.12086875e-01, 2.06718545e-02, 5.97996456e-01, ...,\n",
       "            4.18939640e-01, 2.29344520e-01, 5.19580573e-01]],\n",
       "\n",
       "          [[9.04119735e-01, 4.21447597e-01, 6.51985704e-01, ...,\n",
       "            8.63852692e-01, 2.06502994e-01, 5.85214554e-01],\n",
       "           [9.97112941e-01, 1.42031868e-01, 8.73604637e-01, ...,\n",
       "            7.86456388e-01, 8.68086181e-01, 3.45527820e-01],\n",
       "           [8.53902351e-01, 6.60257276e-01, 8.83587233e-01, ...,\n",
       "            5.75319553e-01, 1.55910763e-01, 5.97084499e-01],\n",
       "           ...,\n",
       "           [3.79205197e-01, 7.92283112e-01, 5.95882886e-01, ...,\n",
       "            8.45013471e-01, 9.87284614e-01, 6.48878529e-01],\n",
       "           [9.51357729e-01, 9.02456922e-01, 4.23844669e-01, ...,\n",
       "            4.96598885e-01, 3.31910430e-01, 9.58933099e-01],\n",
       "           [6.10280558e-01, 3.21026267e-01, 8.66026247e-01, ...,\n",
       "            7.22997405e-02, 2.20136829e-01, 8.77306553e-01]],\n",
       "\n",
       "          [[4.36022388e-01, 7.32086185e-01, 4.99968290e-01, ...,\n",
       "            4.70588807e-01, 6.26524945e-01, 4.97303155e-01],\n",
       "           [1.74092246e-01, 8.99291199e-01, 3.09897016e-01, ...,\n",
       "            9.83031621e-01, 4.88648445e-01, 3.34708103e-01],\n",
       "           [8.40635308e-01, 8.22457246e-01, 4.14672745e-01, ...,\n",
       "            9.69353437e-01, 8.05869134e-01, 6.92291940e-01],\n",
       "           ...,\n",
       "           [6.93647466e-01, 7.49075896e-01, 7.47681438e-01, ...,\n",
       "            1.38118879e-01, 5.00533019e-01, 9.01074345e-01],\n",
       "           [4.21998355e-01, 2.56641514e-01, 8.55443905e-01, ...,\n",
       "            7.31091767e-01, 8.26401856e-01, 1.33850435e-01],\n",
       "           [9.64316105e-01, 7.62093061e-01, 3.11616652e-01, ...,\n",
       "            4.48443208e-01, 4.53009304e-01, 9.10542921e-01]]],\n",
       "\n",
       "\n",
       "         [[[7.19896615e-01, 6.88278727e-01, 2.90259068e-01, ...,\n",
       "            9.37005463e-01, 5.52345923e-01, 8.55520949e-01],\n",
       "           [8.07024818e-01, 5.79149909e-01, 1.86390163e-01, ...,\n",
       "            8.03518871e-03, 9.64769306e-02, 9.68467207e-01],\n",
       "           [3.96080810e-01, 9.67234440e-01, 6.07033109e-03, ...,\n",
       "            5.94771691e-01, 5.23772130e-01, 3.55272544e-01],\n",
       "           ...,\n",
       "           [1.32262881e-01, 4.43167577e-01, 2.72003774e-01, ...,\n",
       "            3.81735420e-02, 8.17835425e-01, 8.30500894e-01],\n",
       "           [3.94567531e-01, 1.63886205e-01, 3.44197185e-01, ...,\n",
       "            6.55305380e-02, 9.67403114e-01, 2.68189881e-01],\n",
       "           [7.31742021e-01, 7.19209061e-02, 5.14505721e-01, ...,\n",
       "            3.23515999e-01, 9.27351338e-01, 3.43337832e-01]],\n",
       "\n",
       "          [[5.51118488e-01, 3.18018783e-01, 9.93285281e-01, ...,\n",
       "            7.27957143e-01, 4.25611767e-01, 6.48187270e-01],\n",
       "           [2.73847961e-01, 8.84002479e-01, 5.99297711e-01, ...,\n",
       "            5.51701811e-01, 4.32900286e-01, 1.69495598e-01],\n",
       "           [2.87164015e-01, 9.74495405e-01, 5.11941371e-01, ...,\n",
       "            8.37843744e-01, 6.11268530e-01, 2.16445667e-01],\n",
       "           ...,\n",
       "           [1.46664544e-01, 3.77321640e-01, 5.14817643e-03, ...,\n",
       "            9.04398063e-01, 5.44974255e-01, 2.10303284e-01],\n",
       "           [6.52183512e-01, 2.11343841e-01, 2.69431307e-01, ...,\n",
       "            4.53338630e-01, 8.67557998e-01, 9.64704258e-01],\n",
       "           [6.79911739e-01, 9.17220602e-01, 2.90092645e-01, ...,\n",
       "            4.11653701e-01, 6.58264286e-01, 1.89463291e-02]],\n",
       "\n",
       "          [[1.68472141e-01, 8.55976722e-01, 5.72668124e-01, ...,\n",
       "            2.10435201e-01, 7.04791345e-01, 8.62482154e-01],\n",
       "           [7.12446732e-01, 6.67364513e-01, 5.48956135e-01, ...,\n",
       "            5.13625425e-01, 8.48787308e-01, 9.62308744e-01],\n",
       "           [7.87234064e-01, 7.38095029e-01, 6.18642907e-01, ...,\n",
       "            6.33112420e-02, 4.36596882e-01, 1.40544715e-02],\n",
       "           ...,\n",
       "           [2.13566071e-02, 8.31813285e-01, 9.50033428e-03, ...,\n",
       "            9.02282438e-01, 9.52377988e-01, 3.94691420e-01],\n",
       "           [8.55417236e-01, 5.78233343e-01, 6.08871338e-01, ...,\n",
       "            6.91278305e-01, 8.30515251e-02, 1.18730225e-01],\n",
       "           [6.63412361e-01, 3.06572281e-01, 1.24502523e-02, ...,\n",
       "            5.00824117e-01, 8.77889515e-01, 6.68956709e-01]],\n",
       "\n",
       "          ...,\n",
       "\n",
       "          [[2.36225066e-01, 2.66282536e-01, 2.06641270e-01, ...,\n",
       "            8.37911440e-01, 6.86860709e-01, 3.42292598e-02],\n",
       "           [1.92804254e-01, 8.68437365e-01, 6.78906843e-02, ...,\n",
       "            9.17840937e-01, 7.79162437e-01, 7.23269562e-01],\n",
       "           [9.05096373e-01, 9.98198853e-01, 6.25760893e-01, ...,\n",
       "            8.98448612e-01, 3.88793345e-01, 8.53316051e-01],\n",
       "           ...,\n",
       "           [1.39149211e-01, 2.69083000e-01, 4.81555999e-01, ...,\n",
       "            2.41746125e-01, 5.38724841e-01, 7.50033618e-01],\n",
       "           [7.00118348e-02, 9.89254791e-01, 5.04134146e-02, ...,\n",
       "            3.98335524e-01, 1.58717716e-01, 8.91632130e-01],\n",
       "           [7.14148061e-01, 6.61750454e-01, 8.47885278e-01, ...,\n",
       "            4.45666945e-01, 1.31227424e-01, 8.76627933e-02]],\n",
       "\n",
       "          [[8.80721376e-01, 1.53852716e-01, 2.57829067e-02, ...,\n",
       "            3.95776446e-02, 3.88752709e-01, 4.66522345e-01],\n",
       "           [9.32921597e-01, 9.94990085e-01, 7.72913202e-01, ...,\n",
       "            6.73306587e-01, 6.80194243e-01, 8.63864638e-01],\n",
       "           [1.69684174e-01, 3.50258869e-01, 2.92490137e-01, ...,\n",
       "            4.71752157e-01, 8.05179831e-01, 8.95068103e-01],\n",
       "           ...,\n",
       "           [1.29631488e-01, 5.36409458e-01, 3.63034484e-01, ...,\n",
       "            2.70091038e-01, 5.80428077e-01, 7.24652590e-01],\n",
       "           [9.33535611e-01, 8.34719327e-01, 3.60848815e-01, ...,\n",
       "            3.33631714e-01, 5.24334927e-01, 1.47764662e-02],\n",
       "           [2.12938458e-01, 4.57307613e-01, 6.94135931e-01, ...,\n",
       "            5.62401795e-01, 6.45976968e-01, 2.30979000e-01]],\n",
       "\n",
       "          [[3.66430386e-01, 4.76039782e-01, 9.94836178e-01, ...,\n",
       "            5.14285230e-01, 5.46624079e-02, 7.81695418e-01],\n",
       "           [9.59171309e-03, 2.75495114e-01, 8.78608230e-02, ...,\n",
       "            6.77663261e-01, 4.33741662e-01, 5.35684720e-01],\n",
       "           [2.55807056e-01, 6.98518156e-01, 3.00996237e-01, ...,\n",
       "            3.72829101e-02, 5.28672971e-01, 6.43654176e-01],\n",
       "           ...,\n",
       "           [3.82180767e-01, 3.23508288e-01, 6.58934747e-01, ...,\n",
       "            7.19606672e-01, 2.49113876e-01, 1.04668560e-01],\n",
       "           [6.39228958e-01, 5.74947480e-01, 7.64978851e-01, ...,\n",
       "            9.77114255e-02, 6.62869229e-01, 9.44011001e-02],\n",
       "           [5.14467335e-01, 6.51891107e-01, 2.41663759e-01, ...,\n",
       "            6.17150315e-01, 6.85893941e-01, 7.50901198e-01]]],\n",
       "\n",
       "\n",
       "         [[[5.32727194e-01, 9.88028365e-01, 3.60861693e-01, ...,\n",
       "            9.39268881e-01, 1.86188464e-02, 7.68295288e-01],\n",
       "           [1.60108405e-01, 1.66328568e-01, 4.24255654e-01, ...,\n",
       "            3.80981687e-01, 8.60305062e-01, 5.74124369e-01],\n",
       "           [1.94409202e-01, 5.70598568e-01, 4.69185695e-01, ...,\n",
       "            3.55068034e-01, 2.91383881e-01, 2.50100247e-01],\n",
       "           ...,\n",
       "           [3.33964187e-01, 8.54077396e-01, 7.85741594e-01, ...,\n",
       "            7.78291585e-01, 9.72981773e-01, 7.99838528e-01],\n",
       "           [5.99650395e-01, 6.02721345e-01, 4.16081648e-01, ...,\n",
       "            4.25014252e-01, 6.62461122e-01, 2.27031325e-01],\n",
       "           [1.09573018e-02, 7.74776585e-01, 5.98492736e-01, ...,\n",
       "            6.92997366e-01, 4.64110206e-01, 4.69102513e-01]],\n",
       "\n",
       "          [[7.82121227e-02, 6.99896032e-01, 6.69087198e-02, ...,\n",
       "            8.54511806e-01, 5.19490232e-01, 5.07963149e-01],\n",
       "           [7.85489974e-01, 4.64917632e-02, 9.46132573e-02, ...,\n",
       "            9.75456104e-01, 1.71077077e-02, 4.26947525e-01],\n",
       "           [2.63142789e-01, 7.43000192e-01, 3.82478675e-02, ...,\n",
       "            8.89663679e-01, 3.59855742e-01, 3.28834905e-01],\n",
       "           ...,\n",
       "           [8.05072122e-01, 4.31111681e-01, 7.33388101e-01, ...,\n",
       "            1.18712176e-01, 4.52338701e-01, 6.38779386e-01],\n",
       "           [3.58797510e-01, 7.90239284e-01, 9.59973272e-02, ...,\n",
       "            2.36377938e-01, 2.07422913e-01, 6.30721124e-01],\n",
       "           [6.72824252e-02, 5.97611658e-01, 2.63756363e-01, ...,\n",
       "            1.74535802e-01, 5.35389916e-01, 3.92543442e-01]],\n",
       "\n",
       "          [[6.02659642e-01, 3.45757841e-01, 9.68674821e-02, ...,\n",
       "            3.16548474e-01, 8.27215034e-01, 1.08941164e-01],\n",
       "           [8.41780297e-01, 1.67430662e-01, 7.92105644e-01, ...,\n",
       "            3.60256379e-01, 7.66584397e-01, 1.80479559e-02],\n",
       "           [7.65912846e-01, 6.92543292e-01, 6.58974411e-01, ...,\n",
       "            1.07459872e-01, 8.57013219e-01, 7.65656735e-01],\n",
       "           ...,\n",
       "           [4.78048700e-01, 8.20791655e-01, 5.39805769e-01, ...,\n",
       "            9.15916608e-01, 5.38435613e-01, 1.01732262e-01],\n",
       "           [5.13088625e-01, 7.82713256e-01, 6.62589479e-01, ...,\n",
       "            8.80362441e-01, 9.70237247e-01, 2.20228987e-01],\n",
       "           [3.26389848e-01, 1.12587830e-01, 4.31235108e-01, ...,\n",
       "            7.22295514e-01, 8.31284651e-02, 4.59387511e-01]],\n",
       "\n",
       "          ...,\n",
       "\n",
       "          [[1.18973102e-01, 1.19449309e-01, 6.61726695e-01, ...,\n",
       "            1.47347524e-01, 2.81329294e-03, 8.05539550e-01],\n",
       "           [7.36904283e-01, 6.88107390e-01, 7.07721885e-01, ...,\n",
       "            7.67583719e-01, 3.53104686e-01, 5.95296496e-02],\n",
       "           [9.12561995e-01, 4.35085990e-01, 8.41230758e-01, ...,\n",
       "            2.88819955e-01, 9.43716855e-01, 3.36687192e-01],\n",
       "           ...,\n",
       "           [2.42351748e-01, 9.24776991e-01, 8.48043953e-01, ...,\n",
       "            1.04304404e-01, 8.30182433e-02, 6.03087296e-01],\n",
       "           [1.95883026e-01, 7.49595153e-01, 5.68242928e-01, ...,\n",
       "            5.85414000e-01, 2.05114710e-02, 6.40623569e-01],\n",
       "           [9.75086597e-01, 2.99612528e-01, 4.61574287e-01, ...,\n",
       "            4.89436205e-01, 6.71540376e-01, 2.71473513e-01]],\n",
       "\n",
       "          [[8.42120298e-01, 1.70159973e-01, 5.73400275e-01, ...,\n",
       "            7.38608272e-02, 8.28550253e-02, 8.12916893e-01],\n",
       "           [3.08409830e-01, 7.62819756e-01, 4.90546447e-01, ...,\n",
       "            3.35401801e-03, 9.49472472e-01, 1.67606345e-01],\n",
       "           [6.66223140e-01, 9.11935966e-01, 2.86021321e-01, ...,\n",
       "            6.26696285e-03, 1.90571096e-01, 3.89028614e-01],\n",
       "           ...,\n",
       "           [8.09056683e-01, 5.48676058e-01, 9.80789372e-01, ...,\n",
       "            6.13526710e-02, 3.95635680e-01, 8.01453940e-02],\n",
       "           [1.70578913e-01, 9.01499037e-01, 8.53263151e-01, ...,\n",
       "            1.40431757e-01, 2.67296168e-01, 1.09886357e-02],\n",
       "           [3.75730354e-01, 8.76693488e-01, 2.29827888e-01, ...,\n",
       "            9.81444849e-01, 5.65017393e-01, 7.56254925e-01]],\n",
       "\n",
       "          [[7.65848975e-01, 6.16161447e-02, 3.50009065e-03, ...,\n",
       "            4.79911419e-01, 7.49915137e-01, 4.03870583e-01],\n",
       "           [7.44654190e-01, 5.25648464e-01, 9.57714006e-01, ...,\n",
       "            5.08802078e-01, 2.84214501e-01, 3.47804967e-01],\n",
       "           [6.33984688e-02, 3.97695740e-01, 2.67664568e-01, ...,\n",
       "            8.77026538e-02, 4.54666456e-01, 7.71728526e-02],\n",
       "           ...,\n",
       "           [1.78860787e-01, 6.68580389e-01, 7.16757540e-01, ...,\n",
       "            9.85382241e-01, 1.97359724e-02, 9.46404664e-02],\n",
       "           [1.44653886e-01, 7.50242239e-02, 6.69888378e-01, ...,\n",
       "            6.80167197e-01, 6.09509510e-01, 1.48168358e-01],\n",
       "           [8.87772682e-02, 6.00514651e-01, 5.00069598e-01, ...,\n",
       "            6.10759147e-01, 1.31928980e-01, 6.56889330e-01]]],\n",
       "\n",
       "\n",
       "         [[[8.57721868e-01, 7.17591435e-01, 1.56793518e-01, ...,\n",
       "            3.27916147e-02, 6.03593057e-01, 1.16154160e-01],\n",
       "           [3.91787978e-01, 6.83811233e-01, 3.25251754e-01, ...,\n",
       "            6.58776483e-01, 9.88148505e-01, 6.68191135e-01],\n",
       "           [4.65942967e-01, 9.38878131e-01, 4.41114770e-01, ...,\n",
       "            3.89012881e-01, 8.16104626e-01, 8.67219288e-01],\n",
       "           ...,\n",
       "           [7.84107098e-01, 1.61380531e-01, 3.97124604e-01, ...,\n",
       "            1.59660932e-02, 8.46833405e-01, 5.30629595e-01],\n",
       "           [7.56560538e-01, 8.38694517e-01, 4.33587128e-01, ...,\n",
       "            7.55720050e-01, 9.03477852e-01, 5.99974908e-01],\n",
       "           [8.34548731e-01, 1.30848945e-01, 8.44384316e-01, ...,\n",
       "            1.48285013e-01, 4.43539146e-01, 8.44538599e-01]],\n",
       "\n",
       "          [[3.60652956e-01, 4.68749487e-01, 9.35102387e-01, ...,\n",
       "            8.72615727e-01, 1.97713895e-01, 2.93370386e-01],\n",
       "           [9.03819544e-01, 5.48090634e-01, 5.38733680e-02, ...,\n",
       "            9.85875941e-01, 8.14309042e-01, 8.18646470e-01],\n",
       "           [9.16158594e-01, 2.00581320e-02, 8.95493465e-01, ...,\n",
       "            2.86938992e-01, 2.93734156e-01, 2.56243913e-02],\n",
       "           ...,\n",
       "           [7.25286655e-01, 5.80119762e-01, 5.22287400e-01, ...,\n",
       "            2.68212590e-01, 3.31532817e-01, 9.74025192e-01],\n",
       "           [7.88102277e-01, 7.96227099e-01, 6.80636874e-01, ...,\n",
       "            3.64854544e-01, 8.06060289e-01, 8.00038649e-01],\n",
       "           [6.14234466e-01, 3.42818675e-01, 9.14401477e-01, ...,\n",
       "            5.93285896e-01, 7.60991831e-01, 1.78198093e-01]],\n",
       "\n",
       "          [[8.06006049e-01, 7.79408410e-01, 3.47873018e-02, ...,\n",
       "            1.05824034e-01, 3.07911176e-01, 2.27454470e-01],\n",
       "           [6.69802863e-01, 3.06438961e-01, 3.71961189e-01, ...,\n",
       "            8.46135388e-01, 1.71788616e-01, 5.97517568e-01],\n",
       "           [4.02752907e-03, 7.48318217e-01, 1.61856284e-01, ...,\n",
       "            4.63127987e-01, 4.54745832e-01, 2.58396125e-01],\n",
       "           ...,\n",
       "           [8.41077065e-01, 8.52844280e-01, 5.86183917e-01, ...,\n",
       "            9.84472750e-01, 1.77209188e-01, 8.42098554e-01],\n",
       "           [2.79156814e-01, 2.75167084e-01, 6.68196012e-01, ...,\n",
       "            5.57787284e-01, 2.27727447e-01, 5.56125283e-01],\n",
       "           [1.01995862e-01, 4.24638403e-01, 9.96547945e-01, ...,\n",
       "            1.17837420e-03, 7.55010633e-02, 9.62138380e-01]],\n",
       "\n",
       "          ...,\n",
       "\n",
       "          [[5.90989277e-01, 7.51845203e-02, 2.74558766e-01, ...,\n",
       "            3.31361097e-02, 8.87200597e-01, 5.63804449e-01],\n",
       "           [1.38081456e-01, 3.02483586e-01, 5.46617158e-01, ...,\n",
       "            4.17774115e-01, 5.39664702e-01, 3.31736760e-01],\n",
       "           [5.27972717e-01, 5.00494454e-01, 4.83276831e-01, ...,\n",
       "            7.56341202e-01, 7.41137053e-01, 2.77755744e-01],\n",
       "           ...,\n",
       "           [3.96487382e-01, 6.42751151e-01, 5.24054651e-01, ...,\n",
       "            8.68578651e-01, 2.02615017e-01, 2.05087493e-01],\n",
       "           [5.57172117e-01, 4.29296540e-01, 3.83556595e-01, ...,\n",
       "            4.64320096e-01, 8.15458440e-01, 9.18519962e-01],\n",
       "           [8.43918612e-01, 8.51374862e-01, 1.88061260e-01, ...,\n",
       "            4.32189330e-01, 5.73406058e-01, 7.00370557e-01]],\n",
       "\n",
       "          [[5.23100216e-01, 1.52540297e-02, 7.86090564e-01, ...,\n",
       "            7.66800715e-01, 5.23812545e-01, 3.44292720e-01],\n",
       "           [3.68686897e-01, 1.67195299e-01, 6.58473790e-01, ...,\n",
       "            1.78123821e-01, 5.58971514e-01, 5.96605040e-01],\n",
       "           [9.87630362e-01, 3.80521602e-01, 3.58795215e-01, ...,\n",
       "            5.10138978e-01, 7.06079728e-01, 6.27779466e-01],\n",
       "           ...,\n",
       "           [1.11774612e-04, 8.75241234e-02, 6.11750384e-01, ...,\n",
       "            2.71755644e-01, 7.36461560e-01, 9.10651199e-01],\n",
       "           [9.66149064e-01, 7.60572658e-01, 2.51652702e-01, ...,\n",
       "            5.91027027e-01, 6.16117472e-01, 3.77585761e-01],\n",
       "           [2.01944439e-01, 7.86757439e-01, 1.82634492e-01, ...,\n",
       "            6.19041591e-01, 6.26277596e-02, 5.05375750e-01]],\n",
       "\n",
       "          [[5.41716821e-01, 3.38328771e-01, 6.24639705e-01, ...,\n",
       "            2.71724750e-01, 9.83877663e-01, 7.69165147e-01],\n",
       "           [7.73840959e-01, 2.49793573e-02, 1.42621239e-01, ...,\n",
       "            1.83049100e-01, 3.95049756e-01, 2.48859909e-01],\n",
       "           [2.46839912e-01, 2.71471369e-01, 4.41889848e-01, ...,\n",
       "            2.36802806e-01, 9.09127478e-01, 7.54664821e-01],\n",
       "           ...,\n",
       "           [6.59554981e-01, 2.09252222e-02, 2.67962981e-01, ...,\n",
       "            7.77947248e-01, 5.76540060e-01, 7.38771299e-01],\n",
       "           [7.24209129e-01, 3.35207283e-02, 3.11615243e-01, ...,\n",
       "            6.67650462e-01, 1.58287242e-01, 2.99998983e-02],\n",
       "           [9.10464386e-01, 4.95486009e-01, 8.81594687e-01, ...,\n",
       "            2.95960581e-01, 2.02217871e-01, 4.45402995e-01]]]]]])"
      ]
     },
     "execution_count": 95,
     "metadata": {},
     "output_type": "execute_result"
    }
   ],
   "source": [
    "# Функция rand может принимать неограниченное число целых чисел для задания формы массива:\n",
    "np.random.rand(2, 3, 4, 10, 12, 23)"
   ]
  },
  {
   "cell_type": "code",
   "execution_count": 96,
   "id": "551e5545",
   "metadata": {},
   "outputs": [
    {
     "data": {
      "text/plain": [
       "array([[0.51373185, 0.0424948 , 0.23890421, 0.80198985],\n",
       "       [0.80864587, 0.552819  , 0.23417327, 0.37838043],\n",
       "       [0.22055154, 0.88405654, 0.48844739, 0.48540771]])"
      ]
     },
     "execution_count": 96,
     "metadata": {},
     "output_type": "execute_result"
    }
   ],
   "source": [
    "# Конечно, можно было бы распаковать кортеж, чтобы избавиться от ошибки:\n",
    "\n",
    "shape = (3, 4)\n",
    "np.random.rand(*shape)"
   ]
  },
  {
   "cell_type": "code",
   "execution_count": 97,
   "id": "3c0c6c96",
   "metadata": {},
   "outputs": [
    {
     "data": {
      "text/plain": [
       "array([[0.92915756, 0.6813606 , 0.92487827],\n",
       "       [0.24837916, 0.14226948, 0.31719493]])"
      ]
     },
     "execution_count": 97,
     "metadata": {},
     "output_type": "execute_result"
    }
   ],
   "source": [
    "# Но в NumPy есть и другая функция, генерирующая массивы случайных чисел от 0 до 1,\n",
    "# которая принимает в качестве аргумента именно кортеж без распаковки. Она называется sample:\n",
    "\n",
    "shape = (2, 3)\n",
    "np.random.sample(shape)"
   ]
  }
 ],
 "metadata": {
  "kernelspec": {
   "display_name": "Python 3",
   "language": "python",
   "name": "python3"
  },
  "language_info": {
   "codemirror_mode": {
    "name": "ipython",
    "version": 3
   },
   "file_extension": ".py",
   "mimetype": "text/x-python",
   "name": "python",
   "nbconvert_exporter": "python",
   "pygments_lexer": "ipython3",
   "version": "3.12.3"
  }
 },
 "nbformat": 4,
 "nbformat_minor": 5
}
