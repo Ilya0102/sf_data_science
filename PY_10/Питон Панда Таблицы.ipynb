{
 "cells": [
  {
   "cell_type": "code",
   "execution_count": null,
   "id": "b52f9eed",
   "metadata": {},
   "outputs": [],
   "source": [
    "import pandas as pd\n",
    "import numpy as np \n",
    "import os \n",
    "import re"
   ]
  },
  {
   "cell_type": "code",
   "execution_count": null,
   "id": "c025fcab",
   "metadata": {},
   "outputs": [],
   "source": [
    "# Для решения задач нам понадобится выделить из признака title год выпуска фильма. Для этого напишем функцию get_year_release(arg).\n",
    "\n",
    "#библиотека для регулярных выражений\n",
    "import re \n",
    "def get_year_release(arg):\n",
    "    #находим все слова по шаблону \"(DDDD)\"\n",
    "    candidates = re.findall(r'\\(\\d{4}\\)', arg) \n",
    "    # проверяем число вхождений\n",
    "    if len(candidates) > 0:\n",
    "        #если число вхождений больше 0,\n",
    "\t#очищаем строку от знаков \"(\" и \")\"\n",
    "        year = candidates[0].replace('(', '')\n",
    "        year = year.replace(')', '')\n",
    "        return int(year)\n",
    "    else:\n",
    "        #если год не указан, возвращаем None\n",
    "        return None"
   ]
  },
  {
   "cell_type": "code",
   "execution_count": 3,
   "id": "a05467b4",
   "metadata": {},
   "outputs": [
    {
     "data": {
      "text/html": [
       "<div>\n",
       "<style scoped>\n",
       "    .dataframe tbody tr th:only-of-type {\n",
       "        vertical-align: middle;\n",
       "    }\n",
       "\n",
       "    .dataframe tbody tr th {\n",
       "        vertical-align: top;\n",
       "    }\n",
       "\n",
       "    .dataframe thead th {\n",
       "        text-align: right;\n",
       "    }\n",
       "</style>\n",
       "<table border=\"1\" class=\"dataframe\">\n",
       "  <thead>\n",
       "    <tr style=\"text-align: right;\">\n",
       "      <th></th>\n",
       "      <th>Unnamed: 0</th>\n",
       "      <th>userId</th>\n",
       "      <th>movieId</th>\n",
       "      <th>rating</th>\n",
       "      <th>date</th>\n",
       "      <th>title</th>\n",
       "      <th>genres</th>\n",
       "    </tr>\n",
       "  </thead>\n",
       "  <tbody>\n",
       "    <tr>\n",
       "      <th>0</th>\n",
       "      <td>0</td>\n",
       "      <td>1</td>\n",
       "      <td>1</td>\n",
       "      <td>4.0</td>\n",
       "      <td>2000-07-30 18:45:03</td>\n",
       "      <td>Toy Story (1995)</td>\n",
       "      <td>Adventure|Animation|Children|Comedy|Fantasy</td>\n",
       "    </tr>\n",
       "    <tr>\n",
       "      <th>1</th>\n",
       "      <td>1</td>\n",
       "      <td>1</td>\n",
       "      <td>3</td>\n",
       "      <td>4.0</td>\n",
       "      <td>2000-07-30 18:20:47</td>\n",
       "      <td>Grumpier Old Men (1995)</td>\n",
       "      <td>Comedy|Romance</td>\n",
       "    </tr>\n",
       "    <tr>\n",
       "      <th>2</th>\n",
       "      <td>2</td>\n",
       "      <td>1</td>\n",
       "      <td>6</td>\n",
       "      <td>4.0</td>\n",
       "      <td>2000-07-30 18:37:04</td>\n",
       "      <td>Heat (1995)</td>\n",
       "      <td>Action|Crime|Thriller</td>\n",
       "    </tr>\n",
       "    <tr>\n",
       "      <th>3</th>\n",
       "      <td>3</td>\n",
       "      <td>1</td>\n",
       "      <td>47</td>\n",
       "      <td>5.0</td>\n",
       "      <td>2000-07-30 19:03:35</td>\n",
       "      <td>Seven (a.k.a. Se7en) (1995)</td>\n",
       "      <td>Mystery|Thriller</td>\n",
       "    </tr>\n",
       "    <tr>\n",
       "      <th>4</th>\n",
       "      <td>4</td>\n",
       "      <td>1</td>\n",
       "      <td>50</td>\n",
       "      <td>5.0</td>\n",
       "      <td>2000-07-30 18:48:51</td>\n",
       "      <td>Usual Suspects, The (1995)</td>\n",
       "      <td>Crime|Mystery|Thriller</td>\n",
       "    </tr>\n",
       "  </tbody>\n",
       "</table>\n",
       "</div>"
      ],
      "text/plain": [
       "   Unnamed: 0  userId  movieId  rating                 date  \\\n",
       "0           0       1        1     4.0  2000-07-30 18:45:03   \n",
       "1           1       1        3     4.0  2000-07-30 18:20:47   \n",
       "2           2       1        6     4.0  2000-07-30 18:37:04   \n",
       "3           3       1       47     5.0  2000-07-30 19:03:35   \n",
       "4           4       1       50     5.0  2000-07-30 18:48:51   \n",
       "\n",
       "                         title                                       genres  \n",
       "0             Toy Story (1995)  Adventure|Animation|Children|Comedy|Fantasy  \n",
       "1      Grumpier Old Men (1995)                               Comedy|Romance  \n",
       "2                  Heat (1995)                        Action|Crime|Thriller  \n",
       "3  Seven (a.k.a. Se7en) (1995)                             Mystery|Thriller  \n",
       "4   Usual Suspects, The (1995)                       Crime|Mystery|Thriller  "
      ]
     },
     "metadata": {},
     "output_type": "display_data"
    },
    {
     "data": {
      "text/html": [
       "<div>\n",
       "<style scoped>\n",
       "    .dataframe tbody tr th:only-of-type {\n",
       "        vertical-align: middle;\n",
       "    }\n",
       "\n",
       "    .dataframe tbody tr th {\n",
       "        vertical-align: top;\n",
       "    }\n",
       "\n",
       "    .dataframe thead th {\n",
       "        text-align: right;\n",
       "    }\n",
       "</style>\n",
       "<table border=\"1\" class=\"dataframe\">\n",
       "  <thead>\n",
       "    <tr style=\"text-align: right;\">\n",
       "      <th></th>\n",
       "      <th>Unnamed: 0</th>\n",
       "      <th>userId</th>\n",
       "      <th>movieId</th>\n",
       "      <th>rating</th>\n",
       "      <th>date</th>\n",
       "      <th>title</th>\n",
       "      <th>genres</th>\n",
       "    </tr>\n",
       "  </thead>\n",
       "  <tbody>\n",
       "    <tr>\n",
       "      <th>100831</th>\n",
       "      <td>100831</td>\n",
       "      <td>610</td>\n",
       "      <td>166534</td>\n",
       "      <td>4.0</td>\n",
       "      <td>2017-05-03 21:53:22</td>\n",
       "      <td>Split (2017)</td>\n",
       "      <td>Drama|Horror|Thriller</td>\n",
       "    </tr>\n",
       "    <tr>\n",
       "      <th>100832</th>\n",
       "      <td>100832</td>\n",
       "      <td>610</td>\n",
       "      <td>168248</td>\n",
       "      <td>5.0</td>\n",
       "      <td>2017-05-03 22:21:31</td>\n",
       "      <td>John Wick: Chapter Two (2017)</td>\n",
       "      <td>Action|Crime|Thriller</td>\n",
       "    </tr>\n",
       "    <tr>\n",
       "      <th>100833</th>\n",
       "      <td>100833</td>\n",
       "      <td>610</td>\n",
       "      <td>168250</td>\n",
       "      <td>5.0</td>\n",
       "      <td>2017-05-08 19:50:47</td>\n",
       "      <td>Get Out (2017)</td>\n",
       "      <td>Horror</td>\n",
       "    </tr>\n",
       "    <tr>\n",
       "      <th>100834</th>\n",
       "      <td>100834</td>\n",
       "      <td>610</td>\n",
       "      <td>168252</td>\n",
       "      <td>5.0</td>\n",
       "      <td>2017-05-03 21:19:12</td>\n",
       "      <td>Logan (2017)</td>\n",
       "      <td>Action|Sci-Fi</td>\n",
       "    </tr>\n",
       "    <tr>\n",
       "      <th>100835</th>\n",
       "      <td>100835</td>\n",
       "      <td>610</td>\n",
       "      <td>170875</td>\n",
       "      <td>3.0</td>\n",
       "      <td>2017-05-03 21:20:15</td>\n",
       "      <td>The Fate of the Furious (2017)</td>\n",
       "      <td>Action|Crime|Drama|Thriller</td>\n",
       "    </tr>\n",
       "  </tbody>\n",
       "</table>\n",
       "</div>"
      ],
      "text/plain": [
       "        Unnamed: 0  userId  movieId  rating                 date  \\\n",
       "100831      100831     610   166534     4.0  2017-05-03 21:53:22   \n",
       "100832      100832     610   168248     5.0  2017-05-03 22:21:31   \n",
       "100833      100833     610   168250     5.0  2017-05-08 19:50:47   \n",
       "100834      100834     610   168252     5.0  2017-05-03 21:19:12   \n",
       "100835      100835     610   170875     3.0  2017-05-03 21:20:15   \n",
       "\n",
       "                                 title                       genres  \n",
       "100831                    Split (2017)        Drama|Horror|Thriller  \n",
       "100832   John Wick: Chapter Two (2017)        Action|Crime|Thriller  \n",
       "100833                  Get Out (2017)                       Horror  \n",
       "100834                    Logan (2017)                Action|Sci-Fi  \n",
       "100835  The Fate of the Furious (2017)  Action|Crime|Drama|Thriller  "
      ]
     },
     "metadata": {},
     "output_type": "display_data"
    }
   ],
   "source": [
    "ratings_movies = pd.read_csv('data/ratings_movies.csv')\n",
    "display(ratings_movies.head())\n",
    "display(ratings_movies.tail())"
   ]
  },
  {
   "cell_type": "code",
   "execution_count": 5,
   "id": "b552466c",
   "metadata": {},
   "outputs": [
    {
     "data": {
      "text/plain": [
       "year_release\n",
       "1995.0    6144\n",
       "1994.0    5296\n",
       "1999.0    4536\n",
       "1996.0    4509\n",
       "2000.0    4268\n",
       "          ... \n",
       "1903.0       2\n",
       "1908.0       1\n",
       "1917.0       1\n",
       "1915.0       1\n",
       "1919.0       1\n",
       "Name: count, Length: 106, dtype: int64"
      ]
     },
     "execution_count": 5,
     "metadata": {},
     "output_type": "execute_result"
    }
   ],
   "source": [
    "ratings_movies['year_release'] = ratings_movies['title'].apply(get_year_release)\n",
    "ratings_movies['year_release'].value_counts()"
   ]
  },
  {
   "cell_type": "code",
   "execution_count": null,
   "id": "132e1502",
   "metadata": {},
   "outputs": [],
   "source": [
    "def isnon_poisk(year):\n",
    "    sch = 0\n",
    "    if year == None: sch+=1\n",
    "    else "
   ]
  },
  {
   "cell_type": "code",
   "execution_count": 6,
   "id": "d2f52bbf",
   "metadata": {},
   "outputs": [
    {
     "name": "stdout",
     "output_type": "stream",
     "text": [
      "Количество пустых ячеек в столбце 'year_release': 18\n"
     ]
    }
   ],
   "source": [
    "# Подсчёт пропущенных значений в столбце 'year_release'\n",
    "nan_count = ratings_movies['year_release'].isna().sum()\n",
    "\n",
    "print(f\"Количество пустых ячеек в столбце 'year_release': {nan_count}\")"
   ]
  },
  {
   "cell_type": "code",
   "execution_count": 17,
   "id": "82009c83",
   "metadata": {},
   "outputs": [
    {
     "data": {
      "text/plain": [
       "0.5"
      ]
     },
     "metadata": {},
     "output_type": "display_data"
    }
   ],
   "source": [
    "film_99 = ratings_movies['year_release'] == 1999\n",
    "display(ratings_movies[film_99]['rating'].min())"
   ]
  },
  {
   "cell_type": "code",
   "execution_count": 21,
   "id": "975787ad",
   "metadata": {},
   "outputs": [
    {
     "data": {
      "text/plain": [
       "title\n",
       "Bloodsport: The Dark Kumite (1999)            0.5\n",
       "Simon Sez (1999)                              1.0\n",
       "Chill Factor (1999)                           1.0\n",
       "Source, The (1999)                            1.0\n",
       "Trippin' (1999)                               1.0\n",
       "                                             ... \n",
       "Trailer Park Boys (1999)                      5.0\n",
       "Larry David: Curb Your Enthusiasm (1999)      5.0\n",
       "Sun Alley (Sonnenallee) (1999)                5.0\n",
       "George Carlin: You Are All Diseased (1999)    5.0\n",
       "Five Senses, The (1999)                       5.0\n",
       "Name: rating, Length: 261, dtype: float64"
      ]
     },
     "execution_count": 21,
     "metadata": {},
     "output_type": "execute_result"
    }
   ],
   "source": [
    "ratings_movies[film_99].groupby('title')['rating'].mean().sort_values()"
   ]
  },
  {
   "cell_type": "code",
   "execution_count": 22,
   "id": "c8cf97b3",
   "metadata": {},
   "outputs": [],
   "source": [
    "flim_10 = ratings_movies['year_release'] == 2010\n"
   ]
  },
  {
   "cell_type": "code",
   "execution_count": 26,
   "id": "6adaa058",
   "metadata": {},
   "outputs": [
    {
     "data": {
      "text/plain": [
       "genres\n",
       "Action|Sci-Fi                        1.000000\n",
       "Action|Adventure|Horror              1.500000\n",
       "Action|Drama|Fantasy                 1.500000\n",
       "Crime|Romance                        1.500000\n",
       "Adventure|Comedy|Fantasy             1.833333\n",
       "                                       ...   \n",
       "Crime                                4.750000\n",
       "Comedy|Musical                       5.000000\n",
       "Animation|Drama|Fantasy|Mystery      5.000000\n",
       "Adventure|Children|Comedy|Mystery    5.000000\n",
       "Animation|Children|Mystery           5.000000\n",
       "Name: rating, Length: 119, dtype: float64"
      ]
     },
     "execution_count": 26,
     "metadata": {},
     "output_type": "execute_result"
    }
   ],
   "source": [
    "ratings_movies[flim_10].groupby('genres')['rating'].mean().sort_values()"
   ]
  },
  {
   "cell_type": "code",
   "execution_count": 51,
   "id": "ffdda666",
   "metadata": {},
   "outputs": [
    {
     "data": {
      "text/plain": [
       "<bound method Series.info of userId\n",
       "1      [Adventure|Animation|Children|Comedy|Fantasy, ...\n",
       "2      [Crime|Drama, Comedy, Drama|Romance, Action|Ad...\n",
       "3      [Drama, Drama|War, Action|Crime|Drama|War, Act...\n",
       "4      [Comedy|Crime|Thriller, Mystery|Sci-Fi|Thrille...\n",
       "5      [Adventure|Animation|Children|Comedy|Fantasy, ...\n",
       "                             ...                        \n",
       "606    [Adventure|Animation|Children|Comedy|Fantasy, ...\n",
       "607    [Adventure|Animation|Children|Comedy|Fantasy, ...\n",
       "608    [Adventure|Animation|Children|Comedy|Fantasy, ...\n",
       "609    [Adventure|Animation|Children|Comedy|Fantasy, ...\n",
       "610    [Adventure|Animation|Children|Comedy|Fantasy, ...\n",
       "Name: genres, Length: 610, dtype: object>"
      ]
     },
     "execution_count": 51,
     "metadata": {},
     "output_type": "execute_result"
    }
   ],
   "source": [
    "dewq = ratings_movies.groupby('userId')['genres'].unique()\n",
    "#display(dewq)\n",
    "dewq.info"
   ]
  },
  {
   "cell_type": "code",
   "execution_count": 52,
   "id": "ea51dc27",
   "metadata": {},
   "outputs": [
    {
     "name": "stdout",
     "output_type": "stream",
     "text": [
      "Пользователь с наибольшим количеством уникальных комбинаций жанров: 599\n"
     ]
    }
   ],
   "source": [
    "# Предположим, что данные загружены в DataFrame `ratings_movies`\n",
    "# Структура данных:\n",
    "#   - userId: идентификатор пользователя\n",
    "#   - genres: жанры фильмов (например, \"Comedy|Drama\")\n",
    "\n",
    "# Группируем по userId и считаем уникальные комбинации genres\n",
    "user_unique_genres = ratings_movies.groupby('userId')['genres'].nunique()\n",
    "\n",
    "# Сортируем по убыванию\n",
    "user_unique_genres_sorted = user_unique_genres.sort_values(ascending=False)\n",
    "\n",
    "# Выбираем userId с максимальным количеством уникальных комбинаций жанров\n",
    "top_user = user_unique_genres_sorted.index[0]\n",
    "\n",
    "print(f\"Пользователь с наибольшим количеством уникальных комбинаций жанров: {top_user}\")"
   ]
  },
  {
   "cell_type": "code",
   "execution_count": 53,
   "id": "3128c94f",
   "metadata": {},
   "outputs": [
    {
     "name": "stdout",
     "output_type": "stream",
     "text": [
      "Искомый пользователь: 53.0\n"
     ]
    }
   ],
   "source": [
    "# Группируем данные по пользователям и вычисляем количество оценок и средний рейтинг\n",
    "user_stats = ratings_movies.groupby('userId').agg(\n",
    "    rating_count=('rating', 'count'),  # Количество оценок\n",
    "    avg_rating=('rating', 'mean')      # Средний рейтинг\n",
    ").reset_index()\n",
    "\n",
    "# Сортируем: сначала по количеству оценок (по возрастанию), затем по среднему рейтингу (по убыванию)\n",
    "sorted_users = user_stats.sort_values(\n",
    "    by=['rating_count', 'avg_rating'],\n",
    "    ascending=[True, False]\n",
    ")\n",
    "\n",
    "# Выбираем пользователя с наименьшим количеством оценок и наибольшим средним рейтингом\n",
    "target_user = sorted_users.iloc[0]['userId']\n",
    "\n",
    "print(f\"Искомый пользователь: {target_user}\")"
   ]
  },
  {
   "cell_type": "code",
   "execution_count": 54,
   "id": "289d87ea",
   "metadata": {},
   "outputs": [
    {
     "name": "stdout",
     "output_type": "stream",
     "text": [
      "Сочетание жанров с наибольшим средним рейтингом: Action|Adventure|Sci-Fi\n"
     ]
    }
   ],
   "source": [
    "# Фильтрация данных за 2018 год\n",
    "movies_2018 = ratings_movies[ratings_movies['year_release'] == 2018]\n",
    "\n",
    "# Группировка по жанрам с расчетом среднего рейтинга и количества оценок\n",
    "genre_stats = movies_2018.groupby('genres').agg(\n",
    "    avg_rating=('rating', 'mean'),      # Средний рейтинг\n",
    "    rating_count=('rating', 'count')    # Количество оценок\n",
    ").reset_index()\n",
    "\n",
    "# Фильтрация жанров с количеством оценок > 10\n",
    "filtered_genres = genre_stats[genre_stats['rating_count'] > 10]\n",
    "\n",
    "# Сортировка по среднему рейтингу (по убыванию)\n",
    "sorted_genres = filtered_genres.sort_values('avg_rating', ascending=False)\n",
    "\n",
    "# Выбор сочетания жанров с наибольшим средним рейтингом\n",
    "top_genre_combination = sorted_genres.iloc[0]['genres']\n",
    "\n",
    "print(f\"Сочетание жанров с наибольшим средним рейтингом: {top_genre_combination}\")"
   ]
  },
  {
   "cell_type": "code",
   "execution_count": 55,
   "id": "ecafeaf8",
   "metadata": {},
   "outputs": [],
   "source": [
    "ratings_movies['date'] = pd.to_datetime(ratings_movies['date'])"
   ]
  },
  {
   "cell_type": "code",
   "execution_count": 56,
   "id": "4fa86877",
   "metadata": {},
   "outputs": [],
   "source": [
    "ratings_movies['year_rating'] = ratings_movies['date'].dt.year"
   ]
  },
  {
   "cell_type": "code",
   "execution_count": null,
   "id": "7bccbf92",
   "metadata": {},
   "outputs": [],
   "source": [
    "ratings_movies.pivot_table(\n",
    "    values='rating',\n",
    "    index='year_rating',\n",
    "    columns='genres',\n",
    "    aggfunc='mean'\n",
    ")"
   ]
  },
  {
   "cell_type": "code",
   "execution_count": 73,
   "id": "17a16a23",
   "metadata": {},
   "outputs": [],
   "source": [
    "orders = pd.read_csv('data/orders_and_products/orders.csv',sep=';')\n"
   ]
  },
  {
   "cell_type": "code",
   "execution_count": 68,
   "id": "28607571",
   "metadata": {},
   "outputs": [],
   "source": [
    "products = pd.read_csv('data/orders_and_products/products.csv',sep=';')"
   ]
  },
  {
   "cell_type": "code",
   "execution_count": null,
   "id": "f952bcae",
   "metadata": {},
   "outputs": [],
   "source": [
    "display(orders)\n",
    "display(products)"
   ]
  },
  {
   "cell_type": "code",
   "execution_count": 76,
   "id": "d58ce676",
   "metadata": {},
   "outputs": [
    {
     "name": "stdout",
     "output_type": "stream",
     "text": [
      "<class 'pandas.core.frame.DataFrame'>\n",
      "RangeIndex: 18 entries, 0 to 17\n",
      "Data columns (total 9 columns):\n",
      " #   Column         Non-Null Count  Dtype \n",
      "---  ------         --------------  ----- \n",
      " 0   Дата создания  18 non-null     object\n",
      " 1   Order ID       18 non-null     int64 \n",
      " 2   ID Покупателя  18 non-null     int64 \n",
      " 3   Статус         18 non-null     object\n",
      " 4   Оплачен        18 non-null     object\n",
      " 5   Отменен        18 non-null     object\n",
      " 6   Отгружен       18 non-null     object\n",
      " 7   ID товара      18 non-null     int64 \n",
      " 8   Количество     18 non-null     int64 \n",
      "dtypes: int64(4), object(5)\n",
      "memory usage: 1.4+ KB\n"
     ]
    }
   ],
   "source": [
    "orders.info()"
   ]
  },
  {
   "cell_type": "code",
   "execution_count": 77,
   "id": "99254194",
   "metadata": {},
   "outputs": [
    {
     "name": "stdout",
     "output_type": "stream",
     "text": [
      "<class 'pandas.core.frame.DataFrame'>\n",
      "RangeIndex: 14 entries, 0 to 13\n",
      "Data columns (total 4 columns):\n",
      " #   Column      Non-Null Count  Dtype \n",
      "---  ------      --------------  ----- \n",
      " 0   Product_ID  14 non-null     int64 \n",
      " 1   Name        14 non-null     object\n",
      " 2   Price       14 non-null     int64 \n",
      " 3   CURRENCY    14 non-null     object\n",
      "dtypes: int64(2), object(2)\n",
      "memory usage: 580.0+ bytes\n"
     ]
    }
   ],
   "source": [
    "products.info()"
   ]
  },
  {
   "cell_type": "code",
   "execution_count": 80,
   "id": "97d972f5",
   "metadata": {},
   "outputs": [
    {
     "data": {
      "text/plain": [
       "(18, 9)"
      ]
     },
     "metadata": {},
     "output_type": "display_data"
    },
    {
     "data": {
      "text/plain": [
       "(14, 4)"
      ]
     },
     "metadata": {},
     "output_type": "display_data"
    }
   ],
   "source": [
    "display(orders.shape)\n",
    "display(products.shape)"
   ]
  },
  {
   "cell_type": "code",
   "execution_count": null,
   "id": "93ae9d34",
   "metadata": {},
   "outputs": [],
   "source": [
    "orders_products = orders.merge(\n",
    "    products,\n",
    "    how='left',\n",
    "    left_on='ID товара',\n",
    "    right_on='Product_ID'\n",
    ")\n",
    "display(orders_products)"
   ]
  },
  {
   "cell_type": "code",
   "execution_count": null,
   "id": "7a2ee30f",
   "metadata": {},
   "outputs": [],
   "source": [
    "orders_products = orders_products.drop('Product_ID',axis=1)\n",
    "display(orders_products)"
   ]
  },
  {
   "cell_type": "code",
   "execution_count": null,
   "id": "bba0a871",
   "metadata": {},
   "outputs": [],
   "source": [
    "orders_products['Дата создания'] = pd.to_datetime(orders_products['Дата создания'])\n",
    "display(orders_products)"
   ]
  },
  {
   "cell_type": "code",
   "execution_count": null,
   "id": "5e20f592",
   "metadata": {},
   "outputs": [],
   "source": [
    "orders_products['profit'] = orders_products['Price']*orders_products['Количество']\n",
    "\n",
    "display(orders_products)"
   ]
  },
  {
   "cell_type": "code",
   "execution_count": 115,
   "id": "2e9f3b49",
   "metadata": {},
   "outputs": [
    {
     "data": {
      "text/html": [
       "<div>\n",
       "<style scoped>\n",
       "    .dataframe tbody tr th:only-of-type {\n",
       "        vertical-align: middle;\n",
       "    }\n",
       "\n",
       "    .dataframe tbody tr th {\n",
       "        vertical-align: top;\n",
       "    }\n",
       "\n",
       "    .dataframe thead th {\n",
       "        text-align: right;\n",
       "    }\n",
       "</style>\n",
       "<table border=\"1\" class=\"dataframe\">\n",
       "  <thead>\n",
       "    <tr style=\"text-align: right;\">\n",
       "      <th></th>\n",
       "      <th>Дата создания</th>\n",
       "      <th>Order ID</th>\n",
       "      <th>ID Покупателя</th>\n",
       "      <th>Статус</th>\n",
       "      <th>Оплачен</th>\n",
       "      <th>Отменен</th>\n",
       "      <th>Отгружен</th>\n",
       "      <th>ID товара</th>\n",
       "      <th>Количество</th>\n",
       "      <th>Name</th>\n",
       "      <th>Price</th>\n",
       "      <th>CURRENCY</th>\n",
       "      <th>profit</th>\n",
       "    </tr>\n",
       "  </thead>\n",
       "  <tbody>\n",
       "    <tr>\n",
       "      <th>8</th>\n",
       "      <td>2019-08-11 08:36:22</td>\n",
       "      <td>3</td>\n",
       "      <td>8</td>\n",
       "      <td>Оплачен, формируется к отправке</td>\n",
       "      <td>Да</td>\n",
       "      <td>Нет</td>\n",
       "      <td>Нет</td>\n",
       "      <td>103</td>\n",
       "      <td>3</td>\n",
       "      <td>Носки Подарочные, муж</td>\n",
       "      <td>199.0</td>\n",
       "      <td>RUR</td>\n",
       "      <td>597.0</td>\n",
       "    </tr>\n",
       "    <tr>\n",
       "      <th>9</th>\n",
       "      <td>2019-08-11 08:36:22</td>\n",
       "      <td>3</td>\n",
       "      <td>8</td>\n",
       "      <td>Оплачен, формируется к отправке</td>\n",
       "      <td>Да</td>\n",
       "      <td>Нет</td>\n",
       "      <td>Нет</td>\n",
       "      <td>104</td>\n",
       "      <td>3</td>\n",
       "      <td>Носки Подарочные, жен</td>\n",
       "      <td>249.0</td>\n",
       "      <td>RUR</td>\n",
       "      <td>747.0</td>\n",
       "    </tr>\n",
       "    <tr>\n",
       "      <th>10</th>\n",
       "      <td>2019-08-11 08:36:21</td>\n",
       "      <td>2</td>\n",
       "      <td>7</td>\n",
       "      <td>Выполнен</td>\n",
       "      <td>Да</td>\n",
       "      <td>Нет</td>\n",
       "      <td>Да</td>\n",
       "      <td>74</td>\n",
       "      <td>1</td>\n",
       "      <td>Платье Ночная Жизнь XXXL</td>\n",
       "      <td>8999.0</td>\n",
       "      <td>RUR</td>\n",
       "      <td>8999.0</td>\n",
       "    </tr>\n",
       "    <tr>\n",
       "      <th>11</th>\n",
       "      <td>2019-08-11 08:36:21</td>\n",
       "      <td>2</td>\n",
       "      <td>7</td>\n",
       "      <td>Выполнен</td>\n",
       "      <td>Да</td>\n",
       "      <td>Нет</td>\n",
       "      <td>Да</td>\n",
       "      <td>53</td>\n",
       "      <td>1</td>\n",
       "      <td>Штаны Цветочная Поляна</td>\n",
       "      <td>4999.0</td>\n",
       "      <td>RUR</td>\n",
       "      <td>4999.0</td>\n",
       "    </tr>\n",
       "    <tr>\n",
       "      <th>12</th>\n",
       "      <td>2019-08-11 08:36:21</td>\n",
       "      <td>2</td>\n",
       "      <td>7</td>\n",
       "      <td>Выполнен</td>\n",
       "      <td>Да</td>\n",
       "      <td>Нет</td>\n",
       "      <td>Да</td>\n",
       "      <td>137</td>\n",
       "      <td>1</td>\n",
       "      <td>Гольфы детские Снегурочка</td>\n",
       "      <td>99.0</td>\n",
       "      <td>RUR</td>\n",
       "      <td>99.0</td>\n",
       "    </tr>\n",
       "    <tr>\n",
       "      <th>13</th>\n",
       "      <td>2019-08-11 08:36:21</td>\n",
       "      <td>2</td>\n",
       "      <td>7</td>\n",
       "      <td>Выполнен</td>\n",
       "      <td>Да</td>\n",
       "      <td>Нет</td>\n",
       "      <td>Да</td>\n",
       "      <td>47</td>\n",
       "      <td>1</td>\n",
       "      <td>Шатны Полосатый рейс</td>\n",
       "      <td>2999.0</td>\n",
       "      <td>RUR</td>\n",
       "      <td>2999.0</td>\n",
       "    </tr>\n",
       "    <tr>\n",
       "      <th>14</th>\n",
       "      <td>2019-08-11 08:36:20</td>\n",
       "      <td>1</td>\n",
       "      <td>5</td>\n",
       "      <td>Оплачен, формируется к отправке</td>\n",
       "      <td>Да</td>\n",
       "      <td>Нет</td>\n",
       "      <td>Нет</td>\n",
       "      <td>71</td>\n",
       "      <td>1</td>\n",
       "      <td>Платье Ночная Жизнь</td>\n",
       "      <td>7999.0</td>\n",
       "      <td>RUR</td>\n",
       "      <td>7999.0</td>\n",
       "    </tr>\n",
       "    <tr>\n",
       "      <th>15</th>\n",
       "      <td>2019-08-11 08:36:20</td>\n",
       "      <td>1</td>\n",
       "      <td>5</td>\n",
       "      <td>Оплачен, формируется к отправке</td>\n",
       "      <td>Да</td>\n",
       "      <td>Нет</td>\n",
       "      <td>Нет</td>\n",
       "      <td>86</td>\n",
       "      <td>1</td>\n",
       "      <td>Носки Простые, муж</td>\n",
       "      <td>45.0</td>\n",
       "      <td>RUR</td>\n",
       "      <td>45.0</td>\n",
       "    </tr>\n",
       "    <tr>\n",
       "      <th>16</th>\n",
       "      <td>2019-08-11 08:36:20</td>\n",
       "      <td>1</td>\n",
       "      <td>5</td>\n",
       "      <td>Оплачен, формируется к отправке</td>\n",
       "      <td>Да</td>\n",
       "      <td>Нет</td>\n",
       "      <td>Нет</td>\n",
       "      <td>51</td>\n",
       "      <td>1</td>\n",
       "      <td>Платье Аленький цветочек</td>\n",
       "      <td>4999.0</td>\n",
       "      <td>RUR</td>\n",
       "      <td>4999.0</td>\n",
       "    </tr>\n",
       "    <tr>\n",
       "      <th>17</th>\n",
       "      <td>2001-01-01 00:00:00</td>\n",
       "      <td>0</td>\n",
       "      <td>1</td>\n",
       "      <td>Оплачен, формируется к отправке</td>\n",
       "      <td>Да</td>\n",
       "      <td>Нет</td>\n",
       "      <td>Нет</td>\n",
       "      <td>666</td>\n",
       "      <td>1</td>\n",
       "      <td>NaN</td>\n",
       "      <td>NaN</td>\n",
       "      <td>NaN</td>\n",
       "      <td>NaN</td>\n",
       "    </tr>\n",
       "  </tbody>\n",
       "</table>\n",
       "</div>"
      ],
      "text/plain": [
       "         Дата создания  Order ID  ID Покупателя  \\\n",
       "8  2019-08-11 08:36:22         3              8   \n",
       "9  2019-08-11 08:36:22         3              8   \n",
       "10 2019-08-11 08:36:21         2              7   \n",
       "11 2019-08-11 08:36:21         2              7   \n",
       "12 2019-08-11 08:36:21         2              7   \n",
       "13 2019-08-11 08:36:21         2              7   \n",
       "14 2019-08-11 08:36:20         1              5   \n",
       "15 2019-08-11 08:36:20         1              5   \n",
       "16 2019-08-11 08:36:20         1              5   \n",
       "17 2001-01-01 00:00:00         0              1   \n",
       "\n",
       "                             Статус Оплачен Отменен Отгружен  ID товара  \\\n",
       "8   Оплачен, формируется к отправке      Да     Нет      Нет        103   \n",
       "9   Оплачен, формируется к отправке      Да     Нет      Нет        104   \n",
       "10                         Выполнен      Да     Нет       Да         74   \n",
       "11                         Выполнен      Да     Нет       Да         53   \n",
       "12                         Выполнен      Да     Нет       Да        137   \n",
       "13                         Выполнен      Да     Нет       Да         47   \n",
       "14  Оплачен, формируется к отправке      Да     Нет      Нет         71   \n",
       "15  Оплачен, формируется к отправке      Да     Нет      Нет         86   \n",
       "16  Оплачен, формируется к отправке      Да     Нет      Нет         51   \n",
       "17  Оплачен, формируется к отправке      Да     Нет      Нет        666   \n",
       "\n",
       "    Количество                       Name   Price CURRENCY  profit  \n",
       "8            3      Носки Подарочные, муж   199.0      RUR   597.0  \n",
       "9            3      Носки Подарочные, жен   249.0      RUR   747.0  \n",
       "10           1   Платье Ночная Жизнь XXXL  8999.0      RUR  8999.0  \n",
       "11           1     Штаны Цветочная Поляна  4999.0      RUR  4999.0  \n",
       "12           1  Гольфы детские Снегурочка    99.0      RUR    99.0  \n",
       "13           1       Шатны Полосатый рейс  2999.0      RUR  2999.0  \n",
       "14           1        Платье Ночная Жизнь  7999.0      RUR  7999.0  \n",
       "15           1         Носки Простые, муж    45.0      RUR    45.0  \n",
       "16           1   Платье Аленький цветочек  4999.0      RUR  4999.0  \n",
       "17           1                        NaN     NaN      NaN     NaN  "
      ]
     },
     "metadata": {},
     "output_type": "display_data"
    }
   ],
   "source": [
    "filtr = orders_products[orders_products['Оплачен'] == 'Да']\n",
    "display(filtr)"
   ]
  },
  {
   "cell_type": "code",
   "execution_count": 117,
   "id": "c6e5e820",
   "metadata": {},
   "outputs": [
    {
     "data": {
      "text/plain": [
       "ID Покупателя\n",
       "1        0.0\n",
       "5    13043.0\n",
       "7    17096.0\n",
       "8     1344.0\n",
       "Name: profit, dtype: float64"
      ]
     },
     "metadata": {},
     "output_type": "display_data"
    }
   ],
   "source": [
    "sum_order = filtr.groupby('ID Покупателя')['profit'].sum()\n",
    "display(sum_order)"
   ]
  },
  {
   "cell_type": "code",
   "execution_count": 118,
   "id": "1ac709e6",
   "metadata": {},
   "outputs": [
    {
     "name": "stdout",
     "output_type": "stream",
     "text": [
      "ID Покупателя\n",
      "7    17096.0\n",
      "5    13043.0\n",
      "8     1344.0\n",
      "1        0.0\n",
      "Name: profit, dtype: float64\n"
     ]
    }
   ],
   "source": [
    "print(sum_order.sort_values(ascending=False))"
   ]
  }
 ],
 "metadata": {
  "kernelspec": {
   "display_name": "Python 3",
   "language": "python",
   "name": "python3"
  },
  "language_info": {
   "codemirror_mode": {
    "name": "ipython",
    "version": 3
   },
   "file_extension": ".py",
   "mimetype": "text/x-python",
   "name": "python",
   "nbconvert_exporter": "python",
   "pygments_lexer": "ipython3",
   "version": "3.12.3"
  }
 },
 "nbformat": 4,
 "nbformat_minor": 5
}
